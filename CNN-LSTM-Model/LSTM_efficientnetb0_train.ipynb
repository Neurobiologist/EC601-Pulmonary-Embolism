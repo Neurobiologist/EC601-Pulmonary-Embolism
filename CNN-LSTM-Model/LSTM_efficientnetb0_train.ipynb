{
 "cells": [
  {
   "cell_type": "code",
   "execution_count": 1,
   "metadata": {},
   "outputs": [],
   "source": [
    "from __future__ import division\n",
    "import argparse\n",
    "import torch\n",
    "import torch.nn.functional as F\n",
    "import torchvision.datasets as dset\n",
    "import torchvision.transforms as T\n",
    "import torchvision.models as models\n",
    "import pandas as pd\n",
    "import os\n",
    "import pydicom\n",
    "import numpy as np\n",
    "import h5py\n",
    "import time\n",
    "from tqdm import tqdm as tqdm\n",
    "import cv2\n",
    "import pickle\n",
    "from shutil import copyfile\n",
    "from matplotlib import pyplot as plt\n",
    "import seaborn as sns\n",
    "import random\n",
    "from torch import nn\n",
    "from torch.autograd import Variable"
   ]
  },
  {
   "cell_type": "markdown",
   "metadata": {},
   "source": [
    "Image Level\n",
    "==========="
   ]
  },
  {
   "cell_type": "code",
   "execution_count": 44,
   "metadata": {},
   "outputs": [],
   "source": [
    "class StudyLevelDataset(torch.utils.data.Dataset):\n",
    "    \"\"\"Kaggle PE dataset.\"\"\"\n",
    "\n",
    "    def __init__(self, csv_file, stage):\n",
    "        \"\"\"\n",
    "        Args:\n",
    "            csv_file (string): Path to the csv file.\n",
    "            transform (callable, optional): Optional transform to be applied\n",
    "                on a sample.\n",
    "        \"\"\"\n",
    "        self.pedataframe = pd.read_csv(csv_file)\n",
    "        \n",
    "        self.hdf5_filename = '/scratch/features.hdf5'\n",
    "        \n",
    "        self._generate_row_indices_list()\n",
    "        \n",
    "        self.stage = stage\n",
    "        \n",
    "        if self.stage == 'train':\n",
    "            self.start = 0\n",
    "            self.end = 2650\n",
    "        else:\n",
    "            self.start = 2660\n",
    "            self.end = 3500\n",
    "        \n",
    "        # 0 - 2650 train\n",
    "        # 2660 - 3500 valid\n",
    "\n",
    "    def __len__(self):\n",
    "        \"\"\" Return number of 2D images. (Each CT slice is an independent image.)\"\"\"\n",
    "        #return len(self.pedataframe)\n",
    "        return self.end - self.start + 1\n",
    "        #return num_pos_samples_per_dataset + num_neg_samples_per_dataset\n",
    "        \n",
    "    def _generate_row_indices_list(self):\n",
    "        # group slice indices into studies\n",
    "        self.row_indices = [] # index into train df for every study\n",
    "        current_study_id = ''\n",
    "\n",
    "        for slice_index in range(len(self.pedataframe)):\n",
    "            new_study_id = self.pedataframe.StudyInstanceUID[slice_index]\n",
    "            if new_study_id != current_study_id:\n",
    "                self.row_indices.append(slice_index)\n",
    "                current_study_id = new_study_id\n",
    "            if slice_index % 100000 == 0:\n",
    "                print(slice_index)\n",
    "        \n",
    "    def __getitem__(self, study_index):\n",
    "        '''  '''\n",
    "        study_index = study_index + self.start\n",
    "        \n",
    "        h5py_file = h5py.File(self.hdf5_filename, \"r\")\n",
    "        \n",
    "        start_index = self.row_indices[study_index]\n",
    "        if study_index+1 < len(self.row_indices):\n",
    "            stop_index = self.row_indices[study_index+1]\n",
    "        else:\n",
    "            stop_index = len(self.pedataframe)\n",
    "            \n",
    "        # dim: seq_len x embedding_dim\n",
    "        x = np.ones((stop_index-start_index, 1280))  #embedding dim = 1280 for efficientnetb0\n",
    "        y = np.ones(stop_index-start_index)\n",
    "            \n",
    "        for slice_index in range(start_index, stop_index):\n",
    "            data_identifier = 'tensor(' + str(slice_index) + ')'\n",
    "            slice_embeddings = h5py_file[data_identifier][:]\n",
    "            x[slice_index-start_index,:] = slice_embeddings\n",
    "            \n",
    "            pe_present_on_image = float(int(self.pedataframe.pe_present_on_image[slice_index]))\n",
    "            y[slice_index-start_index] = pe_present_on_image\n",
    "        \n",
    "        h5py_file.close()\n",
    "        \n",
    "        return x, y"
   ]
  },
  {
   "cell_type": "code",
   "execution_count": 45,
   "metadata": {},
   "outputs": [],
   "source": [
    "hdf5_filename = '/scratch/features.hdf5'\n",
    "h5py_file = h5py.File(hdf5_filename, \"r\")\n",
    "h5py_file['tensor(12)'][:]\n",
    "\n",
    "h5py_file.close()"
   ]
  },
  {
   "cell_type": "code",
   "execution_count": 46,
   "metadata": {},
   "outputs": [
    {
     "name": "stdout",
     "output_type": "stream",
     "text": [
      "0\n",
      "100000\n",
      "200000\n",
      "300000\n",
      "400000\n",
      "500000\n",
      "600000\n",
      "700000\n",
      "800000\n",
      "900000\n",
      "1000000\n",
      "1100000\n",
      "1200000\n",
      "1300000\n",
      "1400000\n",
      "1500000\n",
      "1600000\n",
      "1700000\n",
      "0\n",
      "100000\n",
      "200000\n",
      "300000\n",
      "400000\n",
      "500000\n",
      "600000\n",
      "700000\n",
      "800000\n",
      "900000\n",
      "1000000\n",
      "1100000\n",
      "1200000\n",
      "1300000\n",
      "1400000\n",
      "1500000\n",
      "1600000\n",
      "1700000\n"
     ]
    }
   ],
   "source": [
    "data_dir = '/projectnb/ece601/kaggle-pulmonary-embolism/rsna-str-pulmonary-embolism-detection/'\n",
    "train_csv = data_dir + 'train.csv'\n",
    "train_dir = data_dir + 'train/'\n",
    "train_dataset = StudyLevelDataset(csv_file=train_csv, stage='train')\n",
    "valid_dataset = StudyLevelDataset(csv_file=train_csv, stage='valid')"
   ]
  },
  {
   "cell_type": "code",
   "execution_count": 47,
   "metadata": {},
   "outputs": [],
   "source": [
    "'''\n",
    "https://towardsdatascience.com/taming-lstms-variable-sized-mini-batches-and-why-pytorch-is-good-for-your-health-61d35642972e\n",
    "'''\n",
    "\n",
    "batch_size = 1\n",
    "embedding_dim = 1280\n",
    "nb_lstm_units = 64\n",
    "\n",
    "class MyLSTM(nn.Module):\n",
    "    def __init__(self, nb_layers=1, nb_lstm_units=nb_lstm_units, \n",
    "                 embedding_dim=embedding_dim, batch_size=batch_size):\n",
    "        \n",
    "        super(MyLSTM, self).__init__()\n",
    "\n",
    "        self.nb_layers = nb_layers\n",
    "        self.nb_lstm_units = nb_lstm_units\n",
    "        self.embedding_dim = embedding_dim\n",
    "        self.batch_size = batch_size\n",
    "\n",
    "        self.lstm = nn.LSTM(\n",
    "            input_size=self.embedding_dim,\n",
    "            hidden_size=self.nb_lstm_units,\n",
    "            num_layers=self.nb_layers,\n",
    "            batch_first=True\n",
    "        )\n",
    "\n",
    "        # output layer\n",
    "        self.linear = nn.Linear(self.nb_lstm_units, 1)\n",
    "\n",
    "    def init_hidden(self):\n",
    "        # the weights are of the form (nb_layers, batch_size, nb_lstm_units)\n",
    "        hidden_h0 = torch.randn(self.nb_layers, self.batch_size, self.nb_lstm_units)\n",
    "        hidden_c0 = torch.randn(self.nb_layers, self.batch_size, self.nb_lstm_units)\n",
    "\n",
    "        hidden_h0 = hidden_h0.to(device)\n",
    "        hidden_c0 = hidden_c0.to(device)\n",
    "\n",
    "        hidden_h0 = Variable(hidden_h0)\n",
    "        hidden_c0 = Variable(hidden_c0)\n",
    "\n",
    "        return (hidden_h0.to(device), hidden_c0.to(device))\n",
    "    \n",
    "    def forward(self, X):\n",
    "        # reset the LSTM hidden state. Must be done before you run a new batch. Otherwise the LSTM will treat\n",
    "        # a new batch as a continuation of a sequence\n",
    "        self.hidden = self.init_hidden()\n",
    "\n",
    "        batch_size, seq_len, _ = X.size()\n",
    "\n",
    "        # pack_padded_sequence so that padded items in the sequence won't be shown to the LSTM\n",
    "        #X = torch.nn.utils.rnn.pack_padded_sequence(x, X_lengths, batch_first=True)\n",
    "\n",
    "        # now run through LSTM\n",
    "        X, self.hidden = self.lstm(X, self.hidden)\n",
    "\n",
    "        # undo the packing operation\n",
    "        #X, _ = torch.nn.utils.rnn.pad_packed_sequence(X, batch_first=True)\n",
    "\n",
    "        # this one is a bit tricky as well. First we need to reshape the data so it goes into the linear layer\n",
    "        X = X.contiguous()\n",
    "        X = X.view(-1, X.shape[2])\n",
    "\n",
    "        # run through actual linear layer\n",
    "        X = self.linear(X)\n",
    "\n",
    "        # ---------------------\n",
    "        # 4. Create softmax activations bc we're doing classification\n",
    "        # Dim transformation: (batch_size * seq_len, nb_lstm_units) -> (batch_size, seq_len, nb_tags)\n",
    "        #X = torch.sigmoid(X)\n",
    "\n",
    "        # I like to reshape for mental sanity so we're back to (batch_size, seq_len, nb_tags)\n",
    "        X = X.view(batch_size, seq_len)\n",
    "\n",
    "        Y_hat = X\n",
    "        return Y_hat"
   ]
  },
  {
   "cell_type": "code",
   "execution_count": 48,
   "metadata": {},
   "outputs": [
    {
     "data": {
      "text/plain": [
       "MyLSTM(\n",
       "  (lstm): LSTM(1280, 64, batch_first=True)\n",
       "  (linear): Linear(in_features=64, out_features=1, bias=True)\n",
       ")"
      ]
     },
     "execution_count": 48,
     "metadata": {},
     "output_type": "execute_result"
    }
   ],
   "source": [
    "model = MyLSTM()\n",
    "model"
   ]
  },
  {
   "cell_type": "code",
   "execution_count": 49,
   "metadata": {},
   "outputs": [],
   "source": [
    "device = 'cpu'\n",
    "model.to(device)\n",
    "x,y = train_dataset[1]\n",
    "x = torch.tensor(x)\n",
    "x = x.unsqueeze(0).float()\n",
    "x = x.to(device)\n",
    "\n",
    "pred = model(x)"
   ]
  },
  {
   "cell_type": "code",
   "execution_count": 30,
   "metadata": {},
   "outputs": [
    {
     "name": "stderr",
     "output_type": "stream",
     "text": [
      "\r",
      "  0%|          | 0/2651 [00:00<?, ?it/s]"
     ]
    },
    {
     "name": "stdout",
     "output_type": "stream",
     "text": [
      "Tue Dec  8 11:04:33 2020 Epoch: 1\n"
     ]
    },
    {
     "name": "stderr",
     "output_type": "stream",
     "text": [
      "loss: 0.63529, mean: 0.12839: 100%|██████████| 2651/2651 [04:04<00:00, 10.83it/s]\n",
      "100%|██████████| 841/841 [01:19<00:00, 10.61it/s]\n",
      "  0%|          | 0/2651 [00:00<?, ?it/s]"
     ]
    },
    {
     "name": "stdout",
     "output_type": "stream",
     "text": [
      "Tue Dec  8 11:09:57 2020 Epoch 1, lr: 0.1000000, train loss: 0.12839, valid loss: 0.12487\n",
      "pos loss: 1.17129, neg loss: 0.06634, pos mean: 0.45012, neg mean 0.05509\n",
      "Tue Dec  8 11:09:57 2020 Epoch: 2\n"
     ]
    },
    {
     "name": "stderr",
     "output_type": "stream",
     "text": [
      "loss: 0.61882, mean: 0.12375: 100%|██████████| 2651/2651 [04:01<00:00, 10.96it/s]\n",
      "100%|██████████| 841/841 [01:18<00:00, 10.76it/s]\n",
      "  0%|          | 0/2651 [00:00<?, ?it/s]"
     ]
    },
    {
     "name": "stdout",
     "output_type": "stream",
     "text": [
      "Tue Dec  8 11:15:17 2020 Epoch 2, lr: 0.1000000, train loss: 0.12375, valid loss: 0.12043\n",
      "pos loss: 1.13419, neg loss: 0.06367, pos mean: 0.46676, neg mean 0.05254\n",
      "Tue Dec  8 11:15:17 2020 Epoch: 3\n"
     ]
    },
    {
     "name": "stderr",
     "output_type": "stream",
     "text": [
      "loss: 0.61231, mean: 0.12157: 100%|██████████| 2651/2651 [04:02<00:00, 10.93it/s]\n",
      "100%|██████████| 841/841 [01:17<00:00, 10.80it/s]\n",
      "  0%|          | 0/2651 [00:00<?, ?it/s]"
     ]
    },
    {
     "name": "stdout",
     "output_type": "stream",
     "text": [
      "Tue Dec  8 11:20:37 2020 Epoch 3, lr: 0.1000000, train loss: 0.12157, valid loss: 0.11103\n",
      "pos loss: 1.23130, neg loss: 0.04848, pos mean: 0.44312, neg mean 0.04011\n",
      "Tue Dec  8 11:20:37 2020 Epoch: 4\n"
     ]
    },
    {
     "name": "stderr",
     "output_type": "stream",
     "text": [
      "loss: 0.63018, mean: 0.11882: 100%|██████████| 2651/2651 [04:02<00:00, 10.92it/s]\n",
      "100%|██████████| 841/841 [01:17<00:00, 10.88it/s]\n",
      "  0%|          | 0/2651 [00:00<?, ?it/s]"
     ]
    },
    {
     "name": "stdout",
     "output_type": "stream",
     "text": [
      "Tue Dec  8 11:25:57 2020 Epoch 4, lr: 0.1000000, train loss: 0.11882, valid loss: 0.10838\n",
      "pos loss: 1.23142, neg loss: 0.04574, pos mean: 0.45890, neg mean 0.03731\n",
      "Tue Dec  8 11:25:57 2020 Epoch: 5\n"
     ]
    },
    {
     "name": "stderr",
     "output_type": "stream",
     "text": [
      "loss: 0.63074, mean: 0.11813: 100%|██████████| 2651/2651 [04:04<00:00, 10.85it/s]\n",
      "100%|██████████| 841/841 [01:16<00:00, 11.02it/s]\n",
      "  0%|          | 0/2651 [00:00<?, ?it/s]"
     ]
    },
    {
     "name": "stdout",
     "output_type": "stream",
     "text": [
      "Tue Dec  8 11:31:18 2020 Epoch 5, lr: 0.1000000, train loss: 0.11813, valid loss: 0.10818\n",
      "pos loss: 1.17500, neg loss: 0.04841, pos mean: 0.48427, neg mean 0.03874\n",
      "Tue Dec  8 11:31:18 2020 Epoch: 6\n"
     ]
    },
    {
     "name": "stderr",
     "output_type": "stream",
     "text": [
      "loss: 0.62909, mean: 0.11799: 100%|██████████| 2651/2651 [04:02<00:00, 10.93it/s]\n",
      "100%|██████████| 841/841 [01:17<00:00, 10.80it/s]\n",
      "  0%|          | 0/2651 [00:00<?, ?it/s]"
     ]
    },
    {
     "name": "stdout",
     "output_type": "stream",
     "text": [
      "Tue Dec  8 11:36:38 2020 Epoch 6, lr: 0.1000000, train loss: 0.11799, valid loss: 0.10800\n",
      "pos loss: 1.17124, neg loss: 0.04854, pos mean: 0.48483, neg mean 0.03887\n",
      "Tue Dec  8 11:36:38 2020 Epoch: 7\n"
     ]
    },
    {
     "name": "stderr",
     "output_type": "stream",
     "text": [
      "loss: 0.61221, mean: 0.11733: 100%|██████████| 2651/2651 [04:02<00:00, 10.93it/s]\n",
      "100%|██████████| 841/841 [01:16<00:00, 11.00it/s]\n",
      "  0%|          | 0/2651 [00:00<?, ?it/s]"
     ]
    },
    {
     "name": "stdout",
     "output_type": "stream",
     "text": [
      "Tue Dec  8 11:41:57 2020 Epoch 7, lr: 0.1000000, train loss: 0.11733, valid loss: 0.10741\n",
      "pos loss: 1.20368, neg loss: 0.04607, pos mean: 0.48312, neg mean 0.03684\n",
      "Tue Dec  8 11:41:57 2020 Epoch: 8\n"
     ]
    },
    {
     "name": "stderr",
     "output_type": "stream",
     "text": [
      "loss: 0.62918, mean: 0.11703: 100%|██████████| 2651/2651 [04:07<00:00, 10.72it/s]\n",
      "100%|██████████| 841/841 [01:16<00:00, 10.93it/s]\n",
      "  0%|          | 0/2651 [00:00<?, ?it/s]"
     ]
    },
    {
     "name": "stdout",
     "output_type": "stream",
     "text": [
      "Tue Dec  8 11:47:22 2020 Epoch 8, lr: 0.1000000, train loss: 0.11703, valid loss: 0.10863\n",
      "pos loss: 1.14463, neg loss: 0.05072, pos mean: 0.50119, neg mean 0.03988\n",
      "Tue Dec  8 11:47:22 2020 Epoch: 9\n"
     ]
    },
    {
     "name": "stderr",
     "output_type": "stream",
     "text": [
      "loss: 0.61138, mean: 0.11644: 100%|██████████| 2651/2651 [03:59<00:00, 11.06it/s]\n",
      "100%|██████████| 841/841 [01:15<00:00, 11.20it/s]\n",
      "  0%|          | 0/2651 [00:00<?, ?it/s]"
     ]
    },
    {
     "name": "stdout",
     "output_type": "stream",
     "text": [
      "Tue Dec  8 11:52:37 2020 Epoch 9, lr: 0.1000000, train loss: 0.11644, valid loss: 0.10624\n",
      "pos loss: 1.15733, neg loss: 0.04738, pos mean: 0.49632, neg mean 0.03761\n",
      "Tue Dec  8 11:52:37 2020 Epoch: 10\n"
     ]
    },
    {
     "name": "stderr",
     "output_type": "stream",
     "text": [
      "loss: 0.62202, mean: 0.11652: 100%|██████████| 2651/2651 [03:51<00:00, 11.43it/s]\n",
      "100%|██████████| 841/841 [01:15<00:00, 11.16it/s]\n",
      "  0%|          | 0/2651 [00:00<?, ?it/s]"
     ]
    },
    {
     "name": "stdout",
     "output_type": "stream",
     "text": [
      "Tue Dec  8 11:57:44 2020 Epoch 10, lr: 0.1000000, train loss: 0.11652, valid loss: 0.10738\n",
      "pos loss: 1.18630, neg loss: 0.04699, pos mean: 0.48915, neg mean 0.03742\n",
      "Tue Dec  8 11:57:44 2020 Epoch: 11\n"
     ]
    },
    {
     "name": "stderr",
     "output_type": "stream",
     "text": [
      "loss: 0.65022, mean: 0.11666: 100%|██████████| 2651/2651 [03:49<00:00, 11.57it/s]\n",
      "100%|██████████| 841/841 [01:15<00:00, 11.19it/s]\n",
      "  0%|          | 0/2651 [00:00<?, ?it/s]"
     ]
    },
    {
     "name": "stdout",
     "output_type": "stream",
     "text": [
      "Tue Dec  8 12:02:48 2020 Epoch 11, lr: 0.1000000, train loss: 0.11666, valid loss: 0.10761\n",
      "pos loss: 1.13905, neg loss: 0.04980, pos mean: 0.49909, neg mean 0.03957\n",
      "Tue Dec  8 12:02:48 2020 Epoch: 12\n"
     ]
    },
    {
     "name": "stderr",
     "output_type": "stream",
     "text": [
      "loss: 0.61003, mean: 0.11656: 100%|██████████| 2651/2651 [03:58<00:00, 11.12it/s]\n",
      "100%|██████████| 841/841 [01:19<00:00, 10.61it/s]\n",
      "  0%|          | 0/2651 [00:00<?, ?it/s]"
     ]
    },
    {
     "name": "stdout",
     "output_type": "stream",
     "text": [
      "Tue Dec  8 12:08:06 2020 Epoch 12, lr: 0.1000000, train loss: 0.11656, valid loss: 0.10702\n",
      "pos loss: 1.12150, neg loss: 0.05022, pos mean: 0.50476, neg mean 0.03983\n",
      "Tue Dec  8 12:08:06 2020 Epoch: 13\n"
     ]
    },
    {
     "name": "stderr",
     "output_type": "stream",
     "text": [
      "loss: 0.67068, mean: 0.11619: 100%|██████████| 2651/2651 [03:49<00:00, 11.54it/s]\n",
      "100%|██████████| 841/841 [01:19<00:00, 10.59it/s]\n",
      "  0%|          | 0/2651 [00:00<?, ?it/s]"
     ]
    },
    {
     "name": "stdout",
     "output_type": "stream",
     "text": [
      "Tue Dec  8 12:13:15 2020 Epoch 13, lr: 0.1000000, train loss: 0.11619, valid loss: 0.10627\n",
      "pos loss: 1.21742, neg loss: 0.04414, pos mean: 0.48315, neg mean 0.03524\n",
      "Tue Dec  8 12:13:15 2020 Epoch: 14\n"
     ]
    },
    {
     "name": "stderr",
     "output_type": "stream",
     "text": [
      "loss: 0.62177, mean: 0.11636: 100%|██████████| 2651/2651 [03:51<00:00, 11.43it/s]\n",
      "100%|██████████| 841/841 [01:14<00:00, 11.26it/s]\n",
      "  0%|          | 0/2651 [00:00<?, ?it/s]"
     ]
    },
    {
     "name": "stdout",
     "output_type": "stream",
     "text": [
      "Tue Dec  8 12:18:22 2020 Epoch 14, lr: 0.1000000, train loss: 0.11636, valid loss: 0.10580\n",
      "pos loss: 1.19390, neg loss: 0.04494, pos mean: 0.47953, neg mean 0.03641\n",
      "Tue Dec  8 12:18:22 2020 Epoch: 15\n"
     ]
    },
    {
     "name": "stderr",
     "output_type": "stream",
     "text": [
      "loss: 0.64333, mean: 0.11623: 100%|██████████| 2651/2651 [03:49<00:00, 11.55it/s]\n",
      "100%|██████████| 841/841 [01:17<00:00, 10.80it/s]\n",
      "  0%|          | 0/2651 [00:00<?, ?it/s]"
     ]
    },
    {
     "name": "stdout",
     "output_type": "stream",
     "text": [
      "Tue Dec  8 12:23:29 2020 Epoch 15, lr: 0.1000000, train loss: 0.11623, valid loss: 0.10672\n",
      "pos loss: 1.14549, neg loss: 0.04849, pos mean: 0.50019, neg mean 0.03846\n",
      "Tue Dec  8 12:23:29 2020 Epoch: 16\n"
     ]
    },
    {
     "name": "stderr",
     "output_type": "stream",
     "text": [
      "loss: 0.61656, mean: 0.11629: 100%|██████████| 2651/2651 [03:46<00:00, 11.70it/s]\n",
      "100%|██████████| 841/841 [01:19<00:00, 10.56it/s]\n",
      "  0%|          | 0/2651 [00:00<?, ?it/s]"
     ]
    },
    {
     "name": "stdout",
     "output_type": "stream",
     "text": [
      "Tue Dec  8 12:28:35 2020 Epoch 16, lr: 0.1000000, train loss: 0.11629, valid loss: 0.10621\n",
      "pos loss: 1.19819, neg loss: 0.04518, pos mean: 0.49082, neg mean 0.03578\n",
      "Tue Dec  8 12:28:35 2020 Epoch: 17\n"
     ]
    },
    {
     "name": "stderr",
     "output_type": "stream",
     "text": [
      "loss: 0.62907, mean: 0.11614: 100%|██████████| 2651/2651 [04:04<00:00, 10.84it/s]\n",
      "100%|██████████| 841/841 [01:15<00:00, 11.14it/s]\n",
      "  0%|          | 0/2651 [00:00<?, ?it/s]"
     ]
    },
    {
     "name": "stdout",
     "output_type": "stream",
     "text": [
      "Tue Dec  8 12:33:55 2020 Epoch 17, lr: 0.1000000, train loss: 0.11614, valid loss: 0.10637\n",
      "pos loss: 1.16981, neg loss: 0.04693, pos mean: 0.49509, neg mean 0.03723\n",
      "Tue Dec  8 12:33:55 2020 Epoch: 18\n"
     ]
    },
    {
     "name": "stderr",
     "output_type": "stream",
     "text": [
      "loss: 0.65576, mean: 0.11644: 100%|██████████| 2651/2651 [03:52<00:00, 11.42it/s]\n",
      "100%|██████████| 841/841 [01:18<00:00, 10.67it/s]\n",
      "  0%|          | 0/2651 [00:00<?, ?it/s]"
     ]
    },
    {
     "name": "stdout",
     "output_type": "stream",
     "text": [
      "Tue Dec  8 12:39:06 2020 Epoch 18, lr: 0.1000000, train loss: 0.11644, valid loss: 0.10698\n",
      "pos loss: 1.13271, neg loss: 0.04956, pos mean: 0.50517, neg mean 0.03911\n",
      "Tue Dec  8 12:39:06 2020 Epoch: 19\n"
     ]
    },
    {
     "name": "stderr",
     "output_type": "stream",
     "text": [
      "loss: 0.65164, mean: 0.11611: 100%|██████████| 2651/2651 [03:55<00:00, 11.28it/s]\n",
      "  0%|          | 0/841 [00:00<?, ?it/s]Exception ignored in: <function _MultiProcessingDataLoaderIter.__del__ at 0x2ac3bf0e5cb0>\n",
      "Traceback (most recent call last):\n",
      "  File \"/share/pkg.7/pytorch/1.5.1/install/3.7/lib/python3.7/site-packages/torch/utils/data/dataloader.py\", line 962, in __del__\n",
      "    self._shutdown_workers()\n",
      "  File \"/share/pkg.7/pytorch/1.5.1/install/3.7/lib/python3.7/site-packages/torch/utils/data/dataloader.py\", line 942, in _shutdown_workers\n",
      "    w.join()\n",
      "  File \"/share/pkg.7/python3/3.7.7/install/lib/python3.7/multiprocessing/process.py\", line 138, in join\n",
      "    assert self._parent_pid == os.getpid(), 'can only join a child process'\n",
      "AssertionError: can only join a child process\n",
      "100%|██████████| 841/841 [01:15<00:00, 11.09it/s]\n",
      "  0%|          | 0/2651 [00:00<?, ?it/s]"
     ]
    },
    {
     "name": "stdout",
     "output_type": "stream",
     "text": [
      "Tue Dec  8 12:44:17 2020 Epoch 19, lr: 0.1000000, train loss: 0.11611, valid loss: 0.10584\n",
      "pos loss: 1.17782, neg loss: 0.04578, pos mean: 0.49396, neg mean 0.03631\n",
      "Tue Dec  8 12:44:17 2020 Epoch: 20\n"
     ]
    },
    {
     "name": "stderr",
     "output_type": "stream",
     "text": [
      "Exception ignored in: <function _MultiProcessingDataLoaderIter.__del__ at 0x2ac3bf0e5cb0>\n",
      "Traceback (most recent call last):\n",
      "  File \"/share/pkg.7/pytorch/1.5.1/install/3.7/lib/python3.7/site-packages/torch/utils/data/dataloader.py\", line 962, in __del__\n",
      "    self._shutdown_workers()\n",
      "  File \"/share/pkg.7/pytorch/1.5.1/install/3.7/lib/python3.7/site-packages/torch/utils/data/dataloader.py\", line 942, in _shutdown_workers\n",
      "    w.join()\n",
      "  File \"/share/pkg.7/python3/3.7.7/install/lib/python3.7/multiprocessing/process.py\", line 138, in join\n",
      "loss: 0.72533, mean: 0.72533:   0%|          | 1/2651 [00:00<12:30,  3.53it/s]assert self._parent_pid == os.getpid(), 'can only join a child process'\n",
      "AssertionError: can only join a child process\n",
      "loss: 0.62427, mean: 0.11631: 100%|██████████| 2651/2651 [03:54<00:00, 11.30it/s]\n",
      "100%|██████████| 841/841 [01:15<00:00, 11.21it/s]\n"
     ]
    },
    {
     "name": "stdout",
     "output_type": "stream",
     "text": [
      "Tue Dec  8 12:49:27 2020 Epoch 20, lr: 0.1000000, train loss: 0.11631, valid loss: 0.10554\n",
      "pos loss: 1.20415, neg loss: 0.04421, pos mean: 0.48517, neg mean 0.03541\n"
     ]
    }
   ],
   "source": [
    "bce = torch.nn.BCEWithLogitsLoss()\n",
    "def criterion(logits, target):\n",
    "    loss = bce(logits.view(-1), target.view(-1))\n",
    "    return loss\n",
    "\n",
    "dummy = None\n",
    "\n",
    "def train_epoch(model, loader, optimizer):\n",
    "\n",
    "    model.train()\n",
    "    train_loss = []\n",
    "    bar = tqdm(loader)\n",
    "    for (data, target) in bar:\n",
    "        data, target = data.to(device), target.to(device)\n",
    "        \n",
    "        # zero gradients\n",
    "        optimizer.zero_grad()\n",
    "\n",
    "        #forward pass\n",
    "        logits = model(data.float())\n",
    "        \n",
    "        # calculate loss\n",
    "        loss = criterion(logits, target)\n",
    "\n",
    "        # backpropagate the loss (backward pass)\n",
    "        loss.backward()\n",
    " \n",
    "        # update parameters based on accumulated gradients\n",
    "        optimizer.step()\n",
    "\n",
    "        loss_np = loss.detach().cpu().numpy()\n",
    "\n",
    "        train_loss.append(loss_np)\n",
    "        average_loss = sum(train_loss) / len(train_loss)\n",
    "        bar.set_description('loss: %.5f, mean: %.5f' % (loss_np, average_loss))\n",
    "\n",
    "    return float(average_loss)\n",
    "\n",
    "def valid_epoch(model, loader):\n",
    "    model.eval()\n",
    "    val_loss = []\n",
    "    pos_logits = []\n",
    "    neg_logits = []\n",
    "\n",
    "    with torch.no_grad():\n",
    "        for (data, target) in tqdm(loader):\n",
    "            data, target = data.to(device), target.to(device)\n",
    "            logits = model(data.float())\n",
    "\n",
    "            loss = criterion(logits, target)\n",
    "\n",
    "            loss_np = loss.detach().cpu().numpy()\n",
    "\n",
    "            val_loss.append(float(loss_np))\n",
    "\n",
    "            logits = logits.squeeze()\n",
    "            target = target.squeeze()\n",
    "            \n",
    "            for i in range(logits.shape[-1]):\n",
    "                b = target[i].detach().cpu().numpy()\n",
    "                if b == 1:\n",
    "                    pos_logits.append(float(logits[i].detach().cpu().numpy()))\n",
    "                else:\n",
    "                    neg_logits.append(float(logits[i].detach().cpu().numpy()))\n",
    "                    \n",
    "    val_loss_mean = sum(val_loss) / len(val_loss)\n",
    "    \n",
    "    neg_logits_tensor = torch.FloatTensor(neg_logits).cuda()\n",
    "    pos_logits_tensor = torch.FloatTensor(pos_logits).cuda()\n",
    "    \n",
    "    neg_loss = criterion(neg_logits_tensor, torch.zeros(neg_logits_tensor.shape).float().cuda())\n",
    "    pos_loss = criterion(pos_logits_tensor, torch.ones(pos_logits_tensor.shape).float().cuda())\n",
    "    \n",
    "    neg_loss = neg_loss.detach().cpu().numpy()\n",
    "    pos_loss = pos_loss.detach().cpu().numpy()\n",
    "    \n",
    "    neg_mean = float(torch.sigmoid(neg_logits_tensor).mean().detach().cpu().numpy())\n",
    "    pos_mean = float(torch.sigmoid(pos_logits_tensor).mean().detach().cpu().numpy())\n",
    "    \n",
    "    return float(val_loss_mean), float(pos_loss), float(neg_loss), pos_mean, neg_mean\n",
    "\n",
    "def get_optimizer(lr, model):\n",
    "    optimizer = torch.optim.SGD(model.parameters(), lr=lr, momentum=0.9, weight_decay=0.0001)\n",
    "    return optimizer\n",
    "\n",
    "init_lr = 0.1\n",
    "n_epochs = 20\n",
    "device = 'cuda'\n",
    "\n",
    "# reduce LR by gamma three times every 10 epochs\n",
    "# each epoch is 100,000 samples\n",
    "#gamma = 10\n",
    "#schedule = [10, 20, 30]\n",
    "\n",
    "#model = resnext101.to(device)\n",
    "optimizer = get_optimizer(init_lr, model)\n",
    "model.to(device)\n",
    "\n",
    "master_train_loss = []\n",
    "master_valid_loss = []\n",
    "epoch = 1\n",
    "#best_valid_loss = 10\n",
    "\n",
    "\n",
    "while epoch <= n_epochs:\n",
    "    print(time.ctime(), 'Epoch:', epoch)\n",
    "    \n",
    "    # update learning rate \n",
    "    #if epoch in schedule:\n",
    "    #    new_lr = optimizer.param_groups[0][\"lr\"] / gamma\n",
    "     #   optimizer = get_optimizer(new_lr, model)\n",
    "    \n",
    "    #train_loader, valid_loader = get_loaders(epoch)\n",
    "    train_loader = torch.utils.data.DataLoader(train_dataset, batch_size=1,num_workers=1)\n",
    "    valid_loader = torch.utils.data.DataLoader(valid_dataset, batch_size=1,num_workers=1)\n",
    "\n",
    "    # train\n",
    "    train_loss = train_epoch(model, train_loader, optimizer)\n",
    "    optimizer.zero_grad()\n",
    "    \n",
    "    # validate\n",
    "    valid_loss, pos_loss, neg_loss, pos_mean, neg_mean = valid_epoch(model, valid_loader)\n",
    "    #valid_loss = 0\n",
    "    #pos_loss  = 0\n",
    "    #neg_loss = 0\n",
    "    #pos_mean = 0\n",
    "    #neg_mean = 0\n",
    "    \n",
    "    content = time.ctime() + ' ' + f'Epoch {epoch}, lr: {optimizer.param_groups[0][\"lr\"]:.7f}, train loss: {np.mean(train_loss):.5f}, valid loss: {(valid_loss):.5f}'\n",
    "    print(content)\n",
    "    content = f'pos loss: {(pos_loss):.5f}, neg loss: {(neg_loss):.5f}, pos mean: {(pos_mean):.5f}, neg mean {(neg_mean):.5f}'\n",
    "    print(content)\n",
    "    master_train_loss.append(train_loss)\n",
    "    master_valid_loss.append(valid_loss)\n",
    "    \n",
    "    # save loss data and model weights\n",
    "    #with open('train_loss.pkl', 'wb') as f:\n",
    "        #pickle.dump(master_train_loss, f)\n",
    "    #with open('valid_loss.pkl', 'wb') as f:\n",
    "        #pickle.dump(master_valid_loss, f)\n",
    "        \n",
    "        #torch.save(model.state_dict(), 'model-resnext-50-{}.pth'.format(epoch))\n",
    "        #best_valid_loss = valid_loss\n",
    "    \n",
    "    epoch += 1\n",
    "           "
   ]
  },
  {
   "cell_type": "code",
   "execution_count": 35,
   "metadata": {},
   "outputs": [
    {
     "data": {
      "text/plain": [
       "[<matplotlib.lines.Line2D at 0x2ac48e858110>]"
      ]
     },
     "execution_count": 35,
     "metadata": {},
     "output_type": "execute_result"
    },
    {
     "data": {
      "image/png": "[encoded data removed]",
      "text/plain": [
       "<Figure size 432x288 with 1 Axes>"
      ]
     },
     "metadata": {
      "needs_background": "light"
     },
     "output_type": "display_data"
    }
   ],
   "source": [
    "torch.save(model.state_dict(), 'model-efficientb0-lstm1.pth')\n",
    "plt.plot(master_train_loss[:], label='train')\n",
    "plt.plot(master_valid_loss[:], label='valid')"
   ]
  },
  {
   "cell_type": "code",
   "execution_count": 50,
   "metadata": {},
   "outputs": [
    {
     "name": "stdout",
     "output_type": "stream",
     "text": [
      "Tue Dec  8 15:14:10 2020 Epoch: 1\n"
     ]
    },
    {
     "name": "stderr",
     "output_type": "stream",
     "text": [
      "loss: 0.63551, mean: 0.12826: 100%|██████████| 2651/2651 [04:02<00:00, 10.94it/s]\n",
      "100%|██████████| 841/841 [01:20<00:00, 10.38it/s]\n",
      "  0%|          | 0/2651 [00:00<?, ?it/s]"
     ]
    },
    {
     "name": "stdout",
     "output_type": "stream",
     "text": [
      "Tue Dec  8 15:19:33 2020 Epoch 1, lr: 0.1000000, train loss: 0.12826, valid loss: 0.12449\n",
      "pos loss: 1.16557, neg loss: 0.06627, pos mean: 0.45283, neg mean 0.05498\n",
      "Tue Dec  8 15:19:33 2020 Epoch: 2\n"
     ]
    },
    {
     "name": "stderr",
     "output_type": "stream",
     "text": [
      "loss: 0.58394, mean: 0.12234: 100%|██████████| 2651/2651 [03:54<00:00, 11.28it/s]\n",
      "100%|██████████| 841/841 [01:16<00:00, 10.99it/s]\n",
      "  0%|          | 0/2651 [00:00<?, ?it/s]"
     ]
    },
    {
     "name": "stdout",
     "output_type": "stream",
     "text": [
      "Tue Dec  8 15:24:45 2020 Epoch 2, lr: 0.1000000, train loss: 0.12234, valid loss: 0.11475\n",
      "pos loss: 1.23261, neg loss: 0.05226, pos mean: 0.42898, neg mean 0.04396\n",
      "Tue Dec  8 15:24:45 2020 Epoch: 3\n"
     ]
    },
    {
     "name": "stderr",
     "output_type": "stream",
     "text": [
      "loss: 0.00883, mean: 0.13749:   2%|▏         | 54/2651 [00:03<02:43, 15.90it/s]\n"
     ]
    },
    {
     "ename": "KeyboardInterrupt",
     "evalue": "",
     "output_type": "error",
     "traceback": [
      "\u001b[0;31m---------------------------------------------------------------------------\u001b[0m",
      "\u001b[0;31mKeyboardInterrupt\u001b[0m                         Traceback (most recent call last)",
      "\u001b[0;32m<ipython-input-50-cc41bcc124c4>\u001b[0m in \u001b[0;36m<module>\u001b[0;34m\u001b[0m\n\u001b[1;32m    116\u001b[0m \u001b[0;34m\u001b[0m\u001b[0m\n\u001b[1;32m    117\u001b[0m     \u001b[0;31m# train\u001b[0m\u001b[0;34m\u001b[0m\u001b[0;34m\u001b[0m\u001b[0;34m\u001b[0m\u001b[0m\n\u001b[0;32m--> 118\u001b[0;31m     \u001b[0mtrain_loss\u001b[0m \u001b[0;34m=\u001b[0m \u001b[0mtrain_epoch\u001b[0m\u001b[0;34m(\u001b[0m\u001b[0mmodel\u001b[0m\u001b[0;34m,\u001b[0m \u001b[0mtrain_loader\u001b[0m\u001b[0;34m,\u001b[0m \u001b[0moptimizer\u001b[0m\u001b[0;34m)\u001b[0m\u001b[0;34m\u001b[0m\u001b[0;34m\u001b[0m\u001b[0m\n\u001b[0m\u001b[1;32m    119\u001b[0m     \u001b[0moptimizer\u001b[0m\u001b[0;34m.\u001b[0m\u001b[0mzero_grad\u001b[0m\u001b[0;34m(\u001b[0m\u001b[0;34m)\u001b[0m\u001b[0;34m\u001b[0m\u001b[0;34m\u001b[0m\u001b[0m\n\u001b[1;32m    120\u001b[0m \u001b[0;34m\u001b[0m\u001b[0m\n",
      "\u001b[0;32m<ipython-input-50-cc41bcc124c4>\u001b[0m in \u001b[0;36mtrain_epoch\u001b[0;34m(model, loader, optimizer)\u001b[0m\n\u001b[1;32m     11\u001b[0m     \u001b[0mtrain_loss\u001b[0m \u001b[0;34m=\u001b[0m \u001b[0;34m[\u001b[0m\u001b[0;34m]\u001b[0m\u001b[0;34m\u001b[0m\u001b[0;34m\u001b[0m\u001b[0m\n\u001b[1;32m     12\u001b[0m     \u001b[0mbar\u001b[0m \u001b[0;34m=\u001b[0m \u001b[0mtqdm\u001b[0m\u001b[0;34m(\u001b[0m\u001b[0mloader\u001b[0m\u001b[0;34m)\u001b[0m\u001b[0;34m\u001b[0m\u001b[0;34m\u001b[0m\u001b[0m\n\u001b[0;32m---> 13\u001b[0;31m     \u001b[0;32mfor\u001b[0m \u001b[0;34m(\u001b[0m\u001b[0mdata\u001b[0m\u001b[0;34m,\u001b[0m \u001b[0mtarget\u001b[0m\u001b[0;34m)\u001b[0m \u001b[0;32min\u001b[0m \u001b[0mbar\u001b[0m\u001b[0;34m:\u001b[0m\u001b[0;34m\u001b[0m\u001b[0;34m\u001b[0m\u001b[0m\n\u001b[0m\u001b[1;32m     14\u001b[0m         \u001b[0mdata\u001b[0m\u001b[0;34m,\u001b[0m \u001b[0mtarget\u001b[0m \u001b[0;34m=\u001b[0m \u001b[0mdata\u001b[0m\u001b[0;34m.\u001b[0m\u001b[0mto\u001b[0m\u001b[0;34m(\u001b[0m\u001b[0mdevice\u001b[0m\u001b[0;34m)\u001b[0m\u001b[0;34m,\u001b[0m \u001b[0mtarget\u001b[0m\u001b[0;34m.\u001b[0m\u001b[0mto\u001b[0m\u001b[0;34m(\u001b[0m\u001b[0mdevice\u001b[0m\u001b[0;34m)\u001b[0m\u001b[0;34m\u001b[0m\u001b[0;34m\u001b[0m\u001b[0m\n\u001b[1;32m     15\u001b[0m \u001b[0;34m\u001b[0m\u001b[0m\n",
      "\u001b[0;32m/share/pkg.7/python3/3.7.7/install/lib/python3.7/site-packages/tqdm/std.py\u001b[0m in \u001b[0;36m__iter__\u001b[0;34m(self)\u001b[0m\n\u001b[1;32m   1127\u001b[0m \u001b[0;34m\u001b[0m\u001b[0m\n\u001b[1;32m   1128\u001b[0m         \u001b[0;32mtry\u001b[0m\u001b[0;34m:\u001b[0m\u001b[0;34m\u001b[0m\u001b[0;34m\u001b[0m\u001b[0m\n\u001b[0;32m-> 1129\u001b[0;31m             \u001b[0;32mfor\u001b[0m \u001b[0mobj\u001b[0m \u001b[0;32min\u001b[0m \u001b[0miterable\u001b[0m\u001b[0;34m:\u001b[0m\u001b[0;34m\u001b[0m\u001b[0;34m\u001b[0m\u001b[0m\n\u001b[0m\u001b[1;32m   1130\u001b[0m                 \u001b[0;32myield\u001b[0m \u001b[0mobj\u001b[0m\u001b[0;34m\u001b[0m\u001b[0;34m\u001b[0m\u001b[0m\n\u001b[1;32m   1131\u001b[0m                 \u001b[0;31m# Update and possibly print the progressbar.\u001b[0m\u001b[0;34m\u001b[0m\u001b[0;34m\u001b[0m\u001b[0;34m\u001b[0m\u001b[0m\n",
      "\u001b[0;32m/share/pkg.7/pytorch/1.5.1/install/3.7/lib/python3.7/site-packages/torch/utils/data/dataloader.py\u001b[0m in \u001b[0;36m__next__\u001b[0;34m(self)\u001b[0m\n\u001b[1;32m    343\u001b[0m \u001b[0;34m\u001b[0m\u001b[0m\n\u001b[1;32m    344\u001b[0m     \u001b[0;32mdef\u001b[0m \u001b[0m__next__\u001b[0m\u001b[0;34m(\u001b[0m\u001b[0mself\u001b[0m\u001b[0;34m)\u001b[0m\u001b[0;34m:\u001b[0m\u001b[0;34m\u001b[0m\u001b[0;34m\u001b[0m\u001b[0m\n\u001b[0;32m--> 345\u001b[0;31m         \u001b[0mdata\u001b[0m \u001b[0;34m=\u001b[0m \u001b[0mself\u001b[0m\u001b[0;34m.\u001b[0m\u001b[0m_next_data\u001b[0m\u001b[0;34m(\u001b[0m\u001b[0;34m)\u001b[0m\u001b[0;34m\u001b[0m\u001b[0;34m\u001b[0m\u001b[0m\n\u001b[0m\u001b[1;32m    346\u001b[0m         \u001b[0mself\u001b[0m\u001b[0;34m.\u001b[0m\u001b[0m_num_yielded\u001b[0m \u001b[0;34m+=\u001b[0m \u001b[0;36m1\u001b[0m\u001b[0;34m\u001b[0m\u001b[0;34m\u001b[0m\u001b[0m\n\u001b[1;32m    347\u001b[0m         \u001b[0;32mif\u001b[0m \u001b[0mself\u001b[0m\u001b[0;34m.\u001b[0m\u001b[0m_dataset_kind\u001b[0m \u001b[0;34m==\u001b[0m \u001b[0m_DatasetKind\u001b[0m\u001b[0;34m.\u001b[0m\u001b[0mIterable\u001b[0m \u001b[0;32mand\u001b[0m\u001b[0;31m \u001b[0m\u001b[0;31m\\\u001b[0m\u001b[0;34m\u001b[0m\u001b[0;34m\u001b[0m\u001b[0m\n",
      "\u001b[0;32m/share/pkg.7/pytorch/1.5.1/install/3.7/lib/python3.7/site-packages/torch/utils/data/dataloader.py\u001b[0m in \u001b[0;36m_next_data\u001b[0;34m(self)\u001b[0m\n\u001b[1;32m    839\u001b[0m \u001b[0;34m\u001b[0m\u001b[0m\n\u001b[1;32m    840\u001b[0m             \u001b[0;32massert\u001b[0m \u001b[0;32mnot\u001b[0m \u001b[0mself\u001b[0m\u001b[0;34m.\u001b[0m\u001b[0m_shutdown\u001b[0m \u001b[0;32mand\u001b[0m \u001b[0mself\u001b[0m\u001b[0;34m.\u001b[0m\u001b[0m_tasks_outstanding\u001b[0m \u001b[0;34m>\u001b[0m \u001b[0;36m0\u001b[0m\u001b[0;34m\u001b[0m\u001b[0;34m\u001b[0m\u001b[0m\n\u001b[0;32m--> 841\u001b[0;31m             \u001b[0midx\u001b[0m\u001b[0;34m,\u001b[0m \u001b[0mdata\u001b[0m \u001b[0;34m=\u001b[0m \u001b[0mself\u001b[0m\u001b[0;34m.\u001b[0m\u001b[0m_get_data\u001b[0m\u001b[0;34m(\u001b[0m\u001b[0;34m)\u001b[0m\u001b[0;34m\u001b[0m\u001b[0;34m\u001b[0m\u001b[0m\n\u001b[0m\u001b[1;32m    842\u001b[0m             \u001b[0mself\u001b[0m\u001b[0;34m.\u001b[0m\u001b[0m_tasks_outstanding\u001b[0m \u001b[0;34m-=\u001b[0m \u001b[0;36m1\u001b[0m\u001b[0;34m\u001b[0m\u001b[0;34m\u001b[0m\u001b[0m\n\u001b[1;32m    843\u001b[0m \u001b[0;34m\u001b[0m\u001b[0m\n",
      "\u001b[0;32m/share/pkg.7/pytorch/1.5.1/install/3.7/lib/python3.7/site-packages/torch/utils/data/dataloader.py\u001b[0m in \u001b[0;36m_get_data\u001b[0;34m(self)\u001b[0m\n\u001b[1;32m    806\u001b[0m         \u001b[0;32melse\u001b[0m\u001b[0;34m:\u001b[0m\u001b[0;34m\u001b[0m\u001b[0;34m\u001b[0m\u001b[0m\n\u001b[1;32m    807\u001b[0m             \u001b[0;32mwhile\u001b[0m \u001b[0;32mTrue\u001b[0m\u001b[0;34m:\u001b[0m\u001b[0;34m\u001b[0m\u001b[0;34m\u001b[0m\u001b[0m\n\u001b[0;32m--> 808\u001b[0;31m                 \u001b[0msuccess\u001b[0m\u001b[0;34m,\u001b[0m \u001b[0mdata\u001b[0m \u001b[0;34m=\u001b[0m \u001b[0mself\u001b[0m\u001b[0;34m.\u001b[0m\u001b[0m_try_get_data\u001b[0m\u001b[0;34m(\u001b[0m\u001b[0;34m)\u001b[0m\u001b[0;34m\u001b[0m\u001b[0;34m\u001b[0m\u001b[0m\n\u001b[0m\u001b[1;32m    809\u001b[0m                 \u001b[0;32mif\u001b[0m \u001b[0msuccess\u001b[0m\u001b[0;34m:\u001b[0m\u001b[0;34m\u001b[0m\u001b[0;34m\u001b[0m\u001b[0m\n\u001b[1;32m    810\u001b[0m                     \u001b[0;32mreturn\u001b[0m \u001b[0mdata\u001b[0m\u001b[0;34m\u001b[0m\u001b[0;34m\u001b[0m\u001b[0m\n",
      "\u001b[0;32m/share/pkg.7/pytorch/1.5.1/install/3.7/lib/python3.7/site-packages/torch/utils/data/dataloader.py\u001b[0m in \u001b[0;36m_try_get_data\u001b[0;34m(self, timeout)\u001b[0m\n\u001b[1;32m    759\u001b[0m         \u001b[0;31m#   (bool: whether successfully get data, any: data if successful else None)\u001b[0m\u001b[0;34m\u001b[0m\u001b[0;34m\u001b[0m\u001b[0;34m\u001b[0m\u001b[0m\n\u001b[1;32m    760\u001b[0m         \u001b[0;32mtry\u001b[0m\u001b[0;34m:\u001b[0m\u001b[0;34m\u001b[0m\u001b[0;34m\u001b[0m\u001b[0m\n\u001b[0;32m--> 761\u001b[0;31m             \u001b[0mdata\u001b[0m \u001b[0;34m=\u001b[0m \u001b[0mself\u001b[0m\u001b[0;34m.\u001b[0m\u001b[0m_data_queue\u001b[0m\u001b[0;34m.\u001b[0m\u001b[0mget\u001b[0m\u001b[0;34m(\u001b[0m\u001b[0mtimeout\u001b[0m\u001b[0;34m=\u001b[0m\u001b[0mtimeout\u001b[0m\u001b[0;34m)\u001b[0m\u001b[0;34m\u001b[0m\u001b[0;34m\u001b[0m\u001b[0m\n\u001b[0m\u001b[1;32m    762\u001b[0m             \u001b[0;32mreturn\u001b[0m \u001b[0;34m(\u001b[0m\u001b[0;32mTrue\u001b[0m\u001b[0;34m,\u001b[0m \u001b[0mdata\u001b[0m\u001b[0;34m)\u001b[0m\u001b[0;34m\u001b[0m\u001b[0;34m\u001b[0m\u001b[0m\n\u001b[1;32m    763\u001b[0m         \u001b[0;32mexcept\u001b[0m \u001b[0mException\u001b[0m \u001b[0;32mas\u001b[0m \u001b[0me\u001b[0m\u001b[0;34m:\u001b[0m\u001b[0;34m\u001b[0m\u001b[0;34m\u001b[0m\u001b[0m\n",
      "\u001b[0;32m/share/pkg.7/python3/3.7.7/install/lib/python3.7/multiprocessing/queues.py\u001b[0m in \u001b[0;36mget\u001b[0;34m(self, block, timeout)\u001b[0m\n\u001b[1;32m    111\u001b[0m                 \u001b[0mself\u001b[0m\u001b[0;34m.\u001b[0m\u001b[0m_rlock\u001b[0m\u001b[0;34m.\u001b[0m\u001b[0mrelease\u001b[0m\u001b[0;34m(\u001b[0m\u001b[0;34m)\u001b[0m\u001b[0;34m\u001b[0m\u001b[0;34m\u001b[0m\u001b[0m\n\u001b[1;32m    112\u001b[0m         \u001b[0;31m# unserialize the data after having released the lock\u001b[0m\u001b[0;34m\u001b[0m\u001b[0;34m\u001b[0m\u001b[0;34m\u001b[0m\u001b[0m\n\u001b[0;32m--> 113\u001b[0;31m         \u001b[0;32mreturn\u001b[0m \u001b[0m_ForkingPickler\u001b[0m\u001b[0;34m.\u001b[0m\u001b[0mloads\u001b[0m\u001b[0;34m(\u001b[0m\u001b[0mres\u001b[0m\u001b[0;34m)\u001b[0m\u001b[0;34m\u001b[0m\u001b[0;34m\u001b[0m\u001b[0m\n\u001b[0m\u001b[1;32m    114\u001b[0m \u001b[0;34m\u001b[0m\u001b[0m\n\u001b[1;32m    115\u001b[0m     \u001b[0;32mdef\u001b[0m \u001b[0mqsize\u001b[0m\u001b[0;34m(\u001b[0m\u001b[0mself\u001b[0m\u001b[0;34m)\u001b[0m\u001b[0;34m:\u001b[0m\u001b[0;34m\u001b[0m\u001b[0;34m\u001b[0m\u001b[0m\n",
      "\u001b[0;32m/share/pkg.7/pytorch/1.5.1/install/3.7/lib/python3.7/site-packages/torch/multiprocessing/reductions.py\u001b[0m in \u001b[0;36mrebuild_storage_fd\u001b[0;34m(cls, df, size)\u001b[0m\n\u001b[1;32m    292\u001b[0m                     \u001b[0;32mraise\u001b[0m\u001b[0;34m\u001b[0m\u001b[0;34m\u001b[0m\u001b[0m\n\u001b[1;32m    293\u001b[0m     \u001b[0;32melse\u001b[0m\u001b[0;34m:\u001b[0m\u001b[0;34m\u001b[0m\u001b[0;34m\u001b[0m\u001b[0m\n\u001b[0;32m--> 294\u001b[0;31m         \u001b[0mfd\u001b[0m \u001b[0;34m=\u001b[0m \u001b[0mdf\u001b[0m\u001b[0;34m.\u001b[0m\u001b[0mdetach\u001b[0m\u001b[0;34m(\u001b[0m\u001b[0;34m)\u001b[0m\u001b[0;34m\u001b[0m\u001b[0;34m\u001b[0m\u001b[0m\n\u001b[0m\u001b[1;32m    295\u001b[0m     \u001b[0;32mtry\u001b[0m\u001b[0;34m:\u001b[0m\u001b[0;34m\u001b[0m\u001b[0;34m\u001b[0m\u001b[0m\n\u001b[1;32m    296\u001b[0m         \u001b[0mstorage\u001b[0m \u001b[0;34m=\u001b[0m \u001b[0mstorage_from_cache\u001b[0m\u001b[0;34m(\u001b[0m\u001b[0mcls\u001b[0m\u001b[0;34m,\u001b[0m \u001b[0mfd_id\u001b[0m\u001b[0;34m(\u001b[0m\u001b[0mfd\u001b[0m\u001b[0;34m)\u001b[0m\u001b[0;34m)\u001b[0m\u001b[0;34m\u001b[0m\u001b[0;34m\u001b[0m\u001b[0m\n",
      "\u001b[0;32m/share/pkg.7/python3/3.7.7/install/lib/python3.7/multiprocessing/resource_sharer.py\u001b[0m in \u001b[0;36mdetach\u001b[0;34m(self)\u001b[0m\n\u001b[1;32m     55\u001b[0m         \u001b[0;32mdef\u001b[0m \u001b[0mdetach\u001b[0m\u001b[0;34m(\u001b[0m\u001b[0mself\u001b[0m\u001b[0;34m)\u001b[0m\u001b[0;34m:\u001b[0m\u001b[0;34m\u001b[0m\u001b[0;34m\u001b[0m\u001b[0m\n\u001b[1;32m     56\u001b[0m             \u001b[0;34m'''Get the fd.  This should only be called once.'''\u001b[0m\u001b[0;34m\u001b[0m\u001b[0;34m\u001b[0m\u001b[0m\n\u001b[0;32m---> 57\u001b[0;31m             \u001b[0;32mwith\u001b[0m \u001b[0m_resource_sharer\u001b[0m\u001b[0;34m.\u001b[0m\u001b[0mget_connection\u001b[0m\u001b[0;34m(\u001b[0m\u001b[0mself\u001b[0m\u001b[0;34m.\u001b[0m\u001b[0m_id\u001b[0m\u001b[0;34m)\u001b[0m \u001b[0;32mas\u001b[0m \u001b[0mconn\u001b[0m\u001b[0;34m:\u001b[0m\u001b[0;34m\u001b[0m\u001b[0;34m\u001b[0m\u001b[0m\n\u001b[0m\u001b[1;32m     58\u001b[0m                 \u001b[0;32mreturn\u001b[0m \u001b[0mreduction\u001b[0m\u001b[0;34m.\u001b[0m\u001b[0mrecv_handle\u001b[0m\u001b[0;34m(\u001b[0m\u001b[0mconn\u001b[0m\u001b[0;34m)\u001b[0m\u001b[0;34m\u001b[0m\u001b[0;34m\u001b[0m\u001b[0m\n\u001b[1;32m     59\u001b[0m \u001b[0;34m\u001b[0m\u001b[0m\n",
      "\u001b[0;32m/share/pkg.7/python3/3.7.7/install/lib/python3.7/multiprocessing/resource_sharer.py\u001b[0m in \u001b[0;36mget_connection\u001b[0;34m(ident)\u001b[0m\n\u001b[1;32m     85\u001b[0m         \u001b[0;32mfrom\u001b[0m \u001b[0;34m.\u001b[0m\u001b[0mconnection\u001b[0m \u001b[0;32mimport\u001b[0m \u001b[0mClient\u001b[0m\u001b[0;34m\u001b[0m\u001b[0;34m\u001b[0m\u001b[0m\n\u001b[1;32m     86\u001b[0m         \u001b[0maddress\u001b[0m\u001b[0;34m,\u001b[0m \u001b[0mkey\u001b[0m \u001b[0;34m=\u001b[0m \u001b[0mident\u001b[0m\u001b[0;34m\u001b[0m\u001b[0;34m\u001b[0m\u001b[0m\n\u001b[0;32m---> 87\u001b[0;31m         \u001b[0mc\u001b[0m \u001b[0;34m=\u001b[0m \u001b[0mClient\u001b[0m\u001b[0;34m(\u001b[0m\u001b[0maddress\u001b[0m\u001b[0;34m,\u001b[0m \u001b[0mauthkey\u001b[0m\u001b[0;34m=\u001b[0m\u001b[0mprocess\u001b[0m\u001b[0;34m.\u001b[0m\u001b[0mcurrent_process\u001b[0m\u001b[0;34m(\u001b[0m\u001b[0;34m)\u001b[0m\u001b[0;34m.\u001b[0m\u001b[0mauthkey\u001b[0m\u001b[0;34m)\u001b[0m\u001b[0;34m\u001b[0m\u001b[0;34m\u001b[0m\u001b[0m\n\u001b[0m\u001b[1;32m     88\u001b[0m         \u001b[0mc\u001b[0m\u001b[0;34m.\u001b[0m\u001b[0msend\u001b[0m\u001b[0;34m(\u001b[0m\u001b[0;34m(\u001b[0m\u001b[0mkey\u001b[0m\u001b[0;34m,\u001b[0m \u001b[0mos\u001b[0m\u001b[0;34m.\u001b[0m\u001b[0mgetpid\u001b[0m\u001b[0;34m(\u001b[0m\u001b[0;34m)\u001b[0m\u001b[0;34m)\u001b[0m\u001b[0;34m)\u001b[0m\u001b[0;34m\u001b[0m\u001b[0;34m\u001b[0m\u001b[0m\n\u001b[1;32m     89\u001b[0m         \u001b[0;32mreturn\u001b[0m \u001b[0mc\u001b[0m\u001b[0;34m\u001b[0m\u001b[0;34m\u001b[0m\u001b[0m\n",
      "\u001b[0;32m/share/pkg.7/python3/3.7.7/install/lib/python3.7/multiprocessing/connection.py\u001b[0m in \u001b[0;36mClient\u001b[0;34m(address, family, authkey)\u001b[0m\n\u001b[1;32m    496\u001b[0m \u001b[0;34m\u001b[0m\u001b[0m\n\u001b[1;32m    497\u001b[0m     \u001b[0;32mif\u001b[0m \u001b[0mauthkey\u001b[0m \u001b[0;32mis\u001b[0m \u001b[0;32mnot\u001b[0m \u001b[0;32mNone\u001b[0m\u001b[0;34m:\u001b[0m\u001b[0;34m\u001b[0m\u001b[0;34m\u001b[0m\u001b[0m\n\u001b[0;32m--> 498\u001b[0;31m         \u001b[0manswer_challenge\u001b[0m\u001b[0;34m(\u001b[0m\u001b[0mc\u001b[0m\u001b[0;34m,\u001b[0m \u001b[0mauthkey\u001b[0m\u001b[0;34m)\u001b[0m\u001b[0;34m\u001b[0m\u001b[0;34m\u001b[0m\u001b[0m\n\u001b[0m\u001b[1;32m    499\u001b[0m         \u001b[0mdeliver_challenge\u001b[0m\u001b[0;34m(\u001b[0m\u001b[0mc\u001b[0m\u001b[0;34m,\u001b[0m \u001b[0mauthkey\u001b[0m\u001b[0;34m)\u001b[0m\u001b[0;34m\u001b[0m\u001b[0;34m\u001b[0m\u001b[0m\n\u001b[1;32m    500\u001b[0m \u001b[0;34m\u001b[0m\u001b[0m\n",
      "\u001b[0;32m/share/pkg.7/python3/3.7.7/install/lib/python3.7/multiprocessing/connection.py\u001b[0m in \u001b[0;36manswer_challenge\u001b[0;34m(connection, authkey)\u001b[0m\n\u001b[1;32m    739\u001b[0m         raise ValueError(\n\u001b[1;32m    740\u001b[0m             \"Authkey must be bytes, not {0!s}\".format(type(authkey)))\n\u001b[0;32m--> 741\u001b[0;31m     \u001b[0mmessage\u001b[0m \u001b[0;34m=\u001b[0m \u001b[0mconnection\u001b[0m\u001b[0;34m.\u001b[0m\u001b[0mrecv_bytes\u001b[0m\u001b[0;34m(\u001b[0m\u001b[0;36m256\u001b[0m\u001b[0;34m)\u001b[0m         \u001b[0;31m# reject large message\u001b[0m\u001b[0;34m\u001b[0m\u001b[0;34m\u001b[0m\u001b[0m\n\u001b[0m\u001b[1;32m    742\u001b[0m     \u001b[0;32massert\u001b[0m \u001b[0mmessage\u001b[0m\u001b[0;34m[\u001b[0m\u001b[0;34m:\u001b[0m\u001b[0mlen\u001b[0m\u001b[0;34m(\u001b[0m\u001b[0mCHALLENGE\u001b[0m\u001b[0;34m)\u001b[0m\u001b[0;34m]\u001b[0m \u001b[0;34m==\u001b[0m \u001b[0mCHALLENGE\u001b[0m\u001b[0;34m,\u001b[0m \u001b[0;34m'message = %r'\u001b[0m \u001b[0;34m%\u001b[0m \u001b[0mmessage\u001b[0m\u001b[0;34m\u001b[0m\u001b[0;34m\u001b[0m\u001b[0m\n\u001b[1;32m    743\u001b[0m     \u001b[0mmessage\u001b[0m \u001b[0;34m=\u001b[0m \u001b[0mmessage\u001b[0m\u001b[0;34m[\u001b[0m\u001b[0mlen\u001b[0m\u001b[0;34m(\u001b[0m\u001b[0mCHALLENGE\u001b[0m\u001b[0;34m)\u001b[0m\u001b[0;34m:\u001b[0m\u001b[0;34m]\u001b[0m\u001b[0;34m\u001b[0m\u001b[0;34m\u001b[0m\u001b[0m\n",
      "\u001b[0;32m/share/pkg.7/python3/3.7.7/install/lib/python3.7/multiprocessing/connection.py\u001b[0m in \u001b[0;36mrecv_bytes\u001b[0;34m(self, maxlength)\u001b[0m\n\u001b[1;32m    214\u001b[0m         \u001b[0;32mif\u001b[0m \u001b[0mmaxlength\u001b[0m \u001b[0;32mis\u001b[0m \u001b[0;32mnot\u001b[0m \u001b[0;32mNone\u001b[0m \u001b[0;32mand\u001b[0m \u001b[0mmaxlength\u001b[0m \u001b[0;34m<\u001b[0m \u001b[0;36m0\u001b[0m\u001b[0;34m:\u001b[0m\u001b[0;34m\u001b[0m\u001b[0;34m\u001b[0m\u001b[0m\n\u001b[1;32m    215\u001b[0m             \u001b[0;32mraise\u001b[0m \u001b[0mValueError\u001b[0m\u001b[0;34m(\u001b[0m\u001b[0;34m\"negative maxlength\"\u001b[0m\u001b[0;34m)\u001b[0m\u001b[0;34m\u001b[0m\u001b[0;34m\u001b[0m\u001b[0m\n\u001b[0;32m--> 216\u001b[0;31m         \u001b[0mbuf\u001b[0m \u001b[0;34m=\u001b[0m \u001b[0mself\u001b[0m\u001b[0;34m.\u001b[0m\u001b[0m_recv_bytes\u001b[0m\u001b[0;34m(\u001b[0m\u001b[0mmaxlength\u001b[0m\u001b[0;34m)\u001b[0m\u001b[0;34m\u001b[0m\u001b[0;34m\u001b[0m\u001b[0m\n\u001b[0m\u001b[1;32m    217\u001b[0m         \u001b[0;32mif\u001b[0m \u001b[0mbuf\u001b[0m \u001b[0;32mis\u001b[0m \u001b[0;32mNone\u001b[0m\u001b[0;34m:\u001b[0m\u001b[0;34m\u001b[0m\u001b[0;34m\u001b[0m\u001b[0m\n\u001b[1;32m    218\u001b[0m             \u001b[0mself\u001b[0m\u001b[0;34m.\u001b[0m\u001b[0m_bad_message_length\u001b[0m\u001b[0;34m(\u001b[0m\u001b[0;34m)\u001b[0m\u001b[0;34m\u001b[0m\u001b[0;34m\u001b[0m\u001b[0m\n",
      "\u001b[0;32m/share/pkg.7/python3/3.7.7/install/lib/python3.7/multiprocessing/connection.py\u001b[0m in \u001b[0;36m_recv_bytes\u001b[0;34m(self, maxsize)\u001b[0m\n\u001b[1;32m    405\u001b[0m \u001b[0;34m\u001b[0m\u001b[0m\n\u001b[1;32m    406\u001b[0m     \u001b[0;32mdef\u001b[0m \u001b[0m_recv_bytes\u001b[0m\u001b[0;34m(\u001b[0m\u001b[0mself\u001b[0m\u001b[0;34m,\u001b[0m \u001b[0mmaxsize\u001b[0m\u001b[0;34m=\u001b[0m\u001b[0;32mNone\u001b[0m\u001b[0;34m)\u001b[0m\u001b[0;34m:\u001b[0m\u001b[0;34m\u001b[0m\u001b[0;34m\u001b[0m\u001b[0m\n\u001b[0;32m--> 407\u001b[0;31m         \u001b[0mbuf\u001b[0m \u001b[0;34m=\u001b[0m \u001b[0mself\u001b[0m\u001b[0;34m.\u001b[0m\u001b[0m_recv\u001b[0m\u001b[0;34m(\u001b[0m\u001b[0;36m4\u001b[0m\u001b[0;34m)\u001b[0m\u001b[0;34m\u001b[0m\u001b[0;34m\u001b[0m\u001b[0m\n\u001b[0m\u001b[1;32m    408\u001b[0m         \u001b[0msize\u001b[0m\u001b[0;34m,\u001b[0m \u001b[0;34m=\u001b[0m \u001b[0mstruct\u001b[0m\u001b[0;34m.\u001b[0m\u001b[0munpack\u001b[0m\u001b[0;34m(\u001b[0m\u001b[0;34m\"!i\"\u001b[0m\u001b[0;34m,\u001b[0m \u001b[0mbuf\u001b[0m\u001b[0;34m.\u001b[0m\u001b[0mgetvalue\u001b[0m\u001b[0;34m(\u001b[0m\u001b[0;34m)\u001b[0m\u001b[0;34m)\u001b[0m\u001b[0;34m\u001b[0m\u001b[0;34m\u001b[0m\u001b[0m\n\u001b[1;32m    409\u001b[0m         \u001b[0;32mif\u001b[0m \u001b[0mmaxsize\u001b[0m \u001b[0;32mis\u001b[0m \u001b[0;32mnot\u001b[0m \u001b[0;32mNone\u001b[0m \u001b[0;32mand\u001b[0m \u001b[0msize\u001b[0m \u001b[0;34m>\u001b[0m \u001b[0mmaxsize\u001b[0m\u001b[0;34m:\u001b[0m\u001b[0;34m\u001b[0m\u001b[0;34m\u001b[0m\u001b[0m\n",
      "\u001b[0;32m/share/pkg.7/python3/3.7.7/install/lib/python3.7/multiprocessing/connection.py\u001b[0m in \u001b[0;36m_recv\u001b[0;34m(self, size, read)\u001b[0m\n\u001b[1;32m    377\u001b[0m         \u001b[0mremaining\u001b[0m \u001b[0;34m=\u001b[0m \u001b[0msize\u001b[0m\u001b[0;34m\u001b[0m\u001b[0;34m\u001b[0m\u001b[0m\n\u001b[1;32m    378\u001b[0m         \u001b[0;32mwhile\u001b[0m \u001b[0mremaining\u001b[0m \u001b[0;34m>\u001b[0m \u001b[0;36m0\u001b[0m\u001b[0;34m:\u001b[0m\u001b[0;34m\u001b[0m\u001b[0;34m\u001b[0m\u001b[0m\n\u001b[0;32m--> 379\u001b[0;31m             \u001b[0mchunk\u001b[0m \u001b[0;34m=\u001b[0m \u001b[0mread\u001b[0m\u001b[0;34m(\u001b[0m\u001b[0mhandle\u001b[0m\u001b[0;34m,\u001b[0m \u001b[0mremaining\u001b[0m\u001b[0;34m)\u001b[0m\u001b[0;34m\u001b[0m\u001b[0;34m\u001b[0m\u001b[0m\n\u001b[0m\u001b[1;32m    380\u001b[0m             \u001b[0mn\u001b[0m \u001b[0;34m=\u001b[0m \u001b[0mlen\u001b[0m\u001b[0;34m(\u001b[0m\u001b[0mchunk\u001b[0m\u001b[0;34m)\u001b[0m\u001b[0;34m\u001b[0m\u001b[0;34m\u001b[0m\u001b[0m\n\u001b[1;32m    381\u001b[0m             \u001b[0;32mif\u001b[0m \u001b[0mn\u001b[0m \u001b[0;34m==\u001b[0m \u001b[0;36m0\u001b[0m\u001b[0;34m:\u001b[0m\u001b[0;34m\u001b[0m\u001b[0;34m\u001b[0m\u001b[0m\n",
      "\u001b[0;31mKeyboardInterrupt\u001b[0m: "
     ]
    }
   ],
   "source": [
    "bce = torch.nn.BCEWithLogitsLoss()\n",
    "def criterion(logits, target):\n",
    "    loss = bce(logits.view(-1), target.view(-1))\n",
    "    return loss\n",
    "\n",
    "dummy = None\n",
    "\n",
    "def train_epoch(model, loader, optimizer):\n",
    "\n",
    "    model.train()\n",
    "    train_loss = []\n",
    "    bar = tqdm(loader)\n",
    "    for (data, target) in bar:\n",
    "        data, target = data.to(device), target.to(device)\n",
    "        \n",
    "        # zero gradients\n",
    "        optimizer.zero_grad()\n",
    "\n",
    "        #forward pass\n",
    "        logits = model(data.float())\n",
    "        \n",
    "        # calculate loss\n",
    "        loss = criterion(logits, target)\n",
    "\n",
    "        # backpropagate the loss (backward pass)\n",
    "        loss.backward()\n",
    " \n",
    "        # update parameters based on accumulated gradients\n",
    "        optimizer.step()\n",
    "\n",
    "        loss_np = loss.detach().cpu().numpy()\n",
    "\n",
    "        train_loss.append(loss_np)\n",
    "        average_loss = sum(train_loss) / len(train_loss)\n",
    "        bar.set_description('loss: %.5f, mean: %.5f' % (loss_np, average_loss))\n",
    "\n",
    "    return float(average_loss)\n",
    "\n",
    "def valid_epoch(model, loader):\n",
    "    model.eval()\n",
    "    val_loss = []\n",
    "    pos_logits = []\n",
    "    neg_logits = []\n",
    "\n",
    "    with torch.no_grad():\n",
    "        for (data, target) in tqdm(loader):\n",
    "            data, target = data.to(device), target.to(device)\n",
    "            logits = model(data.float())\n",
    "\n",
    "            loss = criterion(logits, target)\n",
    "\n",
    "            loss_np = loss.detach().cpu().numpy()\n",
    "\n",
    "            val_loss.append(float(loss_np))\n",
    "\n",
    "            logits = logits.squeeze()\n",
    "            target = target.squeeze()\n",
    "            \n",
    "            for i in range(logits.shape[-1]):\n",
    "                b = target[i].detach().cpu().numpy()\n",
    "                if b == 1:\n",
    "                    pos_logits.append(float(logits[i].detach().cpu().numpy()))\n",
    "                else:\n",
    "                    neg_logits.append(float(logits[i].detach().cpu().numpy()))\n",
    "                    \n",
    "    val_loss_mean = sum(val_loss) / len(val_loss)\n",
    "    \n",
    "    neg_logits_tensor = torch.FloatTensor(neg_logits).cuda()\n",
    "    pos_logits_tensor = torch.FloatTensor(pos_logits).cuda()\n",
    "    \n",
    "    neg_loss = criterion(neg_logits_tensor, torch.zeros(neg_logits_tensor.shape).float().cuda())\n",
    "    pos_loss = criterion(pos_logits_tensor, torch.ones(pos_logits_tensor.shape).float().cuda())\n",
    "    \n",
    "    neg_loss = neg_loss.detach().cpu().numpy()\n",
    "    pos_loss = pos_loss.detach().cpu().numpy()\n",
    "    \n",
    "    neg_mean = float(torch.sigmoid(neg_logits_tensor).mean().detach().cpu().numpy())\n",
    "    pos_mean = float(torch.sigmoid(pos_logits_tensor).mean().detach().cpu().numpy())\n",
    "    \n",
    "    return float(val_loss_mean), float(pos_loss), float(neg_loss), pos_mean, neg_mean\n",
    "\n",
    "def get_optimizer(lr, model):\n",
    "    optimizer = torch.optim.SGD(model.parameters(), lr=lr, momentum=0.9, weight_decay=0.0001)\n",
    "    return optimizer\n",
    "\n",
    "init_lr = 0.1\n",
    "n_epochs = 5\n",
    "device = 'cuda'\n",
    "\n",
    "# reduce LR by gamma three times every 10 epochs\n",
    "# each epoch is 100,000 samples\n",
    "#gamma = 10\n",
    "#schedule = [10, 20, 30]\n",
    "\n",
    "#model = resnext101.to(device)\n",
    "optimizer = get_optimizer(init_lr, model)\n",
    "model.to(device)\n",
    "\n",
    "master_train_loss = []\n",
    "master_valid_loss = []\n",
    "epoch = 1\n",
    "#best_valid_loss = 10\n",
    "\n",
    "\n",
    "while epoch <= n_epochs:\n",
    "    print(time.ctime(), 'Epoch:', epoch)\n",
    "    \n",
    "    # update learning rate \n",
    "    #if epoch in schedule:\n",
    "    #    new_lr = optimizer.param_groups[0][\"lr\"] / gamma\n",
    "     #   optimizer = get_optimizer(new_lr, model)\n",
    "    \n",
    "    #train_loader, valid_loader = get_loaders(epoch)\n",
    "    train_loader = torch.utils.data.DataLoader(train_dataset, batch_size=1,num_workers=1)\n",
    "    valid_loader = torch.utils.data.DataLoader(valid_dataset, batch_size=1,num_workers=1)\n",
    "\n",
    "    # train\n",
    "    train_loss = train_epoch(model, train_loader, optimizer)\n",
    "    optimizer.zero_grad()\n",
    "    \n",
    "    # validate\n",
    "    valid_loss, pos_loss, neg_loss, pos_mean, neg_mean = valid_epoch(model, valid_loader)\n",
    "    #valid_loss = 0\n",
    "    #pos_loss  = 0\n",
    "    #neg_loss = 0\n",
    "    #pos_mean = 0\n",
    "    #neg_mean = 0\n",
    "    \n",
    "    content = time.ctime() + ' ' + f'Epoch {epoch}, lr: {optimizer.param_groups[0][\"lr\"]:.7f}, train loss: {np.mean(train_loss):.5f}, valid loss: {(valid_loss):.5f}'\n",
    "    print(content)\n",
    "    content = f'pos loss: {(pos_loss):.5f}, neg loss: {(neg_loss):.5f}, pos mean: {(pos_mean):.5f}, neg mean {(neg_mean):.5f}'\n",
    "    print(content)\n",
    "    master_train_loss.append(train_loss)\n",
    "    master_valid_loss.append(valid_loss)\n",
    "    \n",
    "    # save loss data and model weights\n",
    "    #with open('train_loss.pkl', 'wb') as f:\n",
    "        #pickle.dump(master_train_loss, f)\n",
    "    #with open('valid_loss.pkl', 'wb') as f:\n",
    "        #pickle.dump(master_valid_loss, f)\n",
    "        \n",
    "        #torch.save(model.state_dict(), 'model-resnext-50-{}.pth'.format(epoch))\n",
    "        #best_valid_loss = valid_loss\n",
    "    \n",
    "    epoch += 1"
   ]
  },
  {
   "cell_type": "code",
   "execution_count": 51,
   "metadata": {},
   "outputs": [],
   "source": [
    "torch.save(model.state_dict(), 'model-efficientb0-lstm1.pth')"
   ]
  },
  {
   "cell_type": "markdown",
   "metadata": {},
   "source": [
    "Study Level Metrics\n",
    "==============="
   ]
  },
  {
   "cell_type": "code",
   "execution_count": 38,
   "metadata": {},
   "outputs": [],
   "source": [
    "class StudyLevelDataset2(torch.utils.data.Dataset):\n",
    "    \"\"\"Kaggle PE dataset.\"\"\"\n",
    "\n",
    "    def __init__(self, csv_file, stage):\n",
    "        \"\"\"\n",
    "        Args:\n",
    "            csv_file (string): Path to the csv file.\n",
    "            transform (callable, optional): Optional transform to be applied\n",
    "                on a sample.\n",
    "        \"\"\"\n",
    "        self.pedataframe = pd.read_csv(csv_file)\n",
    "        \n",
    "        self.hdf5_filename = '/scratch/features.hdf5'\n",
    "        \n",
    "        self._generate_row_indices_list()\n",
    "        \n",
    "        self.stage = stage\n",
    "        \n",
    "        if self.stage == 'train':\n",
    "            self.start = 0\n",
    "            self.end = 2650\n",
    "        else:\n",
    "            self.start = 2660\n",
    "            self.end = 3500\n",
    "        \n",
    "        # 0 - 2650 train\n",
    "        # 2660 - 3500 valid\n",
    "\n",
    "    def __len__(self):\n",
    "        \"\"\" Return number of 2D images. (Each CT slice is an independent image.)\"\"\"\n",
    "        #return len(self.pedataframe)\n",
    "        return self.end - self.start + 1\n",
    "        #return num_pos_samples_per_dataset + num_neg_samples_per_dataset\n",
    "        \n",
    "    def _generate_row_indices_list(self):\n",
    "        # group slice indices into studies\n",
    "        self.row_indices = [] # index into train df for every study\n",
    "        current_study_id = ''\n",
    "\n",
    "        for slice_index in range(len(self.pedataframe)):\n",
    "            new_study_id = self.pedataframe.StudyInstanceUID[slice_index]\n",
    "            if new_study_id != current_study_id:\n",
    "                self.row_indices.append(slice_index)\n",
    "                current_study_id = new_study_id\n",
    "            if slice_index % 100000 == 0:\n",
    "                print(slice_index)\n",
    "        \n",
    "    def __getitem__(self, study_index):\n",
    "        '''  '''\n",
    "        study_index = study_index + self.start\n",
    "        \n",
    "        h5py_file = h5py.File(self.hdf5_filename, \"r\")\n",
    "        \n",
    "        start_index = self.row_indices[study_index]\n",
    "        if study_index+1 < len(self.row_indices):\n",
    "            stop_index = self.row_indices[study_index+1]\n",
    "        else:\n",
    "            stop_index = len(self.pedataframe)\n",
    "            \n",
    "        # dim: seq_len x embedding_dim\n",
    "        x = np.ones((stop_index-start_index, 1280))\n",
    "            \n",
    "        for slice_index in range(start_index, stop_index):\n",
    "            data_identifier = 'tensor(' + str(slice_index) + ')'\n",
    "            slice_embeddings = h5py_file[data_identifier][:]\n",
    "            x[slice_index-start_index,:] = slice_embeddings\n",
    "\n",
    "            \n",
    "        y = np.ones(9)\n",
    "            \n",
    "        y[0] =  self.pedataframe.negative_exam_for_pe[start_index]\n",
    "        y[1] = self.pedataframe.rv_lv_ratio_gte_1[start_index]\n",
    "        y[2] = self.pedataframe.rv_lv_ratio_lt_1[start_index]\n",
    "        y[3] = self.pedataframe.leftsided_pe[start_index]\n",
    "        y[4] = self.pedataframe.chronic_pe[start_index]\n",
    "        y[5] = self.pedataframe.rightsided_pe[start_index]\n",
    "        y[6] = self.pedataframe.acute_and_chronic_pe[start_index]\n",
    "        y[7] = self.pedataframe.central_pe[start_index]\n",
    "        y[8] = self.pedataframe.indeterminate[start_index]\n",
    "        \n",
    "        h5py_file.close()\n",
    "        \n",
    "        return x, y"
   ]
  },
  {
   "cell_type": "code",
   "execution_count": 39,
   "metadata": {},
   "outputs": [
    {
     "name": "stdout",
     "output_type": "stream",
     "text": [
      "0\n",
      "100000\n",
      "200000\n",
      "300000\n",
      "400000\n",
      "500000\n",
      "600000\n",
      "700000\n",
      "800000\n",
      "900000\n",
      "1000000\n",
      "1100000\n",
      "1200000\n",
      "1300000\n",
      "1400000\n",
      "1500000\n",
      "1600000\n",
      "1700000\n",
      "0\n",
      "100000\n",
      "200000\n",
      "300000\n",
      "400000\n",
      "500000\n",
      "600000\n",
      "700000\n",
      "800000\n",
      "900000\n",
      "1000000\n",
      "1100000\n",
      "1200000\n",
      "1300000\n",
      "1400000\n",
      "1500000\n",
      "1600000\n",
      "1700000\n"
     ]
    }
   ],
   "source": [
    "data_dir = '/projectnb/ece601/kaggle-pulmonary-embolism/rsna-str-pulmonary-embolism-detection/'\n",
    "train_csv = data_dir + 'train.csv'\n",
    "train_dir = data_dir + 'train/'\n",
    "train_dataset = StudyLevelDataset2(csv_file=train_csv, stage='train')\n",
    "valid_dataset = StudyLevelDataset2(csv_file=train_csv, stage='valid')"
   ]
  },
  {
   "cell_type": "code",
   "execution_count": 40,
   "metadata": {},
   "outputs": [],
   "source": [
    "'''\n",
    "https://towardsdatascience.com/taming-lstms-variable-sized-mini-batches-and-why-pytorch-is-good-for-your-health-61d35642972e\n",
    "'''\n",
    "\n",
    "batch_size = 1\n",
    "embedding_dim = 1280  #2048\n",
    "nb_lstm_units = 64 #2048\n",
    "\n",
    "class StudyLevelLSTM(nn.Module):\n",
    "    def __init__(self, nb_layers=1, nb_lstm_units=nb_lstm_units, \n",
    "                 embedding_dim=embedding_dim, batch_size=batch_size):\n",
    "        \n",
    "        super(StudyLevelLSTM, self).__init__()\n",
    "\n",
    "        self.nb_layers = nb_layers\n",
    "        self.nb_lstm_units = nb_lstm_units\n",
    "        self.embedding_dim = embedding_dim\n",
    "        self.batch_size = batch_size\n",
    "\n",
    "        self.lstm = nn.LSTM(\n",
    "            input_size=self.embedding_dim,\n",
    "            hidden_size=self.nb_lstm_units,\n",
    "            num_layers=self.nb_layers,\n",
    "            batch_first=True\n",
    "        )\n",
    "\n",
    "        # output layer\n",
    "        self.linear = nn.Linear(self.nb_lstm_units, 9)\n",
    "\n",
    "    def init_hidden(self):\n",
    "        # the weights are of the form (nb_layers, batch_size, nb_lstm_units)\n",
    "        hidden_h0 = torch.randn(self.nb_layers, self.batch_size, self.nb_lstm_units)\n",
    "        hidden_c0 = torch.randn(self.nb_layers, self.batch_size, self.nb_lstm_units)\n",
    "\n",
    "        hidden_h0 = hidden_h0.to(device)\n",
    "        hidden_c0 = hidden_c0.to(device)\n",
    "\n",
    "        hidden_h0 = Variable(hidden_h0)\n",
    "        hidden_c0 = Variable(hidden_c0)\n",
    "\n",
    "        return (hidden_h0.to(device), hidden_c0.to(device))\n",
    "    \n",
    "    def forward(self, X):\n",
    "        # reset the LSTM hidden state. Must be done before you run a new batch. Otherwise the LSTM will treat\n",
    "        # a new batch as a continuation of a sequence\n",
    "        self.hidden = self.init_hidden()\n",
    "\n",
    "        batch_size, seq_len, _ = X.size()\n",
    "\n",
    "        # pack_padded_sequence so that padded items in the sequence won't be shown to the LSTM\n",
    "        #X = torch.nn.utils.rnn.pack_padded_sequence(x, X_lengths, batch_first=True)\n",
    "\n",
    "        # now run through LSTM\n",
    "        X, self.hidden = self.lstm(X, self.hidden)\n",
    "        \n",
    "        X = self.hidden[0]\n",
    "        X = X.contiguous()\n",
    "        X = X.view(-1, X.shape[2])\n",
    "\n",
    "        # run through actual linear layer\n",
    "        X = self.linear(X)\n",
    "\n",
    "        # I like to reshape for mental sanity so we're back to (batch_size, seq_len, nb_tags)\n",
    "        X = X.view(batch_size, 9)\n",
    "\n",
    "        return X"
   ]
  },
  {
   "cell_type": "code",
   "execution_count": 41,
   "metadata": {},
   "outputs": [
    {
     "name": "stdout",
     "output_type": "stream",
     "text": [
      "StudyLevelLSTM(\n",
      "  (lstm): LSTM(1280, 64, batch_first=True)\n",
      "  (linear): Linear(in_features=64, out_features=9, bias=True)\n",
      ")\n",
      "tensor([[-0.0184, -0.0487,  0.0485,  0.0937,  0.0497,  0.0606,  0.1190,  0.1331,\n",
      "          0.0840]], grad_fn=<ViewBackward>)\n",
      "[1. 0. 0. 0. 0. 0. 0. 0. 0.]\n"
     ]
    }
   ],
   "source": [
    "# sanity test\n",
    "\n",
    "model = StudyLevelLSTM()\n",
    "print(model)\n",
    "device = 'cpu'\n",
    "model.to(device)\n",
    "x,y = train_dataset[1]\n",
    "x = torch.tensor(x)\n",
    "x = x.unsqueeze(0).float()\n",
    "x = x.to(device)\n",
    "\n",
    "pred = model(x)\n",
    "print(pred)\n",
    "print(y)"
   ]
  },
  {
   "cell_type": "code",
   "execution_count": 42,
   "metadata": {},
   "outputs": [
    {
     "name": "stdout",
     "output_type": "stream",
     "text": [
      "Tue Dec  8 13:04:03 2020 Epoch: 1\n"
     ]
    },
    {
     "name": "stderr",
     "output_type": "stream",
     "text": [
      "loss: 0.87645, mean: 0.32227: 100%|██████████| 2651/2651 [03:16<00:00, 13.48it/s]\n",
      "100%|██████████| 841/841 [00:57<00:00, 14.50it/s]\n",
      "  0%|          | 0/2651 [00:00<?, ?it/s]"
     ]
    },
    {
     "name": "stdout",
     "output_type": "stream",
     "text": [
      "Tue Dec  8 13:08:18 2020 Epoch 1, lr: 0.1000000, train loss: 0.32227, valid loss: 0.29737\n",
      "pos loss: 0.90480, neg loss: 0.17502, pos mean: 0.48567, neg mean 0.14328\n",
      "Tue Dec  8 13:08:18 2020 Epoch: 2\n"
     ]
    },
    {
     "name": "stderr",
     "output_type": "stream",
     "text": [
      "loss: 0.99887, mean: 0.29031: 100%|██████████| 2651/2651 [03:16<00:00, 13.50it/s]\n",
      "100%|██████████| 841/841 [00:58<00:00, 14.36it/s]\n",
      "  0%|          | 0/2651 [00:00<?, ?it/s]"
     ]
    },
    {
     "name": "stdout",
     "output_type": "stream",
     "text": [
      "Tue Dec  8 13:12:33 2020 Epoch 2, lr: 0.1000000, train loss: 0.29031, valid loss: 0.26129\n",
      "pos loss: 0.85286, neg loss: 0.14212, pos mean: 0.54595, neg mean 0.11308\n",
      "Tue Dec  8 13:12:33 2020 Epoch: 3\n"
     ]
    },
    {
     "name": "stderr",
     "output_type": "stream",
     "text": [
      "loss: 0.98081, mean: 0.28251: 100%|██████████| 2651/2651 [03:16<00:00, 13.51it/s]\n",
      "100%|██████████| 841/841 [00:59<00:00, 14.04it/s]\n",
      "  0%|          | 0/2651 [00:00<?, ?it/s]"
     ]
    },
    {
     "name": "stdout",
     "output_type": "stream",
     "text": [
      "Tue Dec  8 13:16:49 2020 Epoch 3, lr: 0.1000000, train loss: 0.28251, valid loss: 0.27183\n",
      "pos loss: 0.87397, neg loss: 0.15054, pos mean: 0.51461, neg mean 0.12310\n",
      "Tue Dec  8 13:16:49 2020 Epoch: 4\n"
     ]
    },
    {
     "name": "stderr",
     "output_type": "stream",
     "text": [
      "loss: 1.04946, mean: 0.28119: 100%|██████████| 2651/2651 [03:13<00:00, 13.71it/s]\n",
      "100%|██████████| 841/841 [01:03<00:00, 13.19it/s]\n",
      "  0%|          | 0/2651 [00:00<?, ?it/s]"
     ]
    },
    {
     "name": "stdout",
     "output_type": "stream",
     "text": [
      "Tue Dec  8 13:21:06 2020 Epoch 4, lr: 0.1000000, train loss: 0.28119, valid loss: 0.26057\n",
      "pos loss: 0.85670, neg loss: 0.14049, pos mean: 0.54804, neg mean 0.11115\n",
      "Tue Dec  8 13:21:06 2020 Epoch: 5\n"
     ]
    },
    {
     "name": "stderr",
     "output_type": "stream",
     "text": [
      "loss: 0.97003, mean: 0.28370: 100%|██████████| 2651/2651 [03:11<00:00, 13.87it/s]\n",
      "100%|██████████| 841/841 [00:59<00:00, 14.06it/s]\n",
      "  0%|          | 0/2651 [00:00<?, ?it/s]"
     ]
    },
    {
     "name": "stdout",
     "output_type": "stream",
     "text": [
      "Tue Dec  8 13:25:17 2020 Epoch 5, lr: 0.1000000, train loss: 0.28370, valid loss: 0.26230\n",
      "pos loss: 0.83399, neg loss: 0.14714, pos mean: 0.56013, neg mean 0.11480\n",
      "Tue Dec  8 13:25:17 2020 Epoch: 6\n"
     ]
    },
    {
     "name": "stderr",
     "output_type": "stream",
     "text": [
      "loss: 1.03984, mean: 0.28227: 100%|██████████| 2651/2651 [03:14<00:00, 13.61it/s]\n",
      "100%|██████████| 841/841 [01:00<00:00, 13.99it/s]\n",
      "  0%|          | 0/2651 [00:00<?, ?it/s]"
     ]
    },
    {
     "name": "stdout",
     "output_type": "stream",
     "text": [
      "Tue Dec  8 13:29:32 2020 Epoch 6, lr: 0.1000000, train loss: 0.28227, valid loss: 0.25548\n",
      "pos loss: 0.85803, neg loss: 0.13411, pos mean: 0.55102, neg mean 0.10682\n",
      "Tue Dec  8 13:29:32 2020 Epoch: 7\n"
     ]
    },
    {
     "name": "stderr",
     "output_type": "stream",
     "text": [
      "loss: 1.02507, mean: 0.27940: 100%|██████████| 2651/2651 [03:07<00:00, 14.14it/s]\n",
      "100%|██████████| 841/841 [00:59<00:00, 14.06it/s]\n",
      "  0%|          | 0/2651 [00:00<?, ?it/s]"
     ]
    },
    {
     "name": "stdout",
     "output_type": "stream",
     "text": [
      "Tue Dec  8 13:33:39 2020 Epoch 7, lr: 0.1000000, train loss: 0.27940, valid loss: 0.25660\n",
      "pos loss: 0.84777, neg loss: 0.13752, pos mean: 0.55912, neg mean 0.10806\n",
      "Tue Dec  8 13:33:39 2020 Epoch: 8\n"
     ]
    },
    {
     "name": "stderr",
     "output_type": "stream",
     "text": [
      "loss: 1.02191, mean: 0.27916: 100%|██████████| 2651/2651 [03:11<00:00, 13.87it/s]\n",
      "100%|██████████| 841/841 [01:04<00:00, 13.10it/s]\n",
      "  0%|          | 0/2651 [00:00<?, ?it/s]"
     ]
    },
    {
     "name": "stdout",
     "output_type": "stream",
     "text": [
      "Tue Dec  8 13:37:54 2020 Epoch 8, lr: 0.1000000, train loss: 0.27916, valid loss: 0.25679\n",
      "pos loss: 0.84593, neg loss: 0.13812, pos mean: 0.55609, neg mean 0.10930\n",
      "Tue Dec  8 13:37:54 2020 Epoch: 9\n"
     ]
    },
    {
     "name": "stderr",
     "output_type": "stream",
     "text": [
      "loss: 1.06097, mean: 0.27844: 100%|██████████| 2651/2651 [03:08<00:00, 14.03it/s]\n",
      "100%|██████████| 841/841 [00:59<00:00, 14.22it/s]\n",
      "  0%|          | 0/2651 [00:00<?, ?it/s]"
     ]
    },
    {
     "name": "stdout",
     "output_type": "stream",
     "text": [
      "Tue Dec  8 13:42:03 2020 Epoch 9, lr: 0.1000000, train loss: 0.27844, valid loss: 0.25660\n",
      "pos loss: 0.85290, neg loss: 0.13649, pos mean: 0.55578, neg mean 0.10779\n",
      "Tue Dec  8 13:42:03 2020 Epoch: 10\n"
     ]
    },
    {
     "name": "stderr",
     "output_type": "stream",
     "text": [
      "loss: 1.12612, mean: 0.28120: 100%|██████████| 2651/2651 [03:08<00:00, 14.03it/s]\n",
      "100%|██████████| 841/841 [00:59<00:00, 14.23it/s]\n",
      "  0%|          | 0/2651 [00:00<?, ?it/s]"
     ]
    },
    {
     "name": "stdout",
     "output_type": "stream",
     "text": [
      "Tue Dec  8 13:46:11 2020 Epoch 10, lr: 0.1000000, train loss: 0.28120, valid loss: 0.25593\n",
      "pos loss: 0.87095, neg loss: 0.13205, pos mean: 0.54643, neg mean 0.10586\n",
      "Tue Dec  8 13:46:11 2020 Epoch: 11\n"
     ]
    },
    {
     "name": "stderr",
     "output_type": "stream",
     "text": [
      "loss: 0.94585, mean: 0.28033: 100%|██████████| 2651/2651 [03:10<00:00, 13.92it/s]\n",
      "100%|██████████| 841/841 [00:58<00:00, 14.48it/s]\n",
      "  0%|          | 0/2651 [00:00<?, ?it/s]"
     ]
    },
    {
     "name": "stdout",
     "output_type": "stream",
     "text": [
      "Tue Dec  8 13:50:19 2020 Epoch 11, lr: 0.1000000, train loss: 0.28033, valid loss: 0.26006\n",
      "pos loss: 0.83385, neg loss: 0.14449, pos mean: 0.55175, neg mean 0.11505\n",
      "Tue Dec  8 13:50:19 2020 Epoch: 12\n"
     ]
    },
    {
     "name": "stderr",
     "output_type": "stream",
     "text": [
      "loss: 0.97300, mean: 0.28053: 100%|██████████| 2651/2651 [03:11<00:00, 13.81it/s]\n",
      "100%|██████████| 841/841 [01:00<00:00, 13.95it/s]\n",
      "  0%|          | 0/2651 [00:00<?, ?it/s]"
     ]
    },
    {
     "name": "stdout",
     "output_type": "stream",
     "text": [
      "Tue Dec  8 13:54:31 2020 Epoch 12, lr: 0.1000000, train loss: 0.28053, valid loss: 0.26055\n",
      "pos loss: 0.84063, neg loss: 0.14370, pos mean: 0.55221, neg mean 0.11425\n",
      "Tue Dec  8 13:54:31 2020 Epoch: 13\n"
     ]
    },
    {
     "name": "stderr",
     "output_type": "stream",
     "text": [
      "loss: 1.01264, mean: 0.28134: 100%|██████████| 2651/2651 [03:10<00:00, 13.94it/s]\n",
      "100%|██████████| 841/841 [00:58<00:00, 14.39it/s]\n",
      "  0%|          | 0/2651 [00:00<?, ?it/s]"
     ]
    },
    {
     "name": "stdout",
     "output_type": "stream",
     "text": [
      "Tue Dec  8 13:58:40 2020 Epoch 13, lr: 0.1000000, train loss: 0.28134, valid loss: 0.26005\n",
      "pos loss: 0.84268, neg loss: 0.14269, pos mean: 0.54780, neg mean 0.11451\n",
      "Tue Dec  8 13:58:40 2020 Epoch: 14\n"
     ]
    },
    {
     "name": "stderr",
     "output_type": "stream",
     "text": [
      "loss: 1.00640, mean: 0.28078: 100%|██████████| 2651/2651 [03:08<00:00, 14.08it/s]\n",
      "100%|██████████| 841/841 [01:02<00:00, 13.40it/s]\n",
      "  0%|          | 0/2651 [00:00<?, ?it/s]"
     ]
    },
    {
     "name": "stdout",
     "output_type": "stream",
     "text": [
      "Tue Dec  8 14:02:51 2020 Epoch 14, lr: 0.1000000, train loss: 0.28078, valid loss: 0.25934\n",
      "pos loss: 0.83299, neg loss: 0.14379, pos mean: 0.55694, neg mean 0.11419\n",
      "Tue Dec  8 14:02:51 2020 Epoch: 15\n"
     ]
    },
    {
     "name": "stderr",
     "output_type": "stream",
     "text": [
      "loss: 0.96305, mean: 0.28353: 100%|██████████| 2651/2651 [03:09<00:00, 14.01it/s]\n",
      "100%|██████████| 841/841 [00:59<00:00, 14.25it/s]\n",
      "  0%|          | 0/2651 [00:00<?, ?it/s]"
     ]
    },
    {
     "name": "stdout",
     "output_type": "stream",
     "text": [
      "Tue Dec  8 14:06:59 2020 Epoch 15, lr: 0.1000000, train loss: 0.28353, valid loss: 0.26049\n",
      "pos loss: 0.84441, neg loss: 0.14287, pos mean: 0.54822, neg mean 0.11407\n",
      "Tue Dec  8 14:06:59 2020 Epoch: 16\n"
     ]
    },
    {
     "name": "stderr",
     "output_type": "stream",
     "text": [
      "loss: 0.87608, mean: 0.28085: 100%|██████████| 2651/2651 [03:07<00:00, 14.16it/s]\n",
      "100%|██████████| 841/841 [00:58<00:00, 14.27it/s]\n",
      "  0%|          | 0/2651 [00:00<?, ?it/s]"
     ]
    },
    {
     "name": "stdout",
     "output_type": "stream",
     "text": [
      "Tue Dec  8 14:11:05 2020 Epoch 16, lr: 0.1000000, train loss: 0.28085, valid loss: 0.26363\n",
      "pos loss: 0.82732, neg loss: 0.15009, pos mean: 0.56184, neg mean 0.11727\n",
      "Tue Dec  8 14:11:05 2020 Epoch: 17\n"
     ]
    },
    {
     "name": "stderr",
     "output_type": "stream",
     "text": [
      "loss: 0.99725, mean: 0.28056: 100%|██████████| 2651/2651 [03:14<00:00, 13.64it/s]\n",
      "100%|██████████| 841/841 [00:59<00:00, 14.04it/s]\n",
      "  0%|          | 0/2651 [00:00<?, ?it/s]"
     ]
    },
    {
     "name": "stdout",
     "output_type": "stream",
     "text": [
      "Tue Dec  8 14:15:20 2020 Epoch 17, lr: 0.1000000, train loss: 0.28056, valid loss: 0.25712\n",
      "pos loss: 0.84520, neg loss: 0.13867, pos mean: 0.55605, neg mean 0.10972\n",
      "Tue Dec  8 14:15:20 2020 Epoch: 18\n"
     ]
    },
    {
     "name": "stderr",
     "output_type": "stream",
     "text": [
      "loss: 0.97763, mean: 0.27845: 100%|██████████| 2651/2651 [03:08<00:00, 14.05it/s]\n",
      "100%|██████████| 841/841 [01:05<00:00, 12.89it/s]\n",
      "  0%|          | 0/2651 [00:00<?, ?it/s]"
     ]
    },
    {
     "name": "stdout",
     "output_type": "stream",
     "text": [
      "Tue Dec  8 14:19:34 2020 Epoch 18, lr: 0.1000000, train loss: 0.27845, valid loss: 0.25745\n",
      "pos loss: 0.84248, neg loss: 0.13961, pos mean: 0.55684, neg mean 0.11026\n",
      "Tue Dec  8 14:19:34 2020 Epoch: 19\n"
     ]
    },
    {
     "name": "stderr",
     "output_type": "stream",
     "text": [
      "loss: 1.05888, mean: 0.27807: 100%|██████████| 2651/2651 [03:11<00:00, 13.88it/s]\n",
      "100%|██████████| 841/841 [00:57<00:00, 14.50it/s]\n",
      "  0%|          | 0/2651 [00:00<?, ?it/s]"
     ]
    },
    {
     "name": "stdout",
     "output_type": "stream",
     "text": [
      "Tue Dec  8 14:23:43 2020 Epoch 19, lr: 0.1000000, train loss: 0.27807, valid loss: 0.25903\n",
      "pos loss: 0.84260, neg loss: 0.14148, pos mean: 0.55899, neg mean 0.11131\n",
      "Tue Dec  8 14:23:43 2020 Epoch: 20\n"
     ]
    },
    {
     "name": "stderr",
     "output_type": "stream",
     "text": [
      "loss: 0.97862, mean: 0.28117: 100%|██████████| 2651/2651 [03:10<00:00, 13.91it/s]\n",
      "100%|██████████| 841/841 [00:59<00:00, 14.10it/s]"
     ]
    },
    {
     "name": "stdout",
     "output_type": "stream",
     "text": [
      "Tue Dec  8 14:27:53 2020 Epoch 20, lr: 0.1000000, train loss: 0.28117, valid loss: 0.25424\n",
      "pos loss: 0.85160, neg loss: 0.13391, pos mean: 0.56291, neg mean 0.10465\n"
     ]
    },
    {
     "name": "stderr",
     "output_type": "stream",
     "text": [
      "\n"
     ]
    }
   ],
   "source": [
    "bce = torch.nn.BCEWithLogitsLoss()\n",
    "def criterion(logits, target):\n",
    "    loss = bce(logits.view(-1), target.view(-1))\n",
    "    return loss\n",
    "\n",
    "def train_epoch(model, loader, optimizer):\n",
    "\n",
    "    model.train()\n",
    "    train_loss = []\n",
    "    bar = tqdm(loader)\n",
    "    for (data, target) in bar:\n",
    "        data, target = data.to(device), target.to(device)\n",
    "        \n",
    "        # zero gradients\n",
    "        optimizer.zero_grad()\n",
    "\n",
    "        #forward pass\n",
    "        logits = model(data.float())\n",
    "        \n",
    "        # calculate loss\n",
    "        loss = criterion(logits, target)\n",
    "\n",
    "        # backpropagate the loss (backward pass)\n",
    "        loss.backward()\n",
    " \n",
    "        # update parameters based on accumulated gradients\n",
    "        optimizer.step()\n",
    "\n",
    "        loss_np = loss.detach().cpu().numpy()\n",
    "\n",
    "        train_loss.append(loss_np)\n",
    "        average_loss = sum(train_loss) / len(train_loss)\n",
    "        bar.set_description('loss: %.5f, mean: %.5f' % (loss_np, average_loss))\n",
    "\n",
    "    return float(average_loss)\n",
    "\n",
    "def valid_epoch(model, loader):\n",
    "    model.eval()\n",
    "    val_loss = []\n",
    "    pos_logits = []\n",
    "    neg_logits = []\n",
    "\n",
    "    with torch.no_grad():\n",
    "        for (data, target) in tqdm(loader):\n",
    "            data, target = data.to(device), target.to(device)\n",
    "            logits = model(data.float())\n",
    "\n",
    "            loss = criterion(logits, target)\n",
    "\n",
    "            loss_np = loss.detach().cpu().numpy()\n",
    "\n",
    "            val_loss.append(float(loss_np))\n",
    "\n",
    "            logits = logits.squeeze()\n",
    "            target = target.squeeze()\n",
    "            \n",
    "            for i in range(logits.shape[-1]):\n",
    "                b = target[i].detach().cpu().numpy()\n",
    "                if b == 1:\n",
    "                    pos_logits.append(float(logits[i].detach().cpu().numpy()))\n",
    "                else:\n",
    "                    neg_logits.append(float(logits[i].detach().cpu().numpy()))\n",
    "                    \n",
    "    val_loss_mean = sum(val_loss) / len(val_loss)\n",
    "    \n",
    "    neg_logits_tensor = torch.FloatTensor(neg_logits).cuda()\n",
    "    pos_logits_tensor = torch.FloatTensor(pos_logits).cuda()\n",
    "    \n",
    "    neg_loss = criterion(neg_logits_tensor, torch.zeros(neg_logits_tensor.shape).float().cuda())\n",
    "    pos_loss = criterion(pos_logits_tensor, torch.ones(pos_logits_tensor.shape).float().cuda())\n",
    "    \n",
    "    neg_loss = neg_loss.detach().cpu().numpy()\n",
    "    pos_loss = pos_loss.detach().cpu().numpy()\n",
    "    \n",
    "    neg_mean = float(torch.sigmoid(neg_logits_tensor).mean().detach().cpu().numpy())\n",
    "    pos_mean = float(torch.sigmoid(pos_logits_tensor).mean().detach().cpu().numpy())\n",
    "    \n",
    "    return float(val_loss_mean), float(pos_loss), float(neg_loss), pos_mean, neg_mean\n",
    "\n",
    "def get_optimizer(lr, model):\n",
    "    optimizer = torch.optim.SGD(model.parameters(), lr=lr, momentum=0.9, weight_decay=0.0001)\n",
    "    return optimizer\n",
    "\n",
    "init_lr = 0.1\n",
    "n_epochs = 20\n",
    "device = 'cuda'\n",
    "\n",
    "# reduce LR by gamma three times every 10 epochs\n",
    "# each epoch is 100,000 samples\n",
    "#gamma = 10\n",
    "#schedule = [10, 20, 30]\n",
    "\n",
    "#model = resnext101.to(device)\n",
    "optimizer = get_optimizer(init_lr, model)\n",
    "model.to(device)\n",
    "\n",
    "master_train_loss = []\n",
    "master_valid_loss = []\n",
    "epoch = 1\n",
    "#best_valid_loss = 10\n",
    "\n",
    "\n",
    "while epoch <= n_epochs:\n",
    "    print(time.ctime(), 'Epoch:', epoch)\n",
    "    \n",
    "    # update learning rate \n",
    "    #if epoch in schedule:\n",
    "    #    new_lr = optimizer.param_groups[0][\"lr\"] / gamma\n",
    "     #   optimizer = get_optimizer(new_lr, model)\n",
    "    \n",
    "    #train_loader, valid_loader = get_loaders(epoch)\n",
    "    train_loader = torch.utils.data.DataLoader(train_dataset, batch_size=1,num_workers=1)\n",
    "    valid_loader = torch.utils.data.DataLoader(valid_dataset, batch_size=1,num_workers=1)\n",
    "\n",
    "    # train\n",
    "    train_loss = train_epoch(model, train_loader, optimizer)\n",
    "    optimizer.zero_grad()\n",
    "    \n",
    "    # validate\n",
    "    valid_loss, pos_loss, neg_loss, pos_mean, neg_mean = valid_epoch(model, valid_loader)\n",
    "    #valid_loss = 0\n",
    "    #pos_loss  = 0\n",
    "    #neg_loss = 0\n",
    "    #pos_mean = 0\n",
    "    #neg_mean = 0\n",
    "    \n",
    "    content = time.ctime() + ' ' + f'Epoch {epoch}, lr: {optimizer.param_groups[0][\"lr\"]:.7f}, train loss: {np.mean(train_loss):.5f}, valid loss: {(valid_loss):.5f}'\n",
    "    print(content)\n",
    "    content = f'pos loss: {(pos_loss):.5f}, neg loss: {(neg_loss):.5f}, pos mean: {(pos_mean):.5f}, neg mean {(neg_mean):.5f}'\n",
    "    print(content)\n",
    "    master_train_loss.append(train_loss)\n",
    "    master_valid_loss.append(valid_loss)\n",
    "    \n",
    "    # save loss data and model weights\n",
    "    #with open('train_loss.pkl', 'wb') as f:\n",
    "        #pickle.dump(master_train_loss, f)\n",
    "    #with open('valid_loss.pkl', 'wb') as f:\n",
    "        #pickle.dump(master_valid_loss, f)\n",
    "        \n",
    "        #torch.save(model.state_dict(), 'model-resnext-50-{}.pth'.format(epoch))\n",
    "        #best_valid_loss = valid_loss\n",
    "    \n",
    "    epoch += 1\n",
    "           "
   ]
  },
  {
   "cell_type": "code",
   "execution_count": 43,
   "metadata": {},
   "outputs": [
    {
     "data": {
      "text/plain": [
       "[<matplotlib.lines.Line2D at 0x2ac465b0a2d0>]"
      ]
     },
     "execution_count": 43,
     "metadata": {},
     "output_type": "execute_result"
    },
    {
     "data": {
      "image/png": "[encoded data removed]",
      "text/plain": [
       "<Figure size 432x288 with 1 Axes>"
      ]
     },
     "metadata": {
      "needs_background": "light"
     },
     "output_type": "display_data"
    }
   ],
   "source": [
    "torch.save(model.state_dict(), 'model-efficientb0-lstm2.pth')\n",
    "plt.plot(master_train_loss[:], label='train')\n",
    "plt.plot(master_valid_loss[:], label='valid')"
   ]
  },
  {
   "cell_type": "code",
   "execution_count": null,
   "metadata": {},
   "outputs": [],
   "source": [
    "with open('train_loss.pkl', 'wb') as f:\n",
    "    pickle.dump(master_train_loss, f)\n",
    "with open('valid_loss.pkl', 'wb') as f:\n",
    "    pickle.dump(master_valid_loss, f)"
   ]
  }
 ],
 "metadata": {
  "kernelspec": {
   "display_name": "Python 3",
   "language": "python",
   "name": "python3"
  },
  "language_info": {
   "codemirror_mode": {
    "name": "ipython",
    "version": 3
   },
   "file_extension": ".py",
   "mimetype": "text/x-python",
   "name": "python",
   "nbconvert_exporter": "python",
   "pygments_lexer": "ipython3",
   "version": "3.7.9"
  }
 },
 "nbformat": 4,
 "nbformat_minor": 4
}
