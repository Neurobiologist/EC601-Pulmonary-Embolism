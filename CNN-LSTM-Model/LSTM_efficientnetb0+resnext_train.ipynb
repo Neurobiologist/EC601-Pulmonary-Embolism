{
 "cells": [
  {
   "cell_type": "code",
   "execution_count": 14,
   "metadata": {},
   "outputs": [],
   "source": [
    "from __future__ import division\n",
    "import argparse\n",
    "import torch\n",
    "import torch.nn.functional as F\n",
    "import torchvision.datasets as dset\n",
    "import torchvision.transforms as T\n",
    "import torchvision.models as models\n",
    "import pandas as pd\n",
    "import os\n",
    "import pydicom\n",
    "import numpy as np\n",
    "import h5py\n",
    "import time\n",
    "from tqdm import tqdm as tqdm\n",
    "import cv2\n",
    "import pickle\n",
    "from shutil import copyfile\n",
    "from matplotlib import pyplot as plt\n",
    "import seaborn as sns\n",
    "import random\n",
    "from torch import nn\n",
    "from torch.autograd import Variable"
   ]
  },
  {
   "cell_type": "markdown",
   "metadata": {},
   "source": [
    "Image Level\n",
    "==========="
   ]
  },
  {
   "cell_type": "code",
   "execution_count": 44,
   "metadata": {},
   "outputs": [],
   "source": [
    "class StudyLevelDataset(torch.utils.data.Dataset):\n",
    "    \"\"\"Kaggle PE dataset.\"\"\"\n",
    "\n",
    "    def __init__(self, csv_file, stage):\n",
    "        \"\"\"\n",
    "        Args:\n",
    "            csv_file (string): Path to the csv file.\n",
    "            transform (callable, optional): Optional transform to be applied\n",
    "                on a sample.\n",
    "        \"\"\"\n",
    "        self.pedataframe = pd.read_csv(csv_file)\n",
    "        \n",
    "        self.hdf5_filename1 = '/scratch/efficientb0_features.hdf5'\n",
    "        self.hdf5_filename2 = '/scratch/resnet_features.hdf5'\n",
    "        #self.hdf5_filename2 = '/scratch/combined_features.hdf5'\n",
    "        \n",
    "        self._generate_row_indices_list()\n",
    "        \n",
    "        self.stage = stage\n",
    "        \n",
    "        if self.stage == 'train':\n",
    "            self.start = 0\n",
    "            self.end = 2650\n",
    "        else:\n",
    "            self.start = 2660\n",
    "            self.end = 3500\n",
    "        \n",
    "        # 0 - 2650 train\n",
    "        # 2660 - 3500 valid\n",
    "\n",
    "    def __len__(self):\n",
    "        \"\"\" Return number of 2D images. (Each CT slice is an independent image.)\"\"\"\n",
    "        #return len(self.pedataframe)\n",
    "        return self.end - self.start + 1\n",
    "        #return num_pos_samples_per_dataset + num_neg_samples_per_dataset\n",
    "        \n",
    "    def _generate_row_indices_list(self):\n",
    "        # group slice indices into studies\n",
    "        self.row_indices = [] # index into train df for every study\n",
    "        current_study_id = ''\n",
    "\n",
    "        for slice_index in range(len(self.pedataframe)):\n",
    "            new_study_id = self.pedataframe.StudyInstanceUID[slice_index]\n",
    "            if new_study_id != current_study_id:\n",
    "                self.row_indices.append(slice_index)\n",
    "                current_study_id = new_study_id\n",
    "            if slice_index % 100000 == 0:\n",
    "                print(slice_index)\n",
    "        \n",
    "    def __getitem__(self, study_index):\n",
    "        '''  '''\n",
    "        study_index = study_index + self.start\n",
    "        \n",
    "        h5py_file1 = h5py.File(self.hdf5_filename1, \"r\")\n",
    "        h5py_file2 = h5py.File(self.hdf5_filename2, \"r\")\n",
    "        \n",
    "        start_index = self.row_indices[study_index]\n",
    "        if study_index+1 < len(self.row_indices):\n",
    "            stop_index = self.row_indices[study_index+1]\n",
    "        else:\n",
    "            stop_index = len(self.pedataframe)\n",
    "            \n",
    "        # dim: seq_len x embedding_dim\n",
    "        x = np.ones((stop_index-start_index, 3328))  #embedding dim = 1280 for efficientnetb0 resnet 2048 1280+2048=3328\n",
    "        y = np.ones(stop_index-start_index)\n",
    "            \n",
    "        for slice_index in range(start_index, stop_index):\n",
    "            data_identifier = 'tensor(' + str(slice_index) + ')'\n",
    "            #slice_embeddings = h5py_file1[data_identifier][:].copy()\n",
    "            #slice_embeddings.append(h5py_file2[data_identifier][:])\n",
    "            #slice_embeddings[:len(h5py_file2[data_identifier][:])] += h5py_file2[data_identifier][:]\n",
    "            slice_embeddings = np.concatenate((h5py_file1[data_identifier][:], h5py_file2[data_identifier][:]),axis=0)\n",
    "            x[slice_index-start_index,:] = slice_embeddings\n",
    "            \n",
    "            pe_present_on_image = float(int(self.pedataframe.pe_present_on_image[slice_index]))\n",
    "            y[slice_index-start_index] = pe_present_on_image\n",
    "        \n",
    "        h5py_file1.close()\n",
    "        h5py_file2.close()\n",
    "        \n",
    "        return x, y"
   ]
  },
  {
   "cell_type": "code",
   "execution_count": 45,
   "metadata": {},
   "outputs": [],
   "source": [
    "hdf5_filename1 = '/scratch/efficientb0_features.hdf5'\n",
    "h5py_file1 = h5py.File(hdf5_filename1, \"r\")\n",
    "h5py_file1['tensor(12)'][:]\n",
    "\n",
    "h5py_file1.close()\n",
    "\n",
    "hdf5_filename2 = '/scratch/resnet_features.hdf5'\n",
    "h5py_file2 = h5py.File(hdf5_filename2, \"r\")\n",
    "h5py_file2['tensor(12)'][:]\n",
    "\n",
    "h5py_file2.close()"
   ]
  },
  {
   "cell_type": "code",
   "execution_count": 46,
   "metadata": {},
   "outputs": [
    {
     "name": "stdout",
     "output_type": "stream",
     "text": [
      "0\n",
      "100000\n",
      "200000\n",
      "300000\n",
      "400000\n",
      "500000\n",
      "600000\n",
      "700000\n",
      "800000\n",
      "900000\n",
      "1000000\n",
      "1100000\n",
      "1200000\n",
      "1300000\n",
      "1400000\n",
      "1500000\n",
      "1600000\n",
      "1700000\n",
      "0\n",
      "100000\n",
      "200000\n",
      "300000\n",
      "400000\n",
      "500000\n",
      "600000\n",
      "700000\n",
      "800000\n",
      "900000\n",
      "1000000\n",
      "1100000\n",
      "1200000\n",
      "1300000\n",
      "1400000\n",
      "1500000\n",
      "1600000\n",
      "1700000\n"
     ]
    }
   ],
   "source": [
    "data_dir = '/projectnb/ece601/kaggle-pulmonary-embolism/rsna-str-pulmonary-embolism-detection/'\n",
    "train_csv = data_dir + 'train.csv'\n",
    "train_dir = data_dir + 'train/'\n",
    "train_dataset = StudyLevelDataset(csv_file=train_csv, stage='train')\n",
    "valid_dataset = StudyLevelDataset(csv_file=train_csv, stage='valid')"
   ]
  },
  {
   "cell_type": "code",
   "execution_count": 41,
   "metadata": {},
   "outputs": [],
   "source": [
    "'''\n",
    "https://towardsdatascience.com/taming-lstms-variable-sized-mini-batches-and-why-pytorch-is-good-for-your-health-61d35642972e\n",
    "'''\n",
    "\n",
    "batch_size = 1\n",
    "embedding_dim = 3328\n",
    "nb_lstm_units = 64\n",
    "\n",
    "class MyLSTM(nn.Module):\n",
    "    def __init__(self, nb_layers=1, nb_lstm_units=nb_lstm_units, \n",
    "                 embedding_dim=embedding_dim, batch_size=batch_size):\n",
    "        \n",
    "        super(MyLSTM, self).__init__()\n",
    "\n",
    "        self.nb_layers = nb_layers\n",
    "        self.nb_lstm_units = nb_lstm_units\n",
    "        self.embedding_dim = embedding_dim\n",
    "        self.batch_size = batch_size\n",
    "\n",
    "        self.lstm = nn.LSTM(\n",
    "            input_size=self.embedding_dim,\n",
    "            hidden_size=self.nb_lstm_units,\n",
    "            num_layers=self.nb_layers,\n",
    "            batch_first=True\n",
    "        )\n",
    "\n",
    "        # output layer\n",
    "        self.linear = nn.Linear(self.nb_lstm_units, 1)\n",
    "\n",
    "    def init_hidden(self):\n",
    "        # the weights are of the form (nb_layers, batch_size, nb_lstm_units)\n",
    "        hidden_h0 = torch.randn(self.nb_layers, self.batch_size, self.nb_lstm_units)\n",
    "        hidden_c0 = torch.randn(self.nb_layers, self.batch_size, self.nb_lstm_units)\n",
    "\n",
    "        hidden_h0 = hidden_h0.to(device)\n",
    "        hidden_c0 = hidden_c0.to(device)\n",
    "\n",
    "        hidden_h0 = Variable(hidden_h0)\n",
    "        hidden_c0 = Variable(hidden_c0)\n",
    "\n",
    "        return (hidden_h0.to(device), hidden_c0.to(device))\n",
    "    \n",
    "    def forward(self, X):\n",
    "        # reset the LSTM hidden state. Must be done before you run a new batch. Otherwise the LSTM will treat\n",
    "        # a new batch as a continuation of a sequence\n",
    "        self.hidden = self.init_hidden()\n",
    "\n",
    "        batch_size, seq_len, _ = X.size()\n",
    "\n",
    "        # pack_padded_sequence so that padded items in the sequence won't be shown to the LSTM\n",
    "        #X = torch.nn.utils.rnn.pack_padded_sequence(x, X_lengths, batch_first=True)\n",
    "\n",
    "        # now run through LSTM\n",
    "        X, self.hidden = self.lstm(X, self.hidden)\n",
    "\n",
    "        # undo the packing operation\n",
    "        #X, _ = torch.nn.utils.rnn.pad_packed_sequence(X, batch_first=True)\n",
    "\n",
    "        # this one is a bit tricky as well. First we need to reshape the data so it goes into the linear layer\n",
    "        X = X.contiguous()\n",
    "        X = X.view(-1, X.shape[2])\n",
    "\n",
    "        # run through actual linear layer\n",
    "        X = self.linear(X)\n",
    "\n",
    "        # ---------------------\n",
    "        # 4. Create softmax activations bc we're doing classification\n",
    "        # Dim transformation: (batch_size * seq_len, nb_lstm_units) -> (batch_size, seq_len, nb_tags)\n",
    "        #X = torch.sigmoid(X)\n",
    "\n",
    "        # I like to reshape for mental sanity so we're back to (batch_size, seq_len, nb_tags)\n",
    "        X = X.view(batch_size, seq_len)\n",
    "\n",
    "        Y_hat = X\n",
    "        return Y_hat"
   ]
  },
  {
   "cell_type": "code",
   "execution_count": 42,
   "metadata": {},
   "outputs": [
    {
     "data": {
      "text/plain": [
       "MyLSTM(\n",
       "  (lstm): LSTM(3328, 64, batch_first=True)\n",
       "  (linear): Linear(in_features=64, out_features=1, bias=True)\n",
       ")"
      ]
     },
     "execution_count": 42,
     "metadata": {},
     "output_type": "execute_result"
    }
   ],
   "source": [
    "model = MyLSTM()\n",
    "model"
   ]
  },
  {
   "cell_type": "code",
   "execution_count": 47,
   "metadata": {
    "scrolled": true
   },
   "outputs": [],
   "source": [
    "device = 'cpu'\n",
    "model.to(device)\n",
    "x,y = train_dataset[1]\n",
    "x = torch.tensor(x)\n",
    "x = x.unsqueeze(0).float()\n",
    "x = x.to(device)\n",
    "\n",
    "pred = model(x)"
   ]
  },
  {
   "cell_type": "code",
   "execution_count": 48,
   "metadata": {},
   "outputs": [
    {
     "name": "stderr",
     "output_type": "stream",
     "text": [
      "\r",
      "  0%|          | 0/2651 [00:00<?, ?it/s]"
     ]
    },
    {
     "name": "stdout",
     "output_type": "stream",
     "text": [
      "Tue Dec  8 17:45:30 2020 Epoch: 1\n"
     ]
    },
    {
     "name": "stderr",
     "output_type": "stream",
     "text": [
      "loss: 0.59039, mean: 0.11461: 100%|██████████| 2651/2651 [07:06<00:00,  6.21it/s]\n",
      "100%|██████████| 841/841 [02:15<00:00,  6.22it/s]\n",
      "  0%|          | 0/2651 [00:00<?, ?it/s]"
     ]
    },
    {
     "name": "stdout",
     "output_type": "stream",
     "text": [
      "Tue Dec  8 17:54:52 2020 Epoch 1, lr: 0.1000000, train loss: 0.11461, valid loss: 0.11209\n",
      "pos loss: 0.97172, neg loss: 0.06368, pos mean: 0.51804, neg mean 0.05103\n",
      "Tue Dec  8 17:54:52 2020 Epoch: 2\n"
     ]
    },
    {
     "name": "stderr",
     "output_type": "stream",
     "text": [
      "loss: 0.54337, mean: 0.10918: 100%|██████████| 2651/2651 [06:49<00:00,  6.47it/s]\n",
      "100%|██████████| 841/841 [02:13<00:00,  6.31it/s]\n",
      "  0%|          | 0/2651 [00:00<?, ?it/s]"
     ]
    },
    {
     "name": "stdout",
     "output_type": "stream",
     "text": [
      "Tue Dec  8 18:03:55 2020 Epoch 2, lr: 0.1000000, train loss: 0.10918, valid loss: 0.10976\n",
      "pos loss: 0.92341, neg loss: 0.06382, pos mean: 0.53065, neg mean 0.05113\n",
      "Tue Dec  8 18:03:55 2020 Epoch: 3\n"
     ]
    },
    {
     "name": "stderr",
     "output_type": "stream",
     "text": [
      "loss: 0.53598, mean: 0.10697: 100%|██████████| 2651/2651 [07:00<00:00,  6.31it/s]\n",
      "100%|██████████| 841/841 [02:19<00:00,  6.04it/s]\n",
      "  0%|          | 0/2651 [00:00<?, ?it/s]"
     ]
    },
    {
     "name": "stdout",
     "output_type": "stream",
     "text": [
      "Tue Dec  8 18:13:15 2020 Epoch 3, lr: 0.1000000, train loss: 0.10697, valid loss: 0.10674\n",
      "pos loss: 0.89275, neg loss: 0.06235, pos mean: 0.54331, neg mean 0.05005\n",
      "Tue Dec  8 18:13:15 2020 Epoch: 4\n"
     ]
    },
    {
     "name": "stderr",
     "output_type": "stream",
     "text": [
      "loss: 0.50105, mean: 0.10440: 100%|██████████| 2651/2651 [07:03<00:00,  6.25it/s]\n",
      "100%|██████████| 841/841 [02:11<00:00,  6.41it/s]\n",
      "  0%|          | 0/2651 [00:00<?, ?it/s]"
     ]
    },
    {
     "name": "stdout",
     "output_type": "stream",
     "text": [
      "Tue Dec  8 18:22:30 2020 Epoch 4, lr: 0.1000000, train loss: 0.10440, valid loss: 0.10176\n",
      "pos loss: 0.93432, neg loss: 0.05487, pos mean: 0.52761, neg mean 0.04419\n",
      "Tue Dec  8 18:22:30 2020 Epoch: 5\n"
     ]
    },
    {
     "name": "stderr",
     "output_type": "stream",
     "text": [
      "loss: 0.50699, mean: 0.10303: 100%|██████████| 2651/2651 [06:57<00:00,  6.34it/s]\n",
      "100%|██████████| 841/841 [02:12<00:00,  6.32it/s]\n",
      "  0%|          | 0/2651 [00:00<?, ?it/s]"
     ]
    },
    {
     "name": "stdout",
     "output_type": "stream",
     "text": [
      "Tue Dec  8 18:31:41 2020 Epoch 5, lr: 0.1000000, train loss: 0.10303, valid loss: 0.10105\n",
      "pos loss: 1.01042, neg loss: 0.05002, pos mean: 0.49458, neg mean 0.04109\n",
      "Tue Dec  8 18:31:41 2020 Epoch: 6\n"
     ]
    },
    {
     "name": "stderr",
     "output_type": "stream",
     "text": [
      "loss: 0.50169, mean: 0.10319: 100%|██████████| 2651/2651 [06:57<00:00,  6.34it/s]\n",
      "100%|██████████| 841/841 [02:13<00:00,  6.29it/s]\n",
      "  0%|          | 0/2651 [00:00<?, ?it/s]"
     ]
    },
    {
     "name": "stdout",
     "output_type": "stream",
     "text": [
      "Tue Dec  8 18:40:52 2020 Epoch 6, lr: 0.1000000, train loss: 0.10319, valid loss: 0.10107\n",
      "pos loss: 0.93751, neg loss: 0.05401, pos mean: 0.52824, neg mean 0.04355\n",
      "Tue Dec  8 18:40:52 2020 Epoch: 7\n"
     ]
    },
    {
     "name": "stderr",
     "output_type": "stream",
     "text": [
      "loss: 0.51036, mean: 0.10273: 100%|██████████| 2651/2651 [06:55<00:00,  6.38it/s]\n",
      "100%|██████████| 841/841 [02:20<00:00,  5.99it/s]\n",
      "  0%|          | 0/2651 [00:00<?, ?it/s]"
     ]
    },
    {
     "name": "stdout",
     "output_type": "stream",
     "text": [
      "Tue Dec  8 18:50:08 2020 Epoch 7, lr: 0.1000000, train loss: 0.10273, valid loss: 0.10037\n",
      "pos loss: 0.93675, neg loss: 0.05333, pos mean: 0.52664, neg mean 0.04330\n",
      "Tue Dec  8 18:50:08 2020 Epoch: 8\n"
     ]
    },
    {
     "name": "stderr",
     "output_type": "stream",
     "text": [
      "loss: 0.52157, mean: 0.10226: 100%|██████████| 2651/2651 [06:58<00:00,  6.34it/s]\n",
      "100%|██████████| 841/841 [02:12<00:00,  6.37it/s]\n",
      "  0%|          | 0/2651 [00:00<?, ?it/s]"
     ]
    },
    {
     "name": "stdout",
     "output_type": "stream",
     "text": [
      "Tue Dec  8 18:59:19 2020 Epoch 8, lr: 0.1000000, train loss: 0.10226, valid loss: 0.09905\n",
      "pos loss: 0.93840, neg loss: 0.05192, pos mean: 0.53407, neg mean 0.04169\n",
      "Tue Dec  8 18:59:19 2020 Epoch: 9\n"
     ]
    },
    {
     "name": "stderr",
     "output_type": "stream",
     "text": [
      "loss: 0.51058, mean: 0.10136: 100%|██████████| 2651/2651 [06:57<00:00,  6.34it/s]\n",
      "100%|██████████| 841/841 [02:15<00:00,  6.20it/s]\n",
      "  0%|          | 0/2651 [00:00<?, ?it/s]"
     ]
    },
    {
     "name": "stdout",
     "output_type": "stream",
     "text": [
      "Tue Dec  8 19:08:32 2020 Epoch 9, lr: 0.1000000, train loss: 0.10136, valid loss: 0.09756\n",
      "pos loss: 0.95502, neg loss: 0.04942, pos mean: 0.53320, neg mean 0.03954\n",
      "Tue Dec  8 19:08:32 2020 Epoch: 10\n"
     ]
    },
    {
     "name": "stderr",
     "output_type": "stream",
     "text": [
      "loss: 0.52366, mean: 0.10139: 100%|██████████| 2651/2651 [06:58<00:00,  6.33it/s]\n",
      "100%|██████████| 841/841 [02:15<00:00,  6.22it/s]\n",
      "  0%|          | 0/2651 [00:00<?, ?it/s]"
     ]
    },
    {
     "name": "stdout",
     "output_type": "stream",
     "text": [
      "Tue Dec  8 19:17:46 2020 Epoch 10, lr: 0.1000000, train loss: 0.10139, valid loss: 0.09846\n",
      "pos loss: 0.95415, neg loss: 0.05047, pos mean: 0.52921, neg mean 0.04068\n",
      "Tue Dec  8 19:17:46 2020 Epoch: 11\n"
     ]
    },
    {
     "name": "stderr",
     "output_type": "stream",
     "text": [
      "loss: 0.01318, mean: 0.13482:   2%|▏         | 51/2651 [00:05<04:52,  8.88it/s]\n"
     ]
    },
    {
     "ename": "KeyboardInterrupt",
     "evalue": "",
     "output_type": "error",
     "traceback": [
      "\u001b[0;31m---------------------------------------------------------------------------\u001b[0m",
      "\u001b[0;31mKeyboardInterrupt\u001b[0m                         Traceback (most recent call last)",
      "\u001b[0;32m<ipython-input-48-f67b2458c292>\u001b[0m in \u001b[0;36m<module>\u001b[0;34m\u001b[0m\n\u001b[1;32m    116\u001b[0m \u001b[0;34m\u001b[0m\u001b[0m\n\u001b[1;32m    117\u001b[0m     \u001b[0;31m# train\u001b[0m\u001b[0;34m\u001b[0m\u001b[0;34m\u001b[0m\u001b[0;34m\u001b[0m\u001b[0m\n\u001b[0;32m--> 118\u001b[0;31m     \u001b[0mtrain_loss\u001b[0m \u001b[0;34m=\u001b[0m \u001b[0mtrain_epoch\u001b[0m\u001b[0;34m(\u001b[0m\u001b[0mmodel\u001b[0m\u001b[0;34m,\u001b[0m \u001b[0mtrain_loader\u001b[0m\u001b[0;34m,\u001b[0m \u001b[0moptimizer\u001b[0m\u001b[0;34m)\u001b[0m\u001b[0;34m\u001b[0m\u001b[0;34m\u001b[0m\u001b[0m\n\u001b[0m\u001b[1;32m    119\u001b[0m     \u001b[0moptimizer\u001b[0m\u001b[0;34m.\u001b[0m\u001b[0mzero_grad\u001b[0m\u001b[0;34m(\u001b[0m\u001b[0;34m)\u001b[0m\u001b[0;34m\u001b[0m\u001b[0;34m\u001b[0m\u001b[0m\n\u001b[1;32m    120\u001b[0m \u001b[0;34m\u001b[0m\u001b[0m\n",
      "\u001b[0;32m<ipython-input-48-f67b2458c292>\u001b[0m in \u001b[0;36mtrain_epoch\u001b[0;34m(model, loader, optimizer)\u001b[0m\n\u001b[1;32m     11\u001b[0m     \u001b[0mtrain_loss\u001b[0m \u001b[0;34m=\u001b[0m \u001b[0;34m[\u001b[0m\u001b[0;34m]\u001b[0m\u001b[0;34m\u001b[0m\u001b[0;34m\u001b[0m\u001b[0m\n\u001b[1;32m     12\u001b[0m     \u001b[0mbar\u001b[0m \u001b[0;34m=\u001b[0m \u001b[0mtqdm\u001b[0m\u001b[0;34m(\u001b[0m\u001b[0mloader\u001b[0m\u001b[0;34m)\u001b[0m\u001b[0;34m\u001b[0m\u001b[0;34m\u001b[0m\u001b[0m\n\u001b[0;32m---> 13\u001b[0;31m     \u001b[0;32mfor\u001b[0m \u001b[0;34m(\u001b[0m\u001b[0mdata\u001b[0m\u001b[0;34m,\u001b[0m \u001b[0mtarget\u001b[0m\u001b[0;34m)\u001b[0m \u001b[0;32min\u001b[0m \u001b[0mbar\u001b[0m\u001b[0;34m:\u001b[0m\u001b[0;34m\u001b[0m\u001b[0;34m\u001b[0m\u001b[0m\n\u001b[0m\u001b[1;32m     14\u001b[0m         \u001b[0mdata\u001b[0m\u001b[0;34m,\u001b[0m \u001b[0mtarget\u001b[0m \u001b[0;34m=\u001b[0m \u001b[0mdata\u001b[0m\u001b[0;34m.\u001b[0m\u001b[0mto\u001b[0m\u001b[0;34m(\u001b[0m\u001b[0mdevice\u001b[0m\u001b[0;34m)\u001b[0m\u001b[0;34m,\u001b[0m \u001b[0mtarget\u001b[0m\u001b[0;34m.\u001b[0m\u001b[0mto\u001b[0m\u001b[0;34m(\u001b[0m\u001b[0mdevice\u001b[0m\u001b[0;34m)\u001b[0m\u001b[0;34m\u001b[0m\u001b[0;34m\u001b[0m\u001b[0m\n\u001b[1;32m     15\u001b[0m \u001b[0;34m\u001b[0m\u001b[0m\n",
      "\u001b[0;32m/share/pkg.7/python3/3.7.7/install/lib/python3.7/site-packages/tqdm/std.py\u001b[0m in \u001b[0;36m__iter__\u001b[0;34m(self)\u001b[0m\n\u001b[1;32m   1127\u001b[0m \u001b[0;34m\u001b[0m\u001b[0m\n\u001b[1;32m   1128\u001b[0m         \u001b[0;32mtry\u001b[0m\u001b[0;34m:\u001b[0m\u001b[0;34m\u001b[0m\u001b[0;34m\u001b[0m\u001b[0m\n\u001b[0;32m-> 1129\u001b[0;31m             \u001b[0;32mfor\u001b[0m \u001b[0mobj\u001b[0m \u001b[0;32min\u001b[0m \u001b[0miterable\u001b[0m\u001b[0;34m:\u001b[0m\u001b[0;34m\u001b[0m\u001b[0;34m\u001b[0m\u001b[0m\n\u001b[0m\u001b[1;32m   1130\u001b[0m                 \u001b[0;32myield\u001b[0m \u001b[0mobj\u001b[0m\u001b[0;34m\u001b[0m\u001b[0;34m\u001b[0m\u001b[0m\n\u001b[1;32m   1131\u001b[0m                 \u001b[0;31m# Update and possibly print the progressbar.\u001b[0m\u001b[0;34m\u001b[0m\u001b[0;34m\u001b[0m\u001b[0;34m\u001b[0m\u001b[0m\n",
      "\u001b[0;32m/share/pkg.7/pytorch/1.5.1/install/3.7/lib/python3.7/site-packages/torch/utils/data/dataloader.py\u001b[0m in \u001b[0;36m__next__\u001b[0;34m(self)\u001b[0m\n\u001b[1;32m    343\u001b[0m \u001b[0;34m\u001b[0m\u001b[0m\n\u001b[1;32m    344\u001b[0m     \u001b[0;32mdef\u001b[0m \u001b[0m__next__\u001b[0m\u001b[0;34m(\u001b[0m\u001b[0mself\u001b[0m\u001b[0;34m)\u001b[0m\u001b[0;34m:\u001b[0m\u001b[0;34m\u001b[0m\u001b[0;34m\u001b[0m\u001b[0m\n\u001b[0;32m--> 345\u001b[0;31m         \u001b[0mdata\u001b[0m \u001b[0;34m=\u001b[0m \u001b[0mself\u001b[0m\u001b[0;34m.\u001b[0m\u001b[0m_next_data\u001b[0m\u001b[0;34m(\u001b[0m\u001b[0;34m)\u001b[0m\u001b[0;34m\u001b[0m\u001b[0;34m\u001b[0m\u001b[0m\n\u001b[0m\u001b[1;32m    346\u001b[0m         \u001b[0mself\u001b[0m\u001b[0;34m.\u001b[0m\u001b[0m_num_yielded\u001b[0m \u001b[0;34m+=\u001b[0m \u001b[0;36m1\u001b[0m\u001b[0;34m\u001b[0m\u001b[0;34m\u001b[0m\u001b[0m\n\u001b[1;32m    347\u001b[0m         \u001b[0;32mif\u001b[0m \u001b[0mself\u001b[0m\u001b[0;34m.\u001b[0m\u001b[0m_dataset_kind\u001b[0m \u001b[0;34m==\u001b[0m \u001b[0m_DatasetKind\u001b[0m\u001b[0;34m.\u001b[0m\u001b[0mIterable\u001b[0m \u001b[0;32mand\u001b[0m\u001b[0;31m \u001b[0m\u001b[0;31m\\\u001b[0m\u001b[0;34m\u001b[0m\u001b[0;34m\u001b[0m\u001b[0m\n",
      "\u001b[0;32m/share/pkg.7/pytorch/1.5.1/install/3.7/lib/python3.7/site-packages/torch/utils/data/dataloader.py\u001b[0m in \u001b[0;36m_next_data\u001b[0;34m(self)\u001b[0m\n\u001b[1;32m    839\u001b[0m \u001b[0;34m\u001b[0m\u001b[0m\n\u001b[1;32m    840\u001b[0m             \u001b[0;32massert\u001b[0m \u001b[0;32mnot\u001b[0m \u001b[0mself\u001b[0m\u001b[0;34m.\u001b[0m\u001b[0m_shutdown\u001b[0m \u001b[0;32mand\u001b[0m \u001b[0mself\u001b[0m\u001b[0;34m.\u001b[0m\u001b[0m_tasks_outstanding\u001b[0m \u001b[0;34m>\u001b[0m \u001b[0;36m0\u001b[0m\u001b[0;34m\u001b[0m\u001b[0;34m\u001b[0m\u001b[0m\n\u001b[0;32m--> 841\u001b[0;31m             \u001b[0midx\u001b[0m\u001b[0;34m,\u001b[0m \u001b[0mdata\u001b[0m \u001b[0;34m=\u001b[0m \u001b[0mself\u001b[0m\u001b[0;34m.\u001b[0m\u001b[0m_get_data\u001b[0m\u001b[0;34m(\u001b[0m\u001b[0;34m)\u001b[0m\u001b[0;34m\u001b[0m\u001b[0;34m\u001b[0m\u001b[0m\n\u001b[0m\u001b[1;32m    842\u001b[0m             \u001b[0mself\u001b[0m\u001b[0;34m.\u001b[0m\u001b[0m_tasks_outstanding\u001b[0m \u001b[0;34m-=\u001b[0m \u001b[0;36m1\u001b[0m\u001b[0;34m\u001b[0m\u001b[0;34m\u001b[0m\u001b[0m\n\u001b[1;32m    843\u001b[0m \u001b[0;34m\u001b[0m\u001b[0m\n",
      "\u001b[0;32m/share/pkg.7/pytorch/1.5.1/install/3.7/lib/python3.7/site-packages/torch/utils/data/dataloader.py\u001b[0m in \u001b[0;36m_get_data\u001b[0;34m(self)\u001b[0m\n\u001b[1;32m    806\u001b[0m         \u001b[0;32melse\u001b[0m\u001b[0;34m:\u001b[0m\u001b[0;34m\u001b[0m\u001b[0;34m\u001b[0m\u001b[0m\n\u001b[1;32m    807\u001b[0m             \u001b[0;32mwhile\u001b[0m \u001b[0;32mTrue\u001b[0m\u001b[0;34m:\u001b[0m\u001b[0;34m\u001b[0m\u001b[0;34m\u001b[0m\u001b[0m\n\u001b[0;32m--> 808\u001b[0;31m                 \u001b[0msuccess\u001b[0m\u001b[0;34m,\u001b[0m \u001b[0mdata\u001b[0m \u001b[0;34m=\u001b[0m \u001b[0mself\u001b[0m\u001b[0;34m.\u001b[0m\u001b[0m_try_get_data\u001b[0m\u001b[0;34m(\u001b[0m\u001b[0;34m)\u001b[0m\u001b[0;34m\u001b[0m\u001b[0;34m\u001b[0m\u001b[0m\n\u001b[0m\u001b[1;32m    809\u001b[0m                 \u001b[0;32mif\u001b[0m \u001b[0msuccess\u001b[0m\u001b[0;34m:\u001b[0m\u001b[0;34m\u001b[0m\u001b[0;34m\u001b[0m\u001b[0m\n\u001b[1;32m    810\u001b[0m                     \u001b[0;32mreturn\u001b[0m \u001b[0mdata\u001b[0m\u001b[0;34m\u001b[0m\u001b[0;34m\u001b[0m\u001b[0m\n",
      "\u001b[0;32m/share/pkg.7/pytorch/1.5.1/install/3.7/lib/python3.7/site-packages/torch/utils/data/dataloader.py\u001b[0m in \u001b[0;36m_try_get_data\u001b[0;34m(self, timeout)\u001b[0m\n\u001b[1;32m    759\u001b[0m         \u001b[0;31m#   (bool: whether successfully get data, any: data if successful else None)\u001b[0m\u001b[0;34m\u001b[0m\u001b[0;34m\u001b[0m\u001b[0;34m\u001b[0m\u001b[0m\n\u001b[1;32m    760\u001b[0m         \u001b[0;32mtry\u001b[0m\u001b[0;34m:\u001b[0m\u001b[0;34m\u001b[0m\u001b[0;34m\u001b[0m\u001b[0m\n\u001b[0;32m--> 761\u001b[0;31m             \u001b[0mdata\u001b[0m \u001b[0;34m=\u001b[0m \u001b[0mself\u001b[0m\u001b[0;34m.\u001b[0m\u001b[0m_data_queue\u001b[0m\u001b[0;34m.\u001b[0m\u001b[0mget\u001b[0m\u001b[0;34m(\u001b[0m\u001b[0mtimeout\u001b[0m\u001b[0;34m=\u001b[0m\u001b[0mtimeout\u001b[0m\u001b[0;34m)\u001b[0m\u001b[0;34m\u001b[0m\u001b[0;34m\u001b[0m\u001b[0m\n\u001b[0m\u001b[1;32m    762\u001b[0m             \u001b[0;32mreturn\u001b[0m \u001b[0;34m(\u001b[0m\u001b[0;32mTrue\u001b[0m\u001b[0;34m,\u001b[0m \u001b[0mdata\u001b[0m\u001b[0;34m)\u001b[0m\u001b[0;34m\u001b[0m\u001b[0;34m\u001b[0m\u001b[0m\n\u001b[1;32m    763\u001b[0m         \u001b[0;32mexcept\u001b[0m \u001b[0mException\u001b[0m \u001b[0;32mas\u001b[0m \u001b[0me\u001b[0m\u001b[0;34m:\u001b[0m\u001b[0;34m\u001b[0m\u001b[0;34m\u001b[0m\u001b[0m\n",
      "\u001b[0;32m/share/pkg.7/python3/3.7.7/install/lib/python3.7/multiprocessing/queues.py\u001b[0m in \u001b[0;36mget\u001b[0;34m(self, block, timeout)\u001b[0m\n\u001b[1;32m    111\u001b[0m                 \u001b[0mself\u001b[0m\u001b[0;34m.\u001b[0m\u001b[0m_rlock\u001b[0m\u001b[0;34m.\u001b[0m\u001b[0mrelease\u001b[0m\u001b[0;34m(\u001b[0m\u001b[0;34m)\u001b[0m\u001b[0;34m\u001b[0m\u001b[0;34m\u001b[0m\u001b[0m\n\u001b[1;32m    112\u001b[0m         \u001b[0;31m# unserialize the data after having released the lock\u001b[0m\u001b[0;34m\u001b[0m\u001b[0;34m\u001b[0m\u001b[0;34m\u001b[0m\u001b[0m\n\u001b[0;32m--> 113\u001b[0;31m         \u001b[0;32mreturn\u001b[0m \u001b[0m_ForkingPickler\u001b[0m\u001b[0;34m.\u001b[0m\u001b[0mloads\u001b[0m\u001b[0;34m(\u001b[0m\u001b[0mres\u001b[0m\u001b[0;34m)\u001b[0m\u001b[0;34m\u001b[0m\u001b[0;34m\u001b[0m\u001b[0m\n\u001b[0m\u001b[1;32m    114\u001b[0m \u001b[0;34m\u001b[0m\u001b[0m\n\u001b[1;32m    115\u001b[0m     \u001b[0;32mdef\u001b[0m \u001b[0mqsize\u001b[0m\u001b[0;34m(\u001b[0m\u001b[0mself\u001b[0m\u001b[0;34m)\u001b[0m\u001b[0;34m:\u001b[0m\u001b[0;34m\u001b[0m\u001b[0;34m\u001b[0m\u001b[0m\n",
      "\u001b[0;32m/share/pkg.7/pytorch/1.5.1/install/3.7/lib/python3.7/site-packages/torch/multiprocessing/reductions.py\u001b[0m in \u001b[0;36mrebuild_storage_fd\u001b[0;34m(cls, df, size)\u001b[0m\n\u001b[1;32m    292\u001b[0m                     \u001b[0;32mraise\u001b[0m\u001b[0;34m\u001b[0m\u001b[0;34m\u001b[0m\u001b[0m\n\u001b[1;32m    293\u001b[0m     \u001b[0;32melse\u001b[0m\u001b[0;34m:\u001b[0m\u001b[0;34m\u001b[0m\u001b[0;34m\u001b[0m\u001b[0m\n\u001b[0;32m--> 294\u001b[0;31m         \u001b[0mfd\u001b[0m \u001b[0;34m=\u001b[0m \u001b[0mdf\u001b[0m\u001b[0;34m.\u001b[0m\u001b[0mdetach\u001b[0m\u001b[0;34m(\u001b[0m\u001b[0;34m)\u001b[0m\u001b[0;34m\u001b[0m\u001b[0;34m\u001b[0m\u001b[0m\n\u001b[0m\u001b[1;32m    295\u001b[0m     \u001b[0;32mtry\u001b[0m\u001b[0;34m:\u001b[0m\u001b[0;34m\u001b[0m\u001b[0;34m\u001b[0m\u001b[0m\n\u001b[1;32m    296\u001b[0m         \u001b[0mstorage\u001b[0m \u001b[0;34m=\u001b[0m \u001b[0mstorage_from_cache\u001b[0m\u001b[0;34m(\u001b[0m\u001b[0mcls\u001b[0m\u001b[0;34m,\u001b[0m \u001b[0mfd_id\u001b[0m\u001b[0;34m(\u001b[0m\u001b[0mfd\u001b[0m\u001b[0;34m)\u001b[0m\u001b[0;34m)\u001b[0m\u001b[0;34m\u001b[0m\u001b[0;34m\u001b[0m\u001b[0m\n",
      "\u001b[0;32m/share/pkg.7/python3/3.7.7/install/lib/python3.7/multiprocessing/resource_sharer.py\u001b[0m in \u001b[0;36mdetach\u001b[0;34m(self)\u001b[0m\n\u001b[1;32m     55\u001b[0m         \u001b[0;32mdef\u001b[0m \u001b[0mdetach\u001b[0m\u001b[0;34m(\u001b[0m\u001b[0mself\u001b[0m\u001b[0;34m)\u001b[0m\u001b[0;34m:\u001b[0m\u001b[0;34m\u001b[0m\u001b[0;34m\u001b[0m\u001b[0m\n\u001b[1;32m     56\u001b[0m             \u001b[0;34m'''Get the fd.  This should only be called once.'''\u001b[0m\u001b[0;34m\u001b[0m\u001b[0;34m\u001b[0m\u001b[0m\n\u001b[0;32m---> 57\u001b[0;31m             \u001b[0;32mwith\u001b[0m \u001b[0m_resource_sharer\u001b[0m\u001b[0;34m.\u001b[0m\u001b[0mget_connection\u001b[0m\u001b[0;34m(\u001b[0m\u001b[0mself\u001b[0m\u001b[0;34m.\u001b[0m\u001b[0m_id\u001b[0m\u001b[0;34m)\u001b[0m \u001b[0;32mas\u001b[0m \u001b[0mconn\u001b[0m\u001b[0;34m:\u001b[0m\u001b[0;34m\u001b[0m\u001b[0;34m\u001b[0m\u001b[0m\n\u001b[0m\u001b[1;32m     58\u001b[0m                 \u001b[0;32mreturn\u001b[0m \u001b[0mreduction\u001b[0m\u001b[0;34m.\u001b[0m\u001b[0mrecv_handle\u001b[0m\u001b[0;34m(\u001b[0m\u001b[0mconn\u001b[0m\u001b[0;34m)\u001b[0m\u001b[0;34m\u001b[0m\u001b[0;34m\u001b[0m\u001b[0m\n\u001b[1;32m     59\u001b[0m \u001b[0;34m\u001b[0m\u001b[0m\n",
      "\u001b[0;32m/share/pkg.7/python3/3.7.7/install/lib/python3.7/multiprocessing/resource_sharer.py\u001b[0m in \u001b[0;36mget_connection\u001b[0;34m(ident)\u001b[0m\n\u001b[1;32m     85\u001b[0m         \u001b[0;32mfrom\u001b[0m \u001b[0;34m.\u001b[0m\u001b[0mconnection\u001b[0m \u001b[0;32mimport\u001b[0m \u001b[0mClient\u001b[0m\u001b[0;34m\u001b[0m\u001b[0;34m\u001b[0m\u001b[0m\n\u001b[1;32m     86\u001b[0m         \u001b[0maddress\u001b[0m\u001b[0;34m,\u001b[0m \u001b[0mkey\u001b[0m \u001b[0;34m=\u001b[0m \u001b[0mident\u001b[0m\u001b[0;34m\u001b[0m\u001b[0;34m\u001b[0m\u001b[0m\n\u001b[0;32m---> 87\u001b[0;31m         \u001b[0mc\u001b[0m \u001b[0;34m=\u001b[0m \u001b[0mClient\u001b[0m\u001b[0;34m(\u001b[0m\u001b[0maddress\u001b[0m\u001b[0;34m,\u001b[0m \u001b[0mauthkey\u001b[0m\u001b[0;34m=\u001b[0m\u001b[0mprocess\u001b[0m\u001b[0;34m.\u001b[0m\u001b[0mcurrent_process\u001b[0m\u001b[0;34m(\u001b[0m\u001b[0;34m)\u001b[0m\u001b[0;34m.\u001b[0m\u001b[0mauthkey\u001b[0m\u001b[0;34m)\u001b[0m\u001b[0;34m\u001b[0m\u001b[0;34m\u001b[0m\u001b[0m\n\u001b[0m\u001b[1;32m     88\u001b[0m         \u001b[0mc\u001b[0m\u001b[0;34m.\u001b[0m\u001b[0msend\u001b[0m\u001b[0;34m(\u001b[0m\u001b[0;34m(\u001b[0m\u001b[0mkey\u001b[0m\u001b[0;34m,\u001b[0m \u001b[0mos\u001b[0m\u001b[0;34m.\u001b[0m\u001b[0mgetpid\u001b[0m\u001b[0;34m(\u001b[0m\u001b[0;34m)\u001b[0m\u001b[0;34m)\u001b[0m\u001b[0;34m)\u001b[0m\u001b[0;34m\u001b[0m\u001b[0;34m\u001b[0m\u001b[0m\n\u001b[1;32m     89\u001b[0m         \u001b[0;32mreturn\u001b[0m \u001b[0mc\u001b[0m\u001b[0;34m\u001b[0m\u001b[0;34m\u001b[0m\u001b[0m\n",
      "\u001b[0;32m/share/pkg.7/python3/3.7.7/install/lib/python3.7/multiprocessing/connection.py\u001b[0m in \u001b[0;36mClient\u001b[0;34m(address, family, authkey)\u001b[0m\n\u001b[1;32m    496\u001b[0m \u001b[0;34m\u001b[0m\u001b[0m\n\u001b[1;32m    497\u001b[0m     \u001b[0;32mif\u001b[0m \u001b[0mauthkey\u001b[0m \u001b[0;32mis\u001b[0m \u001b[0;32mnot\u001b[0m \u001b[0;32mNone\u001b[0m\u001b[0;34m:\u001b[0m\u001b[0;34m\u001b[0m\u001b[0;34m\u001b[0m\u001b[0m\n\u001b[0;32m--> 498\u001b[0;31m         \u001b[0manswer_challenge\u001b[0m\u001b[0;34m(\u001b[0m\u001b[0mc\u001b[0m\u001b[0;34m,\u001b[0m \u001b[0mauthkey\u001b[0m\u001b[0;34m)\u001b[0m\u001b[0;34m\u001b[0m\u001b[0;34m\u001b[0m\u001b[0m\n\u001b[0m\u001b[1;32m    499\u001b[0m         \u001b[0mdeliver_challenge\u001b[0m\u001b[0;34m(\u001b[0m\u001b[0mc\u001b[0m\u001b[0;34m,\u001b[0m \u001b[0mauthkey\u001b[0m\u001b[0;34m)\u001b[0m\u001b[0;34m\u001b[0m\u001b[0;34m\u001b[0m\u001b[0m\n\u001b[1;32m    500\u001b[0m \u001b[0;34m\u001b[0m\u001b[0m\n",
      "\u001b[0;32m/share/pkg.7/python3/3.7.7/install/lib/python3.7/multiprocessing/connection.py\u001b[0m in \u001b[0;36manswer_challenge\u001b[0;34m(connection, authkey)\u001b[0m\n\u001b[1;32m    739\u001b[0m         raise ValueError(\n\u001b[1;32m    740\u001b[0m             \"Authkey must be bytes, not {0!s}\".format(type(authkey)))\n\u001b[0;32m--> 741\u001b[0;31m     \u001b[0mmessage\u001b[0m \u001b[0;34m=\u001b[0m \u001b[0mconnection\u001b[0m\u001b[0;34m.\u001b[0m\u001b[0mrecv_bytes\u001b[0m\u001b[0;34m(\u001b[0m\u001b[0;36m256\u001b[0m\u001b[0;34m)\u001b[0m         \u001b[0;31m# reject large message\u001b[0m\u001b[0;34m\u001b[0m\u001b[0;34m\u001b[0m\u001b[0m\n\u001b[0m\u001b[1;32m    742\u001b[0m     \u001b[0;32massert\u001b[0m \u001b[0mmessage\u001b[0m\u001b[0;34m[\u001b[0m\u001b[0;34m:\u001b[0m\u001b[0mlen\u001b[0m\u001b[0;34m(\u001b[0m\u001b[0mCHALLENGE\u001b[0m\u001b[0;34m)\u001b[0m\u001b[0;34m]\u001b[0m \u001b[0;34m==\u001b[0m \u001b[0mCHALLENGE\u001b[0m\u001b[0;34m,\u001b[0m \u001b[0;34m'message = %r'\u001b[0m \u001b[0;34m%\u001b[0m \u001b[0mmessage\u001b[0m\u001b[0;34m\u001b[0m\u001b[0;34m\u001b[0m\u001b[0m\n\u001b[1;32m    743\u001b[0m     \u001b[0mmessage\u001b[0m \u001b[0;34m=\u001b[0m \u001b[0mmessage\u001b[0m\u001b[0;34m[\u001b[0m\u001b[0mlen\u001b[0m\u001b[0;34m(\u001b[0m\u001b[0mCHALLENGE\u001b[0m\u001b[0;34m)\u001b[0m\u001b[0;34m:\u001b[0m\u001b[0;34m]\u001b[0m\u001b[0;34m\u001b[0m\u001b[0;34m\u001b[0m\u001b[0m\n",
      "\u001b[0;32m/share/pkg.7/python3/3.7.7/install/lib/python3.7/multiprocessing/connection.py\u001b[0m in \u001b[0;36mrecv_bytes\u001b[0;34m(self, maxlength)\u001b[0m\n\u001b[1;32m    214\u001b[0m         \u001b[0;32mif\u001b[0m \u001b[0mmaxlength\u001b[0m \u001b[0;32mis\u001b[0m \u001b[0;32mnot\u001b[0m \u001b[0;32mNone\u001b[0m \u001b[0;32mand\u001b[0m \u001b[0mmaxlength\u001b[0m \u001b[0;34m<\u001b[0m \u001b[0;36m0\u001b[0m\u001b[0;34m:\u001b[0m\u001b[0;34m\u001b[0m\u001b[0;34m\u001b[0m\u001b[0m\n\u001b[1;32m    215\u001b[0m             \u001b[0;32mraise\u001b[0m \u001b[0mValueError\u001b[0m\u001b[0;34m(\u001b[0m\u001b[0;34m\"negative maxlength\"\u001b[0m\u001b[0;34m)\u001b[0m\u001b[0;34m\u001b[0m\u001b[0;34m\u001b[0m\u001b[0m\n\u001b[0;32m--> 216\u001b[0;31m         \u001b[0mbuf\u001b[0m \u001b[0;34m=\u001b[0m \u001b[0mself\u001b[0m\u001b[0;34m.\u001b[0m\u001b[0m_recv_bytes\u001b[0m\u001b[0;34m(\u001b[0m\u001b[0mmaxlength\u001b[0m\u001b[0;34m)\u001b[0m\u001b[0;34m\u001b[0m\u001b[0;34m\u001b[0m\u001b[0m\n\u001b[0m\u001b[1;32m    217\u001b[0m         \u001b[0;32mif\u001b[0m \u001b[0mbuf\u001b[0m \u001b[0;32mis\u001b[0m \u001b[0;32mNone\u001b[0m\u001b[0;34m:\u001b[0m\u001b[0;34m\u001b[0m\u001b[0;34m\u001b[0m\u001b[0m\n\u001b[1;32m    218\u001b[0m             \u001b[0mself\u001b[0m\u001b[0;34m.\u001b[0m\u001b[0m_bad_message_length\u001b[0m\u001b[0;34m(\u001b[0m\u001b[0;34m)\u001b[0m\u001b[0;34m\u001b[0m\u001b[0;34m\u001b[0m\u001b[0m\n",
      "\u001b[0;32m/share/pkg.7/python3/3.7.7/install/lib/python3.7/multiprocessing/connection.py\u001b[0m in \u001b[0;36m_recv_bytes\u001b[0;34m(self, maxsize)\u001b[0m\n\u001b[1;32m    405\u001b[0m \u001b[0;34m\u001b[0m\u001b[0m\n\u001b[1;32m    406\u001b[0m     \u001b[0;32mdef\u001b[0m \u001b[0m_recv_bytes\u001b[0m\u001b[0;34m(\u001b[0m\u001b[0mself\u001b[0m\u001b[0;34m,\u001b[0m \u001b[0mmaxsize\u001b[0m\u001b[0;34m=\u001b[0m\u001b[0;32mNone\u001b[0m\u001b[0;34m)\u001b[0m\u001b[0;34m:\u001b[0m\u001b[0;34m\u001b[0m\u001b[0;34m\u001b[0m\u001b[0m\n\u001b[0;32m--> 407\u001b[0;31m         \u001b[0mbuf\u001b[0m \u001b[0;34m=\u001b[0m \u001b[0mself\u001b[0m\u001b[0;34m.\u001b[0m\u001b[0m_recv\u001b[0m\u001b[0;34m(\u001b[0m\u001b[0;36m4\u001b[0m\u001b[0;34m)\u001b[0m\u001b[0;34m\u001b[0m\u001b[0;34m\u001b[0m\u001b[0m\n\u001b[0m\u001b[1;32m    408\u001b[0m         \u001b[0msize\u001b[0m\u001b[0;34m,\u001b[0m \u001b[0;34m=\u001b[0m \u001b[0mstruct\u001b[0m\u001b[0;34m.\u001b[0m\u001b[0munpack\u001b[0m\u001b[0;34m(\u001b[0m\u001b[0;34m\"!i\"\u001b[0m\u001b[0;34m,\u001b[0m \u001b[0mbuf\u001b[0m\u001b[0;34m.\u001b[0m\u001b[0mgetvalue\u001b[0m\u001b[0;34m(\u001b[0m\u001b[0;34m)\u001b[0m\u001b[0;34m)\u001b[0m\u001b[0;34m\u001b[0m\u001b[0;34m\u001b[0m\u001b[0m\n\u001b[1;32m    409\u001b[0m         \u001b[0;32mif\u001b[0m \u001b[0mmaxsize\u001b[0m \u001b[0;32mis\u001b[0m \u001b[0;32mnot\u001b[0m \u001b[0;32mNone\u001b[0m \u001b[0;32mand\u001b[0m \u001b[0msize\u001b[0m \u001b[0;34m>\u001b[0m \u001b[0mmaxsize\u001b[0m\u001b[0;34m:\u001b[0m\u001b[0;34m\u001b[0m\u001b[0;34m\u001b[0m\u001b[0m\n",
      "\u001b[0;32m/share/pkg.7/python3/3.7.7/install/lib/python3.7/multiprocessing/connection.py\u001b[0m in \u001b[0;36m_recv\u001b[0;34m(self, size, read)\u001b[0m\n\u001b[1;32m    377\u001b[0m         \u001b[0mremaining\u001b[0m \u001b[0;34m=\u001b[0m \u001b[0msize\u001b[0m\u001b[0;34m\u001b[0m\u001b[0;34m\u001b[0m\u001b[0m\n\u001b[1;32m    378\u001b[0m         \u001b[0;32mwhile\u001b[0m \u001b[0mremaining\u001b[0m \u001b[0;34m>\u001b[0m \u001b[0;36m0\u001b[0m\u001b[0;34m:\u001b[0m\u001b[0;34m\u001b[0m\u001b[0;34m\u001b[0m\u001b[0m\n\u001b[0;32m--> 379\u001b[0;31m             \u001b[0mchunk\u001b[0m \u001b[0;34m=\u001b[0m \u001b[0mread\u001b[0m\u001b[0;34m(\u001b[0m\u001b[0mhandle\u001b[0m\u001b[0;34m,\u001b[0m \u001b[0mremaining\u001b[0m\u001b[0;34m)\u001b[0m\u001b[0;34m\u001b[0m\u001b[0;34m\u001b[0m\u001b[0m\n\u001b[0m\u001b[1;32m    380\u001b[0m             \u001b[0mn\u001b[0m \u001b[0;34m=\u001b[0m \u001b[0mlen\u001b[0m\u001b[0;34m(\u001b[0m\u001b[0mchunk\u001b[0m\u001b[0;34m)\u001b[0m\u001b[0;34m\u001b[0m\u001b[0;34m\u001b[0m\u001b[0m\n\u001b[1;32m    381\u001b[0m             \u001b[0;32mif\u001b[0m \u001b[0mn\u001b[0m \u001b[0;34m==\u001b[0m \u001b[0;36m0\u001b[0m\u001b[0;34m:\u001b[0m\u001b[0;34m\u001b[0m\u001b[0;34m\u001b[0m\u001b[0m\n",
      "\u001b[0;31mKeyboardInterrupt\u001b[0m: "
     ]
    }
   ],
   "source": [
    "bce = torch.nn.BCEWithLogitsLoss()\n",
    "def criterion(logits, target):\n",
    "    loss = bce(logits.view(-1), target.view(-1))\n",
    "    return loss\n",
    "\n",
    "dummy = None\n",
    "\n",
    "def train_epoch(model, loader, optimizer):\n",
    "\n",
    "    model.train()\n",
    "    train_loss = []\n",
    "    bar = tqdm(loader)\n",
    "    for (data, target) in bar:\n",
    "        data, target = data.to(device), target.to(device)\n",
    "        \n",
    "        # zero gradients\n",
    "        optimizer.zero_grad()\n",
    "\n",
    "        #forward pass\n",
    "        logits = model(data.float())\n",
    "        \n",
    "        # calculate loss\n",
    "        loss = criterion(logits, target)\n",
    "\n",
    "        # backpropagate the loss (backward pass)\n",
    "        loss.backward()\n",
    " \n",
    "        # update parameters based on accumulated gradients\n",
    "        optimizer.step()\n",
    "\n",
    "        loss_np = loss.detach().cpu().numpy()\n",
    "\n",
    "        train_loss.append(loss_np)\n",
    "        average_loss = sum(train_loss) / len(train_loss)\n",
    "        bar.set_description('loss: %.5f, mean: %.5f' % (loss_np, average_loss))\n",
    "\n",
    "    return float(average_loss)\n",
    "\n",
    "def valid_epoch(model, loader):\n",
    "    model.eval()\n",
    "    val_loss = []\n",
    "    pos_logits = []\n",
    "    neg_logits = []\n",
    "\n",
    "    with torch.no_grad():\n",
    "        for (data, target) in tqdm(loader):\n",
    "            data, target = data.to(device), target.to(device)\n",
    "            logits = model(data.float())\n",
    "\n",
    "            loss = criterion(logits, target)\n",
    "\n",
    "            loss_np = loss.detach().cpu().numpy()\n",
    "\n",
    "            val_loss.append(float(loss_np))\n",
    "\n",
    "            logits = logits.squeeze()\n",
    "            target = target.squeeze()\n",
    "            \n",
    "            for i in range(logits.shape[-1]):\n",
    "                b = target[i].detach().cpu().numpy()\n",
    "                if b == 1:\n",
    "                    pos_logits.append(float(logits[i].detach().cpu().numpy()))\n",
    "                else:\n",
    "                    neg_logits.append(float(logits[i].detach().cpu().numpy()))\n",
    "                    \n",
    "    val_loss_mean = sum(val_loss) / len(val_loss)\n",
    "    \n",
    "    neg_logits_tensor = torch.FloatTensor(neg_logits).cuda()\n",
    "    pos_logits_tensor = torch.FloatTensor(pos_logits).cuda()\n",
    "    \n",
    "    neg_loss = criterion(neg_logits_tensor, torch.zeros(neg_logits_tensor.shape).float().cuda())\n",
    "    pos_loss = criterion(pos_logits_tensor, torch.ones(pos_logits_tensor.shape).float().cuda())\n",
    "    \n",
    "    neg_loss = neg_loss.detach().cpu().numpy()\n",
    "    pos_loss = pos_loss.detach().cpu().numpy()\n",
    "    \n",
    "    neg_mean = float(torch.sigmoid(neg_logits_tensor).mean().detach().cpu().numpy())\n",
    "    pos_mean = float(torch.sigmoid(pos_logits_tensor).mean().detach().cpu().numpy())\n",
    "    \n",
    "    return float(val_loss_mean), float(pos_loss), float(neg_loss), pos_mean, neg_mean\n",
    "\n",
    "def get_optimizer(lr, model):\n",
    "    optimizer = torch.optim.SGD(model.parameters(), lr=lr, momentum=0.9, weight_decay=0.0001)\n",
    "    return optimizer\n",
    "\n",
    "init_lr = 0.1\n",
    "n_epochs = 20\n",
    "device = 'cuda'\n",
    "\n",
    "# reduce LR by gamma three times every 10 epochs\n",
    "# each epoch is 100,000 samples\n",
    "#gamma = 10\n",
    "#schedule = [10, 20, 30]\n",
    "\n",
    "#model = resnext101.to(device)\n",
    "optimizer = get_optimizer(init_lr, model)\n",
    "model.to(device)\n",
    "\n",
    "master_train_loss = []\n",
    "master_valid_loss = []\n",
    "epoch = 1\n",
    "#best_valid_loss = 10\n",
    "\n",
    "\n",
    "while epoch <= n_epochs:\n",
    "    print(time.ctime(), 'Epoch:', epoch)\n",
    "    \n",
    "    # update learning rate \n",
    "    #if epoch in schedule:\n",
    "    #    new_lr = optimizer.param_groups[0][\"lr\"] / gamma\n",
    "     #   optimizer = get_optimizer(new_lr, model)\n",
    "    \n",
    "    #train_loader, valid_loader = get_loaders(epoch)\n",
    "    train_loader = torch.utils.data.DataLoader(train_dataset, batch_size=1,num_workers=1)\n",
    "    valid_loader = torch.utils.data.DataLoader(valid_dataset, batch_size=1,num_workers=1)\n",
    "\n",
    "    # train\n",
    "    train_loss = train_epoch(model, train_loader, optimizer)\n",
    "    optimizer.zero_grad()\n",
    "    \n",
    "    # validate\n",
    "    valid_loss, pos_loss, neg_loss, pos_mean, neg_mean = valid_epoch(model, valid_loader)\n",
    "    #valid_loss = 0\n",
    "    #pos_loss  = 0\n",
    "    #neg_loss = 0\n",
    "    #pos_mean = 0\n",
    "    #neg_mean = 0\n",
    "    \n",
    "    content = time.ctime() + ' ' + f'Epoch {epoch}, lr: {optimizer.param_groups[0][\"lr\"]:.7f}, train loss: {np.mean(train_loss):.5f}, valid loss: {(valid_loss):.5f}'\n",
    "    print(content)\n",
    "    content = f'pos loss: {(pos_loss):.5f}, neg loss: {(neg_loss):.5f}, pos mean: {(pos_mean):.5f}, neg mean {(neg_mean):.5f}'\n",
    "    print(content)\n",
    "    master_train_loss.append(train_loss)\n",
    "    master_valid_loss.append(valid_loss)\n",
    "    \n",
    "    # save loss data and model weights\n",
    "    #with open('train_loss.pkl', 'wb') as f:\n",
    "        #pickle.dump(master_train_loss, f)\n",
    "    #with open('valid_loss.pkl', 'wb') as f:\n",
    "        #pickle.dump(master_valid_loss, f)\n",
    "        \n",
    "        #torch.save(model.state_dict(), 'model-resnext-50-{}.pth'.format(epoch))\n",
    "        #best_valid_loss = valid_loss\n",
    "    \n",
    "    epoch += 1\n",
    "           "
   ]
  },
  {
   "cell_type": "code",
   "execution_count": 49,
   "metadata": {},
   "outputs": [
    {
     "data": {
      "text/plain": [
       "[<matplotlib.lines.Line2D at 0x2b6a15e13610>]"
      ]
     },
     "execution_count": 49,
     "metadata": {},
     "output_type": "execute_result"
    },
    {
     "data": {
      "image/png": "[encoded data removed]",
      "text/plain": [
       "<Figure size 432x288 with 1 Axes>"
      ]
     },
     "metadata": {
      "needs_background": "light"
     },
     "output_type": "display_data"
    }
   ],
   "source": [
    "torch.save(model.state_dict(), 'model-combined-lstm1.pth')\n",
    "plt.plot(master_train_loss[:], label='train')\n",
    "plt.plot(master_valid_loss[:], label='valid')"
   ]
  },
  {
   "cell_type": "markdown",
   "metadata": {},
   "source": [
    "Study Level Metrics\n",
    "==============="
   ]
  },
  {
   "cell_type": "code",
   "execution_count": 50,
   "metadata": {},
   "outputs": [],
   "source": [
    "class StudyLevelDataset2(torch.utils.data.Dataset):\n",
    "    \"\"\"Kaggle PE dataset.\"\"\"\n",
    "\n",
    "    def __init__(self, csv_file, stage):\n",
    "        \"\"\"\n",
    "        Args:\n",
    "            csv_file (string): Path to the csv file.\n",
    "            transform (callable, optional): Optional transform to be applied\n",
    "                on a sample.\n",
    "        \"\"\"\n",
    "        self.pedataframe = pd.read_csv(csv_file)\n",
    "        \n",
    "        #self.hdf5_filename = '/scratch/features.hdf5'\n",
    "        self.hdf5_filename1 = '/scratch/efficientb0_features.hdf5'\n",
    "        self.hdf5_filename2 = '/scratch/resnet_features.hdf5'\n",
    "        \n",
    "        self._generate_row_indices_list()\n",
    "        \n",
    "        self.stage = stage\n",
    "        \n",
    "        if self.stage == 'train':\n",
    "            self.start = 0\n",
    "            self.end = 2650\n",
    "        else:\n",
    "            self.start = 2660\n",
    "            self.end = 3500\n",
    "        \n",
    "        # 0 - 2650 train\n",
    "        # 2660 - 3500 valid\n",
    "\n",
    "    def __len__(self):\n",
    "        \"\"\" Return number of 2D images. (Each CT slice is an independent image.)\"\"\"\n",
    "        #return len(self.pedataframe)\n",
    "        return self.end - self.start + 1\n",
    "        #return num_pos_samples_per_dataset + num_neg_samples_per_dataset\n",
    "        \n",
    "    def _generate_row_indices_list(self):\n",
    "        # group slice indices into studies\n",
    "        self.row_indices = [] # index into train df for every study\n",
    "        current_study_id = ''\n",
    "\n",
    "        for slice_index in range(len(self.pedataframe)):\n",
    "            new_study_id = self.pedataframe.StudyInstanceUID[slice_index]\n",
    "            if new_study_id != current_study_id:\n",
    "                self.row_indices.append(slice_index)\n",
    "                current_study_id = new_study_id\n",
    "            if slice_index % 100000 == 0:\n",
    "                print(slice_index)\n",
    "        \n",
    "    def __getitem__(self, study_index):\n",
    "        '''  '''\n",
    "        study_index = study_index + self.start\n",
    "        \n",
    "        #h5py_file = h5py.File(self.hdf5_filename, \"r\")\n",
    "        h5py_file1 = h5py.File(self.hdf5_filename1, \"r\")\n",
    "        h5py_file2 = h5py.File(self.hdf5_filename2, \"r\")\n",
    "        \n",
    "        start_index = self.row_indices[study_index]\n",
    "        if study_index+1 < len(self.row_indices):\n",
    "            stop_index = self.row_indices[study_index+1]\n",
    "        else:\n",
    "            stop_index = len(self.pedataframe)\n",
    "            \n",
    "        # dim: seq_len x embedding_dim\n",
    "        x = np.ones((stop_index-start_index, 3328)) #1280+2048=3328\n",
    "            \n",
    "        for slice_index in range(start_index, stop_index):\n",
    "            data_identifier = 'tensor(' + str(slice_index) + ')'\n",
    "            #slice_embeddings = h5py_file[data_identifier][:]\n",
    "            slice_embeddings = np.concatenate((h5py_file1[data_identifier][:], h5py_file2[data_identifier][:]),axis=0)\n",
    "            x[slice_index-start_index,:] = slice_embeddings\n",
    "\n",
    "            \n",
    "        y = np.ones(9)\n",
    "            \n",
    "        y[0] =  self.pedataframe.negative_exam_for_pe[start_index]\n",
    "        y[1] = self.pedataframe.rv_lv_ratio_gte_1[start_index]\n",
    "        y[2] = self.pedataframe.rv_lv_ratio_lt_1[start_index]\n",
    "        y[3] = self.pedataframe.leftsided_pe[start_index]\n",
    "        y[4] = self.pedataframe.chronic_pe[start_index]\n",
    "        y[5] = self.pedataframe.rightsided_pe[start_index]\n",
    "        y[6] = self.pedataframe.acute_and_chronic_pe[start_index]\n",
    "        y[7] = self.pedataframe.central_pe[start_index]\n",
    "        y[8] = self.pedataframe.indeterminate[start_index]\n",
    "        \n",
    "        h5py_file1.close()\n",
    "        h5py_file2.close()\n",
    "        \n",
    "        return x, y"
   ]
  },
  {
   "cell_type": "code",
   "execution_count": 51,
   "metadata": {},
   "outputs": [
    {
     "name": "stdout",
     "output_type": "stream",
     "text": [
      "0\n",
      "100000\n",
      "200000\n",
      "300000\n",
      "400000\n",
      "500000\n",
      "600000\n",
      "700000\n",
      "800000\n",
      "900000\n",
      "1000000\n",
      "1100000\n",
      "1200000\n",
      "1300000\n",
      "1400000\n",
      "1500000\n",
      "1600000\n",
      "1700000\n",
      "0\n",
      "100000\n",
      "200000\n",
      "300000\n",
      "400000\n",
      "500000\n",
      "600000\n",
      "700000\n",
      "800000\n",
      "900000\n",
      "1000000\n",
      "1100000\n",
      "1200000\n",
      "1300000\n",
      "1400000\n",
      "1500000\n",
      "1600000\n",
      "1700000\n"
     ]
    }
   ],
   "source": [
    "data_dir = '/projectnb/ece601/kaggle-pulmonary-embolism/rsna-str-pulmonary-embolism-detection/'\n",
    "train_csv = data_dir + 'train.csv'\n",
    "train_dir = data_dir + 'train/'\n",
    "train_dataset = StudyLevelDataset2(csv_file=train_csv, stage='train')\n",
    "valid_dataset = StudyLevelDataset2(csv_file=train_csv, stage='valid')"
   ]
  },
  {
   "cell_type": "code",
   "execution_count": 52,
   "metadata": {},
   "outputs": [],
   "source": [
    "'''\n",
    "https://towardsdatascience.com/taming-lstms-variable-sized-mini-batches-and-why-pytorch-is-good-for-your-health-61d35642972e\n",
    "'''\n",
    "\n",
    "batch_size = 1\n",
    "embedding_dim = 3328  #2048+1280=3328\n",
    "nb_lstm_units = 64 #2048\n",
    "\n",
    "class StudyLevelLSTM(nn.Module):\n",
    "    def __init__(self, nb_layers=1, nb_lstm_units=nb_lstm_units, \n",
    "                 embedding_dim=embedding_dim, batch_size=batch_size):\n",
    "        \n",
    "        super(StudyLevelLSTM, self).__init__()\n",
    "\n",
    "        self.nb_layers = nb_layers\n",
    "        self.nb_lstm_units = nb_lstm_units\n",
    "        self.embedding_dim = embedding_dim\n",
    "        self.batch_size = batch_size\n",
    "\n",
    "        self.lstm = nn.LSTM(\n",
    "            input_size=self.embedding_dim,\n",
    "            hidden_size=self.nb_lstm_units,\n",
    "            num_layers=self.nb_layers,\n",
    "            batch_first=True\n",
    "        )\n",
    "\n",
    "        # output layer\n",
    "        self.linear = nn.Linear(self.nb_lstm_units, 9)\n",
    "\n",
    "    def init_hidden(self):\n",
    "        # the weights are of the form (nb_layers, batch_size, nb_lstm_units)\n",
    "        hidden_h0 = torch.randn(self.nb_layers, self.batch_size, self.nb_lstm_units)\n",
    "        hidden_c0 = torch.randn(self.nb_layers, self.batch_size, self.nb_lstm_units)\n",
    "\n",
    "        hidden_h0 = hidden_h0.to(device)\n",
    "        hidden_c0 = hidden_c0.to(device)\n",
    "\n",
    "        hidden_h0 = Variable(hidden_h0)\n",
    "        hidden_c0 = Variable(hidden_c0)\n",
    "\n",
    "        return (hidden_h0.to(device), hidden_c0.to(device))\n",
    "    \n",
    "    def forward(self, X):\n",
    "        # reset the LSTM hidden state. Must be done before you run a new batch. Otherwise the LSTM will treat\n",
    "        # a new batch as a continuation of a sequence\n",
    "        self.hidden = self.init_hidden()\n",
    "\n",
    "        batch_size, seq_len, _ = X.size()\n",
    "\n",
    "        # pack_padded_sequence so that padded items in the sequence won't be shown to the LSTM\n",
    "        #X = torch.nn.utils.rnn.pack_padded_sequence(x, X_lengths, batch_first=True)\n",
    "\n",
    "        # now run through LSTM\n",
    "        X, self.hidden = self.lstm(X, self.hidden)\n",
    "        \n",
    "        X = self.hidden[0]\n",
    "        X = X.contiguous()\n",
    "        X = X.view(-1, X.shape[2])\n",
    "\n",
    "        # run through actual linear layer\n",
    "        X = self.linear(X)\n",
    "\n",
    "        # I like to reshape for mental sanity so we're back to (batch_size, seq_len, nb_tags)\n",
    "        X = X.view(batch_size, 9)\n",
    "\n",
    "        return X"
   ]
  },
  {
   "cell_type": "code",
   "execution_count": 53,
   "metadata": {},
   "outputs": [
    {
     "name": "stdout",
     "output_type": "stream",
     "text": [
      "StudyLevelLSTM(\n",
      "  (lstm): LSTM(3328, 64, batch_first=True)\n",
      "  (linear): Linear(in_features=64, out_features=9, bias=True)\n",
      ")\n",
      "tensor([[-0.0556,  0.0040,  0.0738,  0.0298, -0.1024, -0.0057,  0.1472,  0.1130,\n",
      "         -0.0249]], grad_fn=<ViewBackward>)\n",
      "[1. 0. 0. 0. 0. 0. 0. 0. 0.]\n"
     ]
    }
   ],
   "source": [
    "# sanity test\n",
    "\n",
    "model = StudyLevelLSTM()\n",
    "print(model)\n",
    "device = 'cpu'\n",
    "model.to(device)\n",
    "x,y = train_dataset[1]\n",
    "x = torch.tensor(x)\n",
    "x = x.unsqueeze(0).float()\n",
    "x = x.to(device)\n",
    "\n",
    "pred = model(x)\n",
    "print(pred)\n",
    "print(y)"
   ]
  },
  {
   "cell_type": "code",
   "execution_count": 54,
   "metadata": {},
   "outputs": [
    {
     "name": "stdout",
     "output_type": "stream",
     "text": [
      "Tue Dec  8 19:19:56 2020 Epoch: 1\n"
     ]
    },
    {
     "name": "stderr",
     "output_type": "stream",
     "text": [
      "loss: 0.81994, mean: 0.30827: 100%|██████████| 2651/2651 [06:17<00:00,  7.02it/s]\n",
      "100%|██████████| 841/841 [02:03<00:00,  6.79it/s]\n",
      "  0%|          | 0/2651 [00:00<?, ?it/s]"
     ]
    },
    {
     "name": "stdout",
     "output_type": "stream",
     "text": [
      "Tue Dec  8 19:28:17 2020 Epoch 1, lr: 0.1000000, train loss: 0.30827, valid loss: 0.26646\n",
      "pos loss: 0.85295, neg loss: 0.14832, pos mean: 0.54306, neg mean 0.11677\n",
      "Tue Dec  8 19:28:17 2020 Epoch: 2\n"
     ]
    },
    {
     "name": "stderr",
     "output_type": "stream",
     "text": [
      "loss: 0.83186, mean: 0.27366: 100%|██████████| 2651/2651 [06:15<00:00,  7.06it/s]\n",
      "100%|██████████| 841/841 [01:57<00:00,  7.14it/s]\n",
      "  0%|          | 0/2651 [00:00<?, ?it/s]"
     ]
    },
    {
     "name": "stdout",
     "output_type": "stream",
     "text": [
      "Tue Dec  8 19:36:31 2020 Epoch 2, lr: 0.1000000, train loss: 0.27366, valid loss: 0.25923\n",
      "pos loss: 0.83003, neg loss: 0.14425, pos mean: 0.54735, neg mean 0.11519\n",
      "Tue Dec  8 19:36:31 2020 Epoch: 3\n"
     ]
    },
    {
     "name": "stderr",
     "output_type": "stream",
     "text": [
      "loss: 0.84055, mean: 0.27040: 100%|██████████| 2651/2651 [06:14<00:00,  7.09it/s]\n",
      "100%|██████████| 841/841 [01:58<00:00,  7.10it/s]\n",
      "  0%|          | 0/2651 [00:00<?, ?it/s]"
     ]
    },
    {
     "name": "stdout",
     "output_type": "stream",
     "text": [
      "Tue Dec  8 19:44:43 2020 Epoch 3, lr: 0.1000000, train loss: 0.27040, valid loss: 0.25551\n",
      "pos loss: 0.81304, neg loss: 0.14321, pos mean: 0.56081, neg mean 0.11335\n",
      "Tue Dec  8 19:44:43 2020 Epoch: 4\n"
     ]
    },
    {
     "name": "stderr",
     "output_type": "stream",
     "text": [
      "loss: 0.86529, mean: 0.26817: 100%|██████████| 2651/2651 [06:09<00:00,  7.17it/s]\n",
      "100%|██████████| 841/841 [01:56<00:00,  7.20it/s]\n",
      "  0%|          | 0/2651 [00:00<?, ?it/s]"
     ]
    },
    {
     "name": "stdout",
     "output_type": "stream",
     "text": [
      "Tue Dec  8 19:52:50 2020 Epoch 4, lr: 0.1000000, train loss: 0.26817, valid loss: 0.25195\n",
      "pos loss: 0.80600, neg loss: 0.14035, pos mean: 0.56849, neg mean 0.11055\n",
      "Tue Dec  8 19:52:50 2020 Epoch: 5\n"
     ]
    },
    {
     "name": "stderr",
     "output_type": "stream",
     "text": [
      "loss: 0.70024, mean: 0.26796: 100%|██████████| 2651/2651 [06:10<00:00,  7.16it/s]\n",
      "100%|██████████| 841/841 [02:00<00:00,  7.00it/s]\n",
      "  0%|          | 0/2651 [00:00<?, ?it/s]"
     ]
    },
    {
     "name": "stdout",
     "output_type": "stream",
     "text": [
      "Tue Dec  8 20:01:00 2020 Epoch 5, lr: 0.1000000, train loss: 0.26796, valid loss: 0.28286\n",
      "pos loss: 0.81854, neg loss: 0.17496, pos mean: 0.52322, neg mean 0.14166\n",
      "Tue Dec  8 20:01:00 2020 Epoch: 6\n"
     ]
    },
    {
     "name": "stderr",
     "output_type": "stream",
     "text": [
      "loss: 0.75327, mean: 0.26718: 100%|██████████| 2651/2651 [06:11<00:00,  7.14it/s]\n",
      "100%|██████████| 841/841 [01:56<00:00,  7.25it/s]\n",
      "  0%|          | 0/2651 [00:00<?, ?it/s]"
     ]
    },
    {
     "name": "stdout",
     "output_type": "stream",
     "text": [
      "Tue Dec  8 20:09:08 2020 Epoch 6, lr: 0.1000000, train loss: 0.26718, valid loss: 0.25123\n",
      "pos loss: 0.78764, neg loss: 0.14319, pos mean: 0.58159, neg mean 0.11078\n",
      "Tue Dec  8 20:09:08 2020 Epoch: 7\n"
     ]
    },
    {
     "name": "stderr",
     "output_type": "stream",
     "text": [
      "loss: 0.88507, mean: 0.26831: 100%|██████████| 2651/2651 [06:08<00:00,  7.20it/s]\n",
      "100%|██████████| 841/841 [01:56<00:00,  7.21it/s]\n",
      "  0%|          | 0/2651 [00:00<?, ?it/s]"
     ]
    },
    {
     "name": "stdout",
     "output_type": "stream",
     "text": [
      "Tue Dec  8 20:17:13 2020 Epoch 7, lr: 0.1000000, train loss: 0.26831, valid loss: 0.26061\n",
      "pos loss: 0.83268, neg loss: 0.14539, pos mean: 0.54253, neg mean 0.11782\n",
      "Tue Dec  8 20:17:13 2020 Epoch: 8\n"
     ]
    },
    {
     "name": "stderr",
     "output_type": "stream",
     "text": [
      "loss: 0.67710, mean: 0.27247: 100%|██████████| 2651/2651 [06:09<00:00,  7.17it/s]\n",
      "100%|██████████| 841/841 [02:00<00:00,  6.98it/s]\n",
      "  0%|          | 0/2651 [00:00<?, ?it/s]"
     ]
    },
    {
     "name": "stdout",
     "output_type": "stream",
     "text": [
      "Tue Dec  8 20:25:23 2020 Epoch 8, lr: 0.1000000, train loss: 0.27247, valid loss: 0.26286\n",
      "pos loss: 0.81357, neg loss: 0.15194, pos mean: 0.55736, neg mean 0.11853\n",
      "Tue Dec  8 20:25:23 2020 Epoch: 9\n"
     ]
    },
    {
     "name": "stderr",
     "output_type": "stream",
     "text": [
      "loss: 0.77080, mean: 0.26907: 100%|██████████| 2651/2651 [06:10<00:00,  7.15it/s]\n",
      "100%|██████████| 841/841 [01:58<00:00,  7.12it/s]\n",
      "  0%|          | 0/2651 [00:00<?, ?it/s]"
     ]
    },
    {
     "name": "stdout",
     "output_type": "stream",
     "text": [
      "Tue Dec  8 20:33:32 2020 Epoch 9, lr: 0.1000000, train loss: 0.26907, valid loss: 0.25831\n",
      "pos loss: 0.82666, neg loss: 0.14383, pos mean: 0.54478, neg mean 0.11641\n",
      "Tue Dec  8 20:33:32 2020 Epoch: 10\n"
     ]
    },
    {
     "name": "stderr",
     "output_type": "stream",
     "text": [
      "loss: 0.79723, mean: 0.26835: 100%|██████████| 2651/2651 [06:11<00:00,  7.13it/s]\n",
      "100%|██████████| 841/841 [01:58<00:00,  7.08it/s]\n",
      "  0%|          | 0/2651 [00:00<?, ?it/s]"
     ]
    },
    {
     "name": "stdout",
     "output_type": "stream",
     "text": [
      "Tue Dec  8 20:41:43 2020 Epoch 10, lr: 0.1000000, train loss: 0.26835, valid loss: 0.24976\n",
      "pos loss: 0.81756, neg loss: 0.13539, pos mean: 0.56475, neg mean 0.10696\n",
      "Tue Dec  8 20:41:43 2020 Epoch: 11\n"
     ]
    },
    {
     "name": "stderr",
     "output_type": "stream",
     "text": [
      "loss: 0.75187, mean: 0.26511: 100%|██████████| 2651/2651 [06:20<00:00,  6.96it/s]\n",
      "100%|██████████| 841/841 [01:59<00:00,  7.03it/s]\n",
      "  0%|          | 0/2651 [00:00<?, ?it/s]"
     ]
    },
    {
     "name": "stdout",
     "output_type": "stream",
     "text": [
      "Tue Dec  8 20:50:03 2020 Epoch 11, lr: 0.1000000, train loss: 0.26511, valid loss: 0.25418\n",
      "pos loss: 0.81030, neg loss: 0.14217, pos mean: 0.56229, neg mean 0.11240\n",
      "Tue Dec  8 20:50:03 2020 Epoch: 12\n"
     ]
    },
    {
     "name": "stderr",
     "output_type": "stream",
     "text": [
      "loss: 0.79204, mean: 0.26520: 100%|██████████| 2651/2651 [06:33<00:00,  6.74it/s]\n",
      "100%|██████████| 841/841 [01:58<00:00,  7.08it/s]\n",
      "  0%|          | 0/2651 [00:00<?, ?it/s]"
     ]
    },
    {
     "name": "stdout",
     "output_type": "stream",
     "text": [
      "Tue Dec  8 20:58:35 2020 Epoch 12, lr: 0.1000000, train loss: 0.26520, valid loss: 0.24878\n",
      "pos loss: 0.81499, neg loss: 0.13473, pos mean: 0.56885, neg mean 0.10619\n",
      "Tue Dec  8 20:58:35 2020 Epoch: 13\n"
     ]
    },
    {
     "name": "stderr",
     "output_type": "stream",
     "text": [
      "loss: 0.77189, mean: 0.26429: 100%|██████████| 2651/2651 [06:20<00:00,  6.97it/s]\n",
      "100%|██████████| 841/841 [01:55<00:00,  7.28it/s]\n",
      "  0%|          | 0/2651 [00:00<?, ?it/s]"
     ]
    },
    {
     "name": "stdout",
     "output_type": "stream",
     "text": [
      "Tue Dec  8 21:06:51 2020 Epoch 13, lr: 0.1000000, train loss: 0.26429, valid loss: 0.26648\n",
      "pos loss: 0.86251, neg loss: 0.14642, pos mean: 0.53569, neg mean 0.11662\n",
      "Tue Dec  8 21:06:51 2020 Epoch: 14\n"
     ]
    },
    {
     "name": "stderr",
     "output_type": "stream",
     "text": [
      "loss: 0.80110, mean: 0.26793: 100%|██████████| 2651/2651 [06:07<00:00,  7.22it/s]\n",
      "100%|██████████| 841/841 [01:56<00:00,  7.25it/s]\n",
      "  0%|          | 0/2651 [00:00<?, ?it/s]"
     ]
    },
    {
     "name": "stdout",
     "output_type": "stream",
     "text": [
      "Tue Dec  8 21:14:54 2020 Epoch 14, lr: 0.1000000, train loss: 0.26793, valid loss: 0.25188\n",
      "pos loss: 0.81395, neg loss: 0.13867, pos mean: 0.56492, neg mean 0.10936\n",
      "Tue Dec  8 21:14:54 2020 Epoch: 15\n"
     ]
    },
    {
     "name": "stderr",
     "output_type": "stream",
     "text": [
      "loss: 0.81802, mean: 0.26597: 100%|██████████| 2651/2651 [06:18<00:00,  7.00it/s]\n",
      "100%|██████████| 841/841 [02:12<00:00,  6.33it/s]\n",
      "  0%|          | 0/2651 [00:00<?, ?it/s]"
     ]
    },
    {
     "name": "stdout",
     "output_type": "stream",
     "text": [
      "Tue Dec  8 21:23:26 2020 Epoch 15, lr: 0.1000000, train loss: 0.26597, valid loss: 0.25666\n",
      "pos loss: 0.83718, neg loss: 0.13973, pos mean: 0.55543, neg mean 0.11091\n",
      "Tue Dec  8 21:23:26 2020 Epoch: 16\n"
     ]
    },
    {
     "name": "stderr",
     "output_type": "stream",
     "text": [
      "loss: 0.75667, mean: 0.26385: 100%|██████████| 2651/2651 [06:51<00:00,  6.44it/s]\n",
      "100%|██████████| 841/841 [02:09<00:00,  6.49it/s]\n",
      "  0%|          | 0/2651 [00:00<?, ?it/s]"
     ]
    },
    {
     "name": "stdout",
     "output_type": "stream",
     "text": [
      "Tue Dec  8 21:32:27 2020 Epoch 16, lr: 0.1000000, train loss: 0.26385, valid loss: 0.25196\n",
      "pos loss: 0.81990, neg loss: 0.13756, pos mean: 0.56576, neg mean 0.10902\n",
      "Tue Dec  8 21:32:27 2020 Epoch: 17\n"
     ]
    },
    {
     "name": "stderr",
     "output_type": "stream",
     "text": [
      "loss: 0.77314, mean: 0.26514: 100%|██████████| 2651/2651 [06:54<00:00,  6.40it/s]\n",
      "100%|██████████| 841/841 [02:13<00:00,  6.30it/s]\n",
      "  0%|          | 0/2651 [00:00<?, ?it/s]"
     ]
    },
    {
     "name": "stdout",
     "output_type": "stream",
     "text": [
      "Tue Dec  8 21:41:35 2020 Epoch 17, lr: 0.1000000, train loss: 0.26514, valid loss: 0.25355\n",
      "pos loss: 0.83020, neg loss: 0.13740, pos mean: 0.55666, neg mean 0.10910\n",
      "Tue Dec  8 21:41:35 2020 Epoch: 18\n"
     ]
    },
    {
     "name": "stderr",
     "output_type": "stream",
     "text": [
      "loss: 0.79086, mean: 0.26672: 100%|██████████| 2651/2651 [06:56<00:00,  6.37it/s]\n",
      "100%|██████████| 841/841 [02:10<00:00,  6.45it/s]\n",
      "  0%|          | 0/2651 [00:00<?, ?it/s]"
     ]
    },
    {
     "name": "stdout",
     "output_type": "stream",
     "text": [
      "Tue Dec  8 21:50:41 2020 Epoch 18, lr: 0.1000000, train loss: 0.26672, valid loss: 0.25102\n",
      "pos loss: 0.81798, neg loss: 0.13682, pos mean: 0.56785, neg mean 0.10749\n",
      "Tue Dec  8 21:50:41 2020 Epoch: 19\n"
     ]
    },
    {
     "name": "stderr",
     "output_type": "stream",
     "text": [
      "loss: 0.74905, mean: 0.26474: 100%|██████████| 2651/2651 [06:57<00:00,  6.35it/s]\n",
      "100%|██████████| 841/841 [02:11<00:00,  6.38it/s]\n",
      "  0%|          | 0/2651 [00:00<?, ?it/s]"
     ]
    },
    {
     "name": "stdout",
     "output_type": "stream",
     "text": [
      "Tue Dec  8 21:59:51 2020 Epoch 19, lr: 0.1000000, train loss: 0.26474, valid loss: 0.25384\n",
      "pos loss: 0.80747, neg loss: 0.14232, pos mean: 0.57403, neg mean 0.11027\n",
      "Tue Dec  8 21:59:51 2020 Epoch: 20\n"
     ]
    },
    {
     "name": "stderr",
     "output_type": "stream",
     "text": [
      "loss: 0.78854, mean: 0.26436: 100%|██████████| 2651/2651 [06:56<00:00,  6.36it/s]\n",
      "100%|██████████| 841/841 [02:11<00:00,  6.39it/s]"
     ]
    },
    {
     "name": "stdout",
     "output_type": "stream",
     "text": [
      "Tue Dec  8 22:08:59 2020 Epoch 20, lr: 0.1000000, train loss: 0.26436, valid loss: 0.25058\n",
      "pos loss: 0.82251, neg loss: 0.13538, pos mean: 0.56769, neg mean 0.10584\n"
     ]
    },
    {
     "name": "stderr",
     "output_type": "stream",
     "text": [
      "\n"
     ]
    }
   ],
   "source": [
    "bce = torch.nn.BCEWithLogitsLoss()\n",
    "def criterion(logits, target):\n",
    "    loss = bce(logits.view(-1), target.view(-1))\n",
    "    return loss\n",
    "\n",
    "def train_epoch(model, loader, optimizer):\n",
    "\n",
    "    model.train()\n",
    "    train_loss = []\n",
    "    bar = tqdm(loader)\n",
    "    for (data, target) in bar:\n",
    "        data, target = data.to(device), target.to(device)\n",
    "        \n",
    "        # zero gradients\n",
    "        optimizer.zero_grad()\n",
    "\n",
    "        #forward pass\n",
    "        logits = model(data.float())\n",
    "        \n",
    "        # calculate loss\n",
    "        loss = criterion(logits, target)\n",
    "\n",
    "        # backpropagate the loss (backward pass)\n",
    "        loss.backward()\n",
    " \n",
    "        # update parameters based on accumulated gradients\n",
    "        optimizer.step()\n",
    "\n",
    "        loss_np = loss.detach().cpu().numpy()\n",
    "\n",
    "        train_loss.append(loss_np)\n",
    "        average_loss = sum(train_loss) / len(train_loss)\n",
    "        bar.set_description('loss: %.5f, mean: %.5f' % (loss_np, average_loss))\n",
    "\n",
    "    return float(average_loss)\n",
    "\n",
    "def valid_epoch(model, loader):\n",
    "    model.eval()\n",
    "    val_loss = []\n",
    "    pos_logits = []\n",
    "    neg_logits = []\n",
    "\n",
    "    with torch.no_grad():\n",
    "        for (data, target) in tqdm(loader):\n",
    "            data, target = data.to(device), target.to(device)\n",
    "            logits = model(data.float())\n",
    "\n",
    "            loss = criterion(logits, target)\n",
    "\n",
    "            loss_np = loss.detach().cpu().numpy()\n",
    "\n",
    "            val_loss.append(float(loss_np))\n",
    "\n",
    "            logits = logits.squeeze()\n",
    "            target = target.squeeze()\n",
    "            \n",
    "            for i in range(logits.shape[-1]):\n",
    "                b = target[i].detach().cpu().numpy()\n",
    "                if b == 1:\n",
    "                    pos_logits.append(float(logits[i].detach().cpu().numpy()))\n",
    "                else:\n",
    "                    neg_logits.append(float(logits[i].detach().cpu().numpy()))\n",
    "                    \n",
    "    val_loss_mean = sum(val_loss) / len(val_loss)\n",
    "    \n",
    "    neg_logits_tensor = torch.FloatTensor(neg_logits).cuda()\n",
    "    pos_logits_tensor = torch.FloatTensor(pos_logits).cuda()\n",
    "    \n",
    "    neg_loss = criterion(neg_logits_tensor, torch.zeros(neg_logits_tensor.shape).float().cuda())\n",
    "    pos_loss = criterion(pos_logits_tensor, torch.ones(pos_logits_tensor.shape).float().cuda())\n",
    "    \n",
    "    neg_loss = neg_loss.detach().cpu().numpy()\n",
    "    pos_loss = pos_loss.detach().cpu().numpy()\n",
    "    \n",
    "    neg_mean = float(torch.sigmoid(neg_logits_tensor).mean().detach().cpu().numpy())\n",
    "    pos_mean = float(torch.sigmoid(pos_logits_tensor).mean().detach().cpu().numpy())\n",
    "    \n",
    "    return float(val_loss_mean), float(pos_loss), float(neg_loss), pos_mean, neg_mean\n",
    "\n",
    "def get_optimizer(lr, model):\n",
    "    optimizer = torch.optim.SGD(model.parameters(), lr=lr, momentum=0.9, weight_decay=0.0001)\n",
    "    return optimizer\n",
    "\n",
    "init_lr = 0.1\n",
    "n_epochs = 20\n",
    "device = 'cuda'\n",
    "\n",
    "# reduce LR by gamma three times every 10 epochs\n",
    "# each epoch is 100,000 samples\n",
    "#gamma = 10\n",
    "#schedule = [10, 20, 30]\n",
    "\n",
    "#model = resnext101.to(device)\n",
    "optimizer = get_optimizer(init_lr, model)\n",
    "model.to(device)\n",
    "\n",
    "master_train_loss = []\n",
    "master_valid_loss = []\n",
    "epoch = 1\n",
    "#best_valid_loss = 10\n",
    "\n",
    "\n",
    "while epoch <= n_epochs:\n",
    "    print(time.ctime(), 'Epoch:', epoch)\n",
    "    \n",
    "    # update learning rate \n",
    "    #if epoch in schedule:\n",
    "    #    new_lr = optimizer.param_groups[0][\"lr\"] / gamma\n",
    "     #   optimizer = get_optimizer(new_lr, model)\n",
    "    \n",
    "    #train_loader, valid_loader = get_loaders(epoch)\n",
    "    train_loader = torch.utils.data.DataLoader(train_dataset, batch_size=1,num_workers=1)\n",
    "    valid_loader = torch.utils.data.DataLoader(valid_dataset, batch_size=1,num_workers=1)\n",
    "\n",
    "    # train\n",
    "    train_loss = train_epoch(model, train_loader, optimizer)\n",
    "    optimizer.zero_grad()\n",
    "    \n",
    "    # validate\n",
    "    valid_loss, pos_loss, neg_loss, pos_mean, neg_mean = valid_epoch(model, valid_loader)\n",
    "    #valid_loss = 0\n",
    "    #pos_loss  = 0\n",
    "    #neg_loss = 0\n",
    "    #pos_mean = 0\n",
    "    #neg_mean = 0\n",
    "    \n",
    "    content = time.ctime() + ' ' + f'Epoch {epoch}, lr: {optimizer.param_groups[0][\"lr\"]:.7f}, train loss: {np.mean(train_loss):.5f}, valid loss: {(valid_loss):.5f}'\n",
    "    print(content)\n",
    "    content = f'pos loss: {(pos_loss):.5f}, neg loss: {(neg_loss):.5f}, pos mean: {(pos_mean):.5f}, neg mean {(neg_mean):.5f}'\n",
    "    print(content)\n",
    "    master_train_loss.append(train_loss)\n",
    "    master_valid_loss.append(valid_loss)\n",
    "    \n",
    "    # save loss data and model weights\n",
    "    #with open('train_loss.pkl', 'wb') as f:\n",
    "        #pickle.dump(master_train_loss, f)\n",
    "    #with open('valid_loss.pkl', 'wb') as f:\n",
    "        #pickle.dump(master_valid_loss, f)\n",
    "        \n",
    "        #torch.save(model.state_dict(), 'model-resnext-50-{}.pth'.format(epoch))\n",
    "        #best_valid_loss = valid_loss\n",
    "    \n",
    "    epoch += 1\n",
    "           "
   ]
  },
  {
   "cell_type": "code",
   "execution_count": 55,
   "metadata": {},
   "outputs": [
    {
     "data": {
      "text/plain": [
       "[<matplotlib.lines.Line2D at 0x2b6a6b37ac50>]"
      ]
     },
     "execution_count": 55,
     "metadata": {},
     "output_type": "execute_result"
    },
    {
     "data": {
      "image/png": "[encoded data removed]",
      "text/plain": [
       "<Figure size 432x288 with 1 Axes>"
      ]
     },
     "metadata": {
      "needs_background": "light"
     },
     "output_type": "display_data"
    }
   ],
   "source": [
    "torch.save(model.state_dict(), 'model-combined-lstm2.pth')\n",
    "plt.plot(master_train_loss[:], label='train')\n",
    "plt.plot(master_valid_loss[:], label='valid')"
   ]
  },
  {
   "cell_type": "code",
   "execution_count": 56,
   "metadata": {},
   "outputs": [],
   "source": [
    "with open('train_loss.pkl', 'wb') as f:\n",
    "    pickle.dump(master_train_loss, f)\n",
    "with open('valid_loss.pkl', 'wb') as f:\n",
    "    pickle.dump(master_valid_loss, f)"
   ]
  },
  {
   "cell_type": "code",
   "execution_count": null,
   "metadata": {},
   "outputs": [],
   "source": []
  }
 ],
 "metadata": {
  "kernelspec": {
   "display_name": "Python 3",
   "language": "python",
   "name": "python3"
  },
  "language_info": {
   "codemirror_mode": {
    "name": "ipython",
    "version": 3
   },
   "file_extension": ".py",
   "mimetype": "text/x-python",
   "name": "python",
   "nbconvert_exporter": "python",
   "pygments_lexer": "ipython3",
   "version": "3.7.9"
  }
 },
 "nbformat": 4,
 "nbformat_minor": 4
}
