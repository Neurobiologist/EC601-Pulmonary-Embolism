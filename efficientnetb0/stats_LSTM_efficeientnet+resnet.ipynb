{
 "cells": [
  {
   "cell_type": "code",
   "execution_count": 6,
   "metadata": {},
   "outputs": [],
   "source": [
    "from __future__ import division\n",
    "import argparse\n",
    "import torch\n",
    "import torch.nn.functional as F\n",
    "import torchvision.datasets as dset\n",
    "import torchvision.transforms as T\n",
    "import torchvision.models as models\n",
    "import pandas as pd\n",
    "import os\n",
    "import pydicom\n",
    "import numpy as np\n",
    "import h5py\n",
    "import time\n",
    "from tqdm import tqdm as tqdm\n",
    "import cv2\n",
    "import pickle\n",
    "from shutil import copyfile\n",
    "from matplotlib import pyplot as plt\n",
    "import seaborn as sns\n",
    "import random\n",
    "from torch import nn\n",
    "from torch.autograd import Variable"
   ]
  },
  {
   "cell_type": "code",
   "execution_count": 2,
   "metadata": {},
   "outputs": [],
   "source": [
    "class StudyLevelDataset2(torch.utils.data.Dataset):\n",
    "    \"\"\"Kaggle PE dataset.\"\"\"\n",
    "\n",
    "    def __init__(self, csv_file, stage):\n",
    "        \"\"\"\n",
    "        Args:\n",
    "            csv_file (string): Path to the csv file.\n",
    "            transform (callable, optional): Optional transform to be applied\n",
    "                on a sample.\n",
    "        \"\"\"\n",
    "        self.pedataframe = pd.read_csv(csv_file)\n",
    "        \n",
    "        #self.hdf5_filename = '/scratch/features.hdf5'\n",
    "        self.hdf5_filename1 = '/scratch/efficientb0_features.hdf5'\n",
    "        self.hdf5_filename2 = '/scratch/resnet_features.hdf5'\n",
    "        \n",
    "        self._generate_row_indices_list()\n",
    "        \n",
    "        self.stage = stage\n",
    "        \n",
    "        if self.stage == 'train':\n",
    "            self.start = 0\n",
    "            self.end = 2650\n",
    "        else:\n",
    "            self.start = 2660\n",
    "            self.end = 3500\n",
    "        \n",
    "        # 0 - 2650 train\n",
    "        # 2660 - 3500 valid\n",
    "\n",
    "    def __len__(self):\n",
    "        \"\"\" Return number of 2D images. (Each CT slice is an independent image.)\"\"\"\n",
    "        #return len(self.pedataframe)\n",
    "        return self.end - self.start + 1\n",
    "        #return num_pos_samples_per_dataset + num_neg_samples_per_dataset\n",
    "        \n",
    "    def _generate_row_indices_list(self):\n",
    "        # group slice indices into studies\n",
    "        self.row_indices = [] # index into train df for every study\n",
    "        current_study_id = ''\n",
    "\n",
    "        for slice_index in range(len(self.pedataframe)):\n",
    "            new_study_id = self.pedataframe.StudyInstanceUID[slice_index]\n",
    "            if new_study_id != current_study_id:\n",
    "                self.row_indices.append(slice_index)\n",
    "                current_study_id = new_study_id\n",
    "            if slice_index % 100000 == 0:\n",
    "                print(slice_index)\n",
    "        \n",
    "    def __getitem__(self, study_index):\n",
    "        '''  '''\n",
    "        study_index = study_index + self.start\n",
    "        \n",
    "        #h5py_file = h5py.File(self.hdf5_filename, \"r\")\n",
    "        h5py_file1 = h5py.File(self.hdf5_filename1, \"r\")\n",
    "        h5py_file2 = h5py.File(self.hdf5_filename2, \"r\")\n",
    "        \n",
    "        start_index = self.row_indices[study_index]\n",
    "        if study_index+1 < len(self.row_indices):\n",
    "            stop_index = self.row_indices[study_index+1]\n",
    "        else:\n",
    "            stop_index = len(self.pedataframe)\n",
    "            \n",
    "        # dim: seq_len x embedding_dim\n",
    "        x = np.ones((stop_index-start_index, 3328)) #1280+2048=3328\n",
    "            \n",
    "        for slice_index in range(start_index, stop_index):\n",
    "            data_identifier = 'tensor(' + str(slice_index) + ')'\n",
    "            #slice_embeddings = h5py_file[data_identifier][:]\n",
    "            slice_embeddings = np.concatenate((h5py_file1[data_identifier][:], h5py_file2[data_identifier][:]),axis=0)\n",
    "            x[slice_index-start_index,:] = slice_embeddings\n",
    "\n",
    "            \n",
    "        y = np.ones(9)\n",
    "            \n",
    "        y[0] =  self.pedataframe.negative_exam_for_pe[start_index]\n",
    "        y[1] = self.pedataframe.rv_lv_ratio_gte_1[start_index]\n",
    "        y[2] = self.pedataframe.rv_lv_ratio_lt_1[start_index]\n",
    "        y[3] = self.pedataframe.leftsided_pe[start_index]\n",
    "        y[4] = self.pedataframe.chronic_pe[start_index]\n",
    "        y[5] = self.pedataframe.rightsided_pe[start_index]\n",
    "        y[6] = self.pedataframe.acute_and_chronic_pe[start_index]\n",
    "        y[7] = self.pedataframe.central_pe[start_index]\n",
    "        y[8] = self.pedataframe.indeterminate[start_index]\n",
    "        \n",
    "        h5py_file1.close()\n",
    "        h5py_file2.close()\n",
    "        \n",
    "        return x, y"
   ]
  },
  {
   "cell_type": "code",
   "execution_count": 3,
   "metadata": {},
   "outputs": [
    {
     "name": "stdout",
     "output_type": "stream",
     "text": [
      "0\n",
      "100000\n",
      "200000\n",
      "300000\n",
      "400000\n",
      "500000\n",
      "600000\n",
      "700000\n",
      "800000\n",
      "900000\n",
      "1000000\n",
      "1100000\n",
      "1200000\n",
      "1300000\n",
      "1400000\n",
      "1500000\n",
      "1600000\n",
      "1700000\n"
     ]
    }
   ],
   "source": [
    "data_dir = '/projectnb/ece601/kaggle-pulmonary-embolism/rsna-str-pulmonary-embolism-detection/'\n",
    "train_csv = data_dir + 'train.csv'\n",
    "train_dir = data_dir + 'train/'\n",
    "valid_dataset = StudyLevelDataset2(csv_file=train_csv, stage='valid')"
   ]
  },
  {
   "cell_type": "code",
   "execution_count": 4,
   "metadata": {},
   "outputs": [],
   "source": [
    "'''\n",
    "https://towardsdatascience.com/taming-lstms-variable-sized-mini-batches-and-why-pytorch-is-good-for-your-health-61d35642972e\n",
    "'''\n",
    "\n",
    "batch_size = 1\n",
    "embedding_dim = 3328  #2048+1280=3328\n",
    "nb_lstm_units = 64 #2048\n",
    "\n",
    "class StudyLevelLSTM(nn.Module):\n",
    "    def __init__(self, nb_layers=1, nb_lstm_units=nb_lstm_units, \n",
    "                 embedding_dim=embedding_dim, batch_size=batch_size):\n",
    "        \n",
    "        super(StudyLevelLSTM, self).__init__()\n",
    "\n",
    "        self.nb_layers = nb_layers\n",
    "        self.nb_lstm_units = nb_lstm_units\n",
    "        self.embedding_dim = embedding_dim\n",
    "        self.batch_size = batch_size\n",
    "\n",
    "        self.lstm = nn.LSTM(\n",
    "            input_size=self.embedding_dim,\n",
    "            hidden_size=self.nb_lstm_units,\n",
    "            num_layers=self.nb_layers,\n",
    "            batch_first=True\n",
    "        )\n",
    "\n",
    "        # output layer\n",
    "        self.linear = nn.Linear(self.nb_lstm_units, 9)\n",
    "\n",
    "    def init_hidden(self):\n",
    "        # the weights are of the form (nb_layers, batch_size, nb_lstm_units)\n",
    "        hidden_h0 = torch.randn(self.nb_layers, self.batch_size, self.nb_lstm_units)\n",
    "        hidden_c0 = torch.randn(self.nb_layers, self.batch_size, self.nb_lstm_units)\n",
    "\n",
    "        hidden_h0 = hidden_h0.to(device)\n",
    "        hidden_c0 = hidden_c0.to(device)\n",
    "\n",
    "        hidden_h0 = Variable(hidden_h0)\n",
    "        hidden_c0 = Variable(hidden_c0)\n",
    "\n",
    "        return (hidden_h0.to(device), hidden_c0.to(device))\n",
    "    \n",
    "    def forward(self, X):\n",
    "        # reset the LSTM hidden state. Must be done before you run a new batch. Otherwise the LSTM will treat\n",
    "        # a new batch as a continuation of a sequence\n",
    "        self.hidden = self.init_hidden()\n",
    "\n",
    "        batch_size, seq_len, _ = X.size()\n",
    "\n",
    "        # pack_padded_sequence so that padded items in the sequence won't be shown to the LSTM\n",
    "        #X = torch.nn.utils.rnn.pack_padded_sequence(x, X_lengths, batch_first=True)\n",
    "\n",
    "        # now run through LSTM\n",
    "        X, self.hidden = self.lstm(X, self.hidden)\n",
    "        \n",
    "        X = self.hidden[0]\n",
    "        X = X.contiguous()\n",
    "        X = X.view(-1, X.shape[2])\n",
    "\n",
    "        # run through actual linear layer\n",
    "        X = self.linear(X)\n",
    "\n",
    "        # I like to reshape for mental sanity so we're back to (batch_size, seq_len, nb_tags)\n",
    "        X = X.view(batch_size, 9)\n",
    "\n",
    "        return X"
   ]
  },
  {
   "cell_type": "code",
   "execution_count": 5,
   "metadata": {},
   "outputs": [
    {
     "name": "stdout",
     "output_type": "stream",
     "text": [
      "StudyLevelLSTM(\n",
      "  (lstm): LSTM(3328, 64, batch_first=True)\n",
      "  (linear): Linear(in_features=64, out_features=9, bias=True)\n",
      ")\n",
      "tensor([[-0.0022, -0.0719,  0.0219,  0.0468, -0.0612,  0.1055,  0.0932, -0.1219,\n",
      "          0.1798]], grad_fn=<ViewBackward>)\n",
      "[1. 0. 0. 0. 0. 0. 0. 0. 0.]\n"
     ]
    }
   ],
   "source": [
    "# sanity test\n",
    "\n",
    "model = StudyLevelLSTM()\n",
    "print(model)\n",
    "device = 'cpu'\n",
    "model.to(device)\n",
    "x,y = valid_dataset[1]\n",
    "x = torch.tensor(x)\n",
    "x = x.unsqueeze(0).float()\n",
    "x = x.to(device)\n",
    "\n",
    "pred = model(x)\n",
    "print(pred)\n",
    "print(y)"
   ]
  },
  {
   "cell_type": "code",
   "execution_count": 8,
   "metadata": {},
   "outputs": [
    {
     "data": {
      "text/plain": [
       "<All keys matched successfully>"
      ]
     },
     "execution_count": 8,
     "metadata": {},
     "output_type": "execute_result"
    }
   ],
   "source": [
    "model.load_state_dict(torch.load('/projectnb/ece601/kaggle-pulmonary-embolism/jiamingy/combined_Sequencemodel/model-combined-lstm2.pth'))"
   ]
  },
  {
   "cell_type": "code",
   "execution_count": 9,
   "metadata": {},
   "outputs": [
    {
     "name": "stdout",
     "output_type": "stream",
     "text": [
      "tensor([[ 1.2457, -3.3858, -1.7025, -2.8502, -3.2523, -1.8759, -4.5232, -4.4451,\n",
      "         -3.2315]], grad_fn=<ViewBackward>)\n",
      "[1. 0. 0. 0. 0. 0. 0. 0. 0.]\n"
     ]
    }
   ],
   "source": [
    "pred = model(x)\n",
    "print(pred)\n",
    "print(y)"
   ]
  },
  {
   "cell_type": "code",
   "execution_count": 20,
   "metadata": {},
   "outputs": [],
   "source": [
    "def test(model, loader):\n",
    "    model.eval()\n",
    "    val_loss = []\n",
    "    pos_probs = []\n",
    "    neg_probs = []\n",
    "    y_test = []\n",
    "    y_score = []\n",
    "    \n",
    "    with torch.no_grad():\n",
    "        for (data, target) in tqdm(loader):\n",
    "            data, target = data.to(device), target.to(device)\n",
    "            logits = model(data.float())\n",
    "\n",
    "\n",
    "            logits = logits.squeeze()\n",
    "            target = target.squeeze()\n",
    "            \n",
    "            probs = torch.sigmoid(logits)\n",
    "            \n",
    "            i = 0 # index of PE prediction\n",
    "            b = target[i].detach().cpu().numpy()\n",
    "            if b == 1:\n",
    "                pos_probs.append(float(probs[i].detach().cpu().numpy()))\n",
    "            else:\n",
    "                neg_probs.append(float(probs[i].detach().cpu().numpy()))\n",
    "                \n",
    "            y_score.append(probs[i].detach().cpu().numpy())\n",
    "            y_test.append(b)\n",
    "    \n",
    "    return pos_probs, neg_probs, y_score, y_test"
   ]
  },
  {
   "cell_type": "code",
   "execution_count": 21,
   "metadata": {},
   "outputs": [
    {
     "name": "stderr",
     "output_type": "stream",
     "text": [
      "100%|██████████| 841/841 [02:12<00:00,  6.34it/s]\n"
     ]
    }
   ],
   "source": [
    "valid_loader = torch.utils.data.DataLoader(valid_dataset, batch_size=1,num_workers=1)\n",
    "\n",
    "#\"test\"\n",
    "pos_probs, neg_probs, y_score, y_test = test(model, valid_loader)"
   ]
  },
  {
   "cell_type": "code",
   "execution_count": 22,
   "metadata": {},
   "outputs": [
    {
     "name": "stdout",
     "output_type": "stream",
     "text": [
      "FP:  86  TP:  518 FN:  87 TN:  150\n"
     ]
    }
   ],
   "source": [
    "FN = 0\n",
    "FP = 0\n",
    "TN = 0\n",
    "TP = 0\n",
    "\n",
    "for p in pos_probs:\n",
    "    if p > 0.5:\n",
    "        TP += 1\n",
    "    else:\n",
    "        FN += 1\n",
    "\n",
    "for p in neg_probs:\n",
    "    if p > 0.5:\n",
    "        FP += 1\n",
    "    else:\n",
    "        TN += 1\n",
    "        \n",
    "print(\"FP: \", FP, \" TP: \", TP, \"FN: \", FN, \"TN: \", TN)"
   ]
  },
  {
   "cell_type": "markdown",
   "metadata": {},
   "source": [
    "ROC Curve\n",
    "---------\n",
    "\n",
    "*Caveat*: validation samples were never seen by the LSTM. The negative slices in the validation data were never seen by either CNNs or LSTM. However, all the positive slices in the validation data were seen by the CNN during training."
   ]
  },
  {
   "cell_type": "code",
   "execution_count": 2,
   "metadata": {},
   "outputs": [],
   "source": [
    "from sklearn import svm, datasets\n",
    "from sklearn.metrics import roc_curve, auc\n",
    "from sklearn.model_selection import train_test_split\n",
    "from sklearn.preprocessing import label_binarize\n",
    "from sklearn.multiclass import OneVsRestClassifier\n",
    "from scipy import interp\n",
    "from sklearn.metrics import roc_auc_score\n"
   ]
  },
  {
   "cell_type": "code",
   "execution_count": 4,
   "metadata": {},
   "outputs": [],
   "source": [
    "#https://scikit-learn.org/stable/auto_examples/model_selection/plot_roc.html\n",
    "\n",
    "n_classes = 1\n",
    "\n",
    "# Compute ROC curve and ROC area for each class\n",
    "fpr = dict()\n",
    "tpr = dict()\n",
    "roc_auc = dict()\n",
    "\n",
    "fpr[0], tpr[0], _ = roc_curve(pe_label, pred)\n",
    "roc_auc[0] = auc(fpr[0], tpr[0])\n"
   ]
  },
  {
   "cell_type": "code",
   "execution_count": 8,
   "metadata": {},
   "outputs": [
    {
     "data": {
      "image/png": "[encoded data removed]",
      "text/plain": [
       "<Figure size 432x288 with 1 Axes>"
      ]
     },
     "metadata": {
      "needs_background": "light"
     },
     "output_type": "display_data"
    }
   ],
   "source": [
    "plt.figure()\n",
    "lw = 2\n",
    "plt.plot(fpr[0], tpr[0], color='darkorange',\n",
    "         lw=lw, label='ROC curve (area = %0.2f)' % roc_auc[0])\n",
    "plt.plot([0, 1], [0, 1], color='navy', lw=lw, linestyle='--')\n",
    "plt.xlim([0.0, 1.0])\n",
    "plt.ylim([0.0, 1.05])\n",
    "plt.xlabel('False Positive Rate')\n",
    "plt.ylabel('True Positive Rate')\n",
    "plt.title('EfficientNet-ResNeXt-LSTM model for\\n study-level PE Diagnosis ROC curve (on validation data)')\n",
    "plt.legend(loc=\"lower right\")\n",
    "plt.show()"
   ]
  },
  {
   "cell_type": "code",
   "execution_count": 41,
   "metadata": {},
   "outputs": [],
   "source": [
    "import pickle\n",
    "\n",
    "with open('pe_label.pkl', 'wb') as f:\n",
    "    pickle.dump(y_test, f)\n",
    "\n",
    "with open('pred.pkl', 'wb') as f:\n",
    "    pickle.dump(y_score, f)\n"
   ]
  },
  {
   "cell_type": "code",
   "execution_count": 1,
   "metadata": {},
   "outputs": [],
   "source": [
    "import pickle\n",
    "with open('pe_label.pkl', 'rb') as f:\n",
    "    pe_label = pickle.load(f)\n",
    "\n",
    "with open('pred.pkl', 'rb') as f:\n",
    "    pred = pickle.load(f)"
   ]
  },
  {
   "cell_type": "code",
   "execution_count": 5,
   "metadata": {},
   "outputs": [],
   "source": [
    "from sklearn import svm, datasets\n",
    "from sklearn.model_selection import train_test_split\n",
    "from sklearn.metrics import plot_confusion_matrix"
   ]
  },
  {
   "cell_type": "code",
   "execution_count": 7,
   "metadata": {},
   "outputs": [
    {
     "ename": "NameError",
     "evalue": "name 'classifier' is not defined",
     "output_type": "error",
     "traceback": [
      "\u001b[0;31m---------------------------------------------------------------------------\u001b[0m",
      "\u001b[0;31mNameError\u001b[0m                                 Traceback (most recent call last)",
      "\u001b[0;32m<ipython-input-7-2c7cd94a8ba5>\u001b[0m in \u001b[0;36m<module>\u001b[0;34m\u001b[0m\n\u001b[1;32m      2\u001b[0m \u001b[0;34m\u001b[0m\u001b[0m\n\u001b[1;32m      3\u001b[0m \u001b[0;31m# Plot non-normalized confusion matrix\u001b[0m\u001b[0;34m\u001b[0m\u001b[0;34m\u001b[0m\u001b[0;34m\u001b[0m\u001b[0m\n\u001b[0;32m----> 4\u001b[0;31m disp = plot_confusion_matrix(classifier, pred, pe_label,\n\u001b[0m\u001b[1;32m      5\u001b[0m                                  \u001b[0;31m#display_labels=class_names,\u001b[0m\u001b[0;34m\u001b[0m\u001b[0;34m\u001b[0m\u001b[0;34m\u001b[0m\u001b[0m\n\u001b[1;32m      6\u001b[0m                                  \u001b[0mcmap\u001b[0m\u001b[0;34m=\u001b[0m\u001b[0mplt\u001b[0m\u001b[0;34m.\u001b[0m\u001b[0mcm\u001b[0m\u001b[0;34m.\u001b[0m\u001b[0mBlues\u001b[0m\u001b[0;34m,\u001b[0m\u001b[0;34m\u001b[0m\u001b[0;34m\u001b[0m\u001b[0m\n",
      "\u001b[0;31mNameError\u001b[0m: name 'classifier' is not defined"
     ]
    }
   ],
   "source": [
    "np.set_printoptions(precision=2)\n",
    "\n",
    "# Plot non-normalized confusion matrix\n",
    "disp = plot_confusion_matrix(classifier, pred, pe_label,\n",
    "                                 #display_labels=class_names,\n",
    "                                 cmap=plt.cm.Blues,\n",
    "                                 #normalize=normalize\n",
    "                                )\n",
    "disp.ax_.set_title(title)\n",
    "\n",
    "print(title)\n",
    "print(disp.confusion_matrix)\n",
    "\n",
    "plt.show()"
   ]
  },
  {
   "cell_type": "code",
   "execution_count": null,
   "metadata": {},
   "outputs": [],
   "source": []
  }
 ],
 "metadata": {
  "kernelspec": {
   "display_name": "Python 3",
   "language": "python",
   "name": "python3"
  },
  "language_info": {
   "codemirror_mode": {
    "name": "ipython",
    "version": 3
   },
   "file_extension": ".py",
   "mimetype": "text/x-python",
   "name": "python",
   "nbconvert_exporter": "python",
   "pygments_lexer": "ipython3",
   "version": "3.7.7"
  }
 },
 "nbformat": 4,
 "nbformat_minor": 4
}
